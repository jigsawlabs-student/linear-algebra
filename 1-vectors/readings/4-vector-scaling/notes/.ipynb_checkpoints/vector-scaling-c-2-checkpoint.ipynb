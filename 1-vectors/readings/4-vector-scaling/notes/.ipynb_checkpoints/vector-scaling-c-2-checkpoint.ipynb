{
 "cells": [
  {
   "cell_type": "markdown",
   "metadata": {},
   "source": [
    "Above, \n",
    "* the orange line is the original vector, $ a= \\begin{pmatrix}\n",
    "    200 \\\\\n",
    "    500 \\\\\n",
    "\\end{pmatrix}$\n",
    "* The green line is the vector $2a$\n",
    "\n",
    "* The blue line is the vector $\\frac{1}{2}a$"
   ]
  },
  {
   "cell_type": "markdown",
   "metadata": {},
   "source": [
    "So we see the following in mulitplying a vector by a scalar, \n",
    "1. The vector stays pointing the same direction and \n",
    "2. The multiplication just stretches or shrinks the vector proportionally in each direction.  \n",
    "\n",
    "To accomplish this, we multiply each component of the vector by the same number."
   ]
  },
  {
   "cell_type": "markdown",
   "metadata": {},
   "source": [
    "### Summary"
   ]
  },
  {
   "cell_type": "markdown",
   "metadata": {},
   "source": [
    "In this lesson we learned how to perform scalar multiplication of a vector.  We saw that we perform scalar multiplication by multiplying each entry in the vector, which returns a vector of the same length of the original."
   ]
  },
  {
   "cell_type": "code",
   "execution_count": 4,
   "metadata": {},
   "outputs": [
    {
     "data": {
      "text/plain": [
       "array([ 400, 1000, 2000, 4000, 6000])"
      ]
     },
     "execution_count": 4,
     "metadata": {},
     "output_type": "execute_result"
    }
   ],
   "source": [
    "import numpy as np\n",
    "a = np.array([200, 500, 1000, 2000, 3000])\n",
    "a*2"
   ]
  },
  {
   "cell_type": "markdown",
   "metadata": {},
   "source": [
    "We also saw that, visually, scalar multiplication simply shrinks or stretches the length of a vector, with the vector maintiaining the same direction as the original vector."
   ]
  }
 ],
 "metadata": {
  "kernelspec": {
   "display_name": "Python 3",
   "language": "python",
   "name": "python3"
  },
  "language_info": {
   "codemirror_mode": {
    "name": "ipython",
    "version": 3
   },
   "file_extension": ".py",
   "mimetype": "text/x-python",
   "name": "python",
   "nbconvert_exporter": "python",
   "pygments_lexer": "ipython3",
   "version": "3.7.3"
  }
 },
 "nbformat": 4,
 "nbformat_minor": 2
}
