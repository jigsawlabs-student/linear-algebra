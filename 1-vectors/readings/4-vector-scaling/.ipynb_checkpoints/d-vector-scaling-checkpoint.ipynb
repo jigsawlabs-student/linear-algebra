{
 "cells": [
  {
   "cell_type": "markdown",
   "metadata": {},
   "source": [
    "# Vector Scaling "
   ]
  },
  {
   "cell_type": "markdown",
   "metadata": {},
   "source": [
    "### Introduction"
   ]
  },
  {
   "cell_type": "markdown",
   "metadata": {},
   "source": [
    "Now there are two main operations that we perform in linear algebra, multiplication and adding.  Let's start by learning how to multiply a vector."
   ]
  },
  {
   "cell_type": "markdown",
   "metadata": {},
   "source": [
    "### Making predictions"
   ]
  },
  {
   "cell_type": "markdown",
   "metadata": {},
   "source": [
    "Let's assume that we have **already performed linear regression**.  And through linear regression analysis, we determined that \n",
    "   * For every dollar spent on advertising, we sell two T-shirts."
   ]
  },
  {
   "cell_type": "markdown",
   "metadata": {},
   "source": [
    "|ad spending    | \n",
    "| :-------------: |\n",
    "|    200        |\n",
    "|    500        |\n",
    "|    1000      | \n",
    "|    2000      | \n",
    "|    3000      | "
   ]
  },
  {
   "cell_type": "markdown",
   "metadata": {},
   "source": [
    "Now remember that we believe that ad spending multiplied by some number equals the number of T-shirts sold.  So when we try to predict the number of T-shirts sold we write it as the following:\n",
    "\n",
    "$$200x $$\n",
    "$$500x $$\n",
    "$$1000x$$\n",
    "$$2000x  $$\n",
    "$$3000x $$"
   ]
  },
  {
   "cell_type": "markdown",
   "metadata": {},
   "source": [
    "### What's the problem?"
   ]
  },
  {
   "cell_type": "markdown",
   "metadata": {},
   "source": [
    "$\\begin{pmatrix}\n",
    "    200 \\\\\n",
    "    500 \\\\\n",
    "    1000 \\\\\n",
    "    2000 \\\\\n",
    "    3000 \\\\\n",
    "\\end{pmatrix} $\n"
   ]
  },
  {
   "cell_type": "markdown",
   "metadata": {},
   "source": [
    "* using numpy "
   ]
  },
  {
   "cell_type": "code",
   "execution_count": 1,
   "metadata": {},
   "outputs": [],
   "source": [
    "import numpy as np\n",
    "a = np.array([200, 500, 1000, 2000, 3000])"
   ]
  },
  {
   "cell_type": "markdown",
   "metadata": {},
   "source": [
    "Takeaways: \n",
    "   * dimensions returned \n",
    "   * calculated by"
   ]
  },
  {
   "cell_type": "markdown",
   "metadata": {},
   "source": [
    "### Vector multiplication graphically"
   ]
  },
  {
   "cell_type": "markdown",
   "metadata": {},
   "source": [
    "|ad spending    | \n",
    "| :-------------: |\n",
    "|    200        |\n",
    "|    500        | "
   ]
  },
  {
   "cell_type": "markdown",
   "metadata": {},
   "source": [
    "$$ a= \\begin{pmatrix}\n",
    "    200 \\\\\n",
    "    500 \\\\\n",
    "\\end{pmatrix}$$"
   ]
  },
  {
   "cell_type": "code",
   "execution_count": 3,
   "metadata": {},
   "outputs": [],
   "source": [
    "from graph import plot\n",
    "import plotly.plotly as py\n",
    "\n",
    "# trace1 =dict(mode='lines+markers', x=[0, 1600], y=[0, 3000], name = '2*a', line=dict(width=1))\n",
    "# trace =dict(mode='lines+markers', x=[0, 800], y=[0, 1500], name = 'a',line = dict(width = 2))\n",
    "# trace2 =dict(mode='lines+markers', x=[0, 400], y=[0, 750], name = '1/2*a', line=dict(width=3))\n",
    "# plot([trace2, trace, trace1], {'xaxis': {'range': [0, 2000]}, 'yaxis': {'range': [0, 3500]}})"
   ]
  }
 ],
 "metadata": {
  "kernelspec": {
   "display_name": "Python 3",
   "language": "python",
   "name": "python3"
  },
  "language_info": {
   "codemirror_mode": {
    "name": "ipython",
    "version": 3
   },
   "file_extension": ".py",
   "mimetype": "text/x-python",
   "name": "python",
   "nbconvert_exporter": "python",
   "pygments_lexer": "ipython3",
   "version": "3.7.3"
  }
 },
 "nbformat": 4,
 "nbformat_minor": 2
}
