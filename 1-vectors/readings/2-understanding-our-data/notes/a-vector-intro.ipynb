{
 "cells": [
  {
   "cell_type": "markdown",
   "metadata": {},
   "source": [
    "# Breaking down our data"
   ]
  },
  {
   "cell_type": "markdown",
   "metadata": {},
   "source": [
    "### Introduction"
   ]
  },
  {
   "cell_type": "markdown",
   "metadata": {},
   "source": [
    "Let's return to our problem of predicting T-shirt sales."
   ]
  },
  {
   "cell_type": "markdown",
   "metadata": {},
   "source": [
    "|ad spending        | t-shirts           \n",
    "| ------------- |:-------------:| \n",
    "|    800        | 330  | \n",
    "|    1500        |780 | \n",
    "|    2000      | 1130 | \n",
    "|    3500      | 1310 | \n",
    "|    4000      | 1780 | "
   ]
  },
  {
   "cell_type": "markdown",
   "metadata": {},
   "source": [
    "We have `ad spending` as our feature and our target variable is the number of T-shirts that are sold.  And, as we know, we can try to use ad spending to predict the number of T-shirts that are sold, by transforming the above into a system of linear equations, where we are trying to solve for our coefficient $x$ such that:"
   ]
  },
  {
   "cell_type": "markdown",
   "metadata": {},
   "source": [
    "$$800x = 330 $$\n",
    "$$1500x = 780 $$\n",
    "$$2000x = 1130 $$\n",
    "$$3500x = 1310 $$\n",
    "$$4000x = 1780$$"
   ]
  },
  {
   "cell_type": "markdown",
   "metadata": {},
   "source": [
    "And we can rewrite this system of linear equations as $ax = b$ where $a$ and $b$ are defined as the following:"
   ]
  },
  {
   "cell_type": "markdown",
   "metadata": {},
   "source": [
    "$a = \\begin{pmatrix}\n",
    "    800 \\\\\n",
    "    1500 \\\\\n",
    "    2000 \\\\\n",
    "    3500 \\\\\n",
    "    4000 \\\\\n",
    "\\end{pmatrix},  b =  \\begin{pmatrix}\n",
    "330   \\\\\n",
    "780 \\\\\n",
    "1130 \\\\\n",
    "1310 \\\\\n",
    "1780 \\\\\n",
    "\\end{pmatrix}$ "
   ]
  },
  {
   "cell_type": "markdown",
   "metadata": {},
   "source": [
    "Now both $a$ and $b$ are called vectors.  It's time to explore what this means."
   ]
  }
 ],
 "metadata": {
  "kernelspec": {
   "display_name": "Python 3",
   "language": "python",
   "name": "python3"
  },
  "language_info": {
   "codemirror_mode": {
    "name": "ipython",
    "version": 3
   },
   "file_extension": ".py",
   "mimetype": "text/x-python",
   "name": "python",
   "nbconvert_exporter": "python",
   "pygments_lexer": "ipython3",
   "version": "3.7.4"
  }
 },
 "nbformat": 4,
 "nbformat_minor": 4
}
