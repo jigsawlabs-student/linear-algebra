{
 "cells": [
  {
   "cell_type": "markdown",
   "metadata": {},
   "source": [
    "So it's just a line that begins at 0 and moves one unit in the x direction.  That's why we would describe the vector $c = \\begin{pmatrix}\n",
    "    1 \\\\\n",
    "\\end{pmatrix}$ as $c \\in \\mathbb{R}^1$, because $c$ is a vector that lies in our one dimensional space, the number line above."
   ]
  },
  {
   "cell_type": "markdown",
   "metadata": {},
   "source": [
    "Here's how we can view the vector\n",
    "$d = \\begin{pmatrix}\n",
    "    1 \\\\\n",
    "    4 \\\\\n",
    "\\end{pmatrix}$"
   ]
  }
 ],
 "metadata": {
  "kernelspec": {
   "display_name": "Python 3",
   "language": "python",
   "name": "python3"
  },
  "language_info": {
   "codemirror_mode": {
    "name": "ipython",
    "version": 3
   },
   "file_extension": ".py",
   "mimetype": "text/x-python",
   "name": "python",
   "nbconvert_exporter": "python",
   "pygments_lexer": "ipython3",
   "version": "3.7.3"
  }
 },
 "nbformat": 4,
 "nbformat_minor": 2
}
