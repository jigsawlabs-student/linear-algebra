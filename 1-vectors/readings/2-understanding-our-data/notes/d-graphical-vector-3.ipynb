{
 "cells": [
  {
   "cell_type": "markdown",
   "metadata": {},
   "source": [
    "So here to represent our vector $d = \\begin{pmatrix}\n",
    "    1 \\\\\n",
    "    4 \\\\\n",
    "\\end{pmatrix}$ we just move one in the x direction and four vertically, so we represent this in two dimensional space."
   ]
  },
  {
   "cell_type": "markdown",
   "metadata": {},
   "source": [
    "So now when you see something $x \\in \\mathbb{R}^3$, we can read this as $x$ is an element of the set of vectors that sits in three dimensional space."
   ]
  },
  {
   "cell_type": "markdown",
   "metadata": {},
   "source": [
    "### Summary"
   ]
  },
  {
   "cell_type": "markdown",
   "metadata": {},
   "source": [
    "In this lesson, we learned about vectors.  Vectors are an ordered list of values.  For clarity, we may write variables with an arrow to express that they represent a vector, $\\vec x$.  And we also may denote a vector $x$ as $x \\in \\mathbb{R}^n$ where $n$ is the number of entries.  Finally, we can refer to a specific entry in a vector with the notation $x_i$ where i refers to the index of an entry.  Unlike in programming, in math we begin with the index of 1 instead of 0. "
   ]
  }
 ],
 "metadata": {
  "kernelspec": {
   "display_name": "Python 3",
   "language": "python",
   "name": "python3"
  },
  "language_info": {
   "codemirror_mode": {
    "name": "ipython",
    "version": 3
   },
   "file_extension": ".py",
   "mimetype": "text/x-python",
   "name": "python",
   "nbconvert_exporter": "python",
   "pygments_lexer": "ipython3",
   "version": "3.7.3"
  }
 },
 "nbformat": 4,
 "nbformat_minor": 2
}
