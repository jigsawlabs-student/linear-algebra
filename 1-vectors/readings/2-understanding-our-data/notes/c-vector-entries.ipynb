{
 "cells": [
  {
   "cell_type": "markdown",
   "metadata": {},
   "source": [
    "### Vector Entries\n",
    "\n",
    "Now just like we have elements of a list, we also have elements of a vector.  More often, however, we use the word *entries* to describe each component of our vector.  Below, we show the entries of a new vector $y$.\n",
    "\n",
    "$y = \\begin{bmatrix}\n",
    "    40 \\\\\n",
    "    22 \\\\\n",
    "    85 \\\\\n",
    "    90 \\\\\n",
    "    76 \\\\\n",
    "\\end{bmatrix}$\n",
    "\n",
    "Just like we can specify an element in a list, with the index, we can do the same thing in a vector.  For example, if we wish to specify the number 40 in our vector, we can refer to it as $y_1$.  To specify the second entry, 22, we use the subscript $y_2$.  So notice that in mathematics, unlike in programming, our indices start at the number one, instead of zero."
   ]
  }
 ],
 "metadata": {
  "kernelspec": {
   "display_name": "Python 3",
   "language": "python",
   "name": "python3"
  },
  "language_info": {
   "codemirror_mode": {
    "name": "ipython",
    "version": 3
   },
   "file_extension": ".py",
   "mimetype": "text/x-python",
   "name": "python",
   "nbconvert_exporter": "python",
   "pygments_lexer": "ipython3",
   "version": "3.7.4"
  }
 },
 "nbformat": 4,
 "nbformat_minor": 4
}
