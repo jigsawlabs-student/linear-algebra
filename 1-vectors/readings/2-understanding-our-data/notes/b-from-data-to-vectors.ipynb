{
 "cells": [
  {
   "cell_type": "markdown",
   "metadata": {},
   "source": [
    "## Vectors: The official introduction"
   ]
  },
  {
   "cell_type": "markdown",
   "metadata": {},
   "source": [
    "**Vectors** are an ordered list of numbers."
   ]
  },
  {
   "cell_type": "markdown",
   "metadata": {},
   "source": [
    "$a = \\begin{pmatrix}\n",
    "    800 \\\\\n",
    "    1500 \\\\\n",
    "    2000 \\\\\n",
    "    3500 \\\\\n",
    "    4000 \\\\\n",
    "\\end{pmatrix}$"
   ]
  },
  {
   "cell_type": "markdown",
   "metadata": {},
   "source": [
    "### Vector Notation"
   ]
  },
  {
   "cell_type": "markdown",
   "metadata": {},
   "source": [
    "Now you may have noticed that vectors in mathematics look pretty similar to a list in Python.  Well they are similar.  But one problem that we have with math and vectors, is that we miss some of the functionality that we get with list.  \n",
    "\n",
    "For example, we know how to inspect a list."
   ]
  },
  {
   "cell_type": "code",
   "execution_count": 2,
   "metadata": {},
   "outputs": [],
   "source": [
    "b = [800,1500,2000,3500,4000]"
   ]
  },
  {
   "cell_type": "markdown",
   "metadata": {},
   "source": [
    "We just call `b` in a cell."
   ]
  },
  {
   "cell_type": "code",
   "execution_count": 3,
   "metadata": {},
   "outputs": [
    {
     "data": {
      "text/plain": [
       "[800, 1500, 2000, 3500, 4000]"
      ]
     },
     "execution_count": 3,
     "metadata": {},
     "output_type": "execute_result"
    }
   ],
   "source": [
    "b"
   ]
  },
  {
   "cell_type": "markdown",
   "metadata": {},
   "source": [
    "However, in math, if we just reference the variable $x$, it may be confusing as to whether $x$ is defined as a vector, or a number, or something else.  To make this more clear, mathematicians can add some clarifying notation.  "
   ]
  },
  {
   "cell_type": "markdown",
   "metadata": {},
   "source": [
    "$ \\vec x $"
   ]
  },
  {
   "cell_type": "markdown",
   "metadata": {},
   "source": [
    "That little arrow above the variable $x$, identifies the variable $x$ as a vector, meaning that it represents a list of values, as opposed to say a single value.  Here is another way that we can specify that we are describing a vector.  "
   ]
  },
  {
   "cell_type": "markdown",
   "metadata": {},
   "source": [
    "$x \\in \\mathbb{R}^n$"
   ]
  },
  {
   "cell_type": "markdown",
   "metadata": {},
   "source": [
    "Let's break down these symbols.\n",
    "* **The $\\mathbb{R}$** \n",
    "    * indicates that all of the entries are **real numbers**\n",
    "    * Real numbers are just numbers, and that's what we'll be working with most of the time.  \n",
    "    * Just for comparison, let's look at a vector not of real numbers, but rather a vector of booleans.\n",
    "    * $ b = \\left< True, False, True, True, True \\right>$\n",
    "    \n",
    "    \n",
    "* The $n$ in $ \\mathbb{R}^n$ \n",
    "    * indicates the **length** or **rank** of the vector.  \n",
    "    * For example, if we want to describe a vector $c$ with five entries we can write $c \\in \\mathbb{R}^5$ .\n",
    "    \n",
    "* The $\\in$\n",
    "    * is read as element\n",
    "    * So for example when $c \\in \\mathbb{R}^3$ we read this as $c$ is an element of the real number space of dimension 3."
   ]
  }
 ],
 "metadata": {
  "kernelspec": {
   "display_name": "Python 3",
   "language": "python",
   "name": "python3"
  },
  "language_info": {
   "codemirror_mode": {
    "name": "ipython",
    "version": 3
   },
   "file_extension": ".py",
   "mimetype": "text/x-python",
   "name": "python",
   "nbconvert_exporter": "python",
   "pygments_lexer": "ipython3",
   "version": "3.7.4"
  }
 },
 "nbformat": 4,
 "nbformat_minor": 4
}
