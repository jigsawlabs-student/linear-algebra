{
 "cells": [
  {
   "cell_type": "markdown",
   "metadata": {},
   "source": [
    "As you can see we add vectors by starting one of the vectors from the origin and then tacking on the second vector.  So above, when we add $$ a_1= \\begin{pmatrix}\n",
    "    200 \\\\\n",
    "    500 \\\\\n",
    "\\end{pmatrix}, a_2 = \\begin{pmatrix}\n",
    "    800 \\\\\n",
    "    600 \\\\\n",
    "\\end{pmatrix}$$"
   ]
  },
  {
   "cell_type": "markdown",
   "metadata": {},
   "source": [
    "We start with moving 200 right and 500 vertically with vector $a_1$.  Then from the end of vector $a_1$, we move 800 to the right and an additional 600 vertically."
   ]
  },
  {
   "cell_type": "markdown",
   "metadata": {},
   "source": [
    "Now remember that this graph is to represent the following formulas."
   ]
  },
  {
   "cell_type": "markdown",
   "metadata": {},
   "source": [
    "$$200 + 800 = 1000 $$\n",
    "$$500 + 600 = 1100 $$\n"
   ]
  },
  {
   "cell_type": "markdown",
   "metadata": {},
   "source": [
    "And that the solutions we arrive with the above formulas are the coordinates at the end of our vector addition, $(1000, 1100)$.  \n",
    "\n",
    "So visually, we can think of each axis, our x-axis and y-axis each being dedicated to a different observation: \n",
    "* moving along the $x$ axis is reserved for our first equation, and\n",
    "* moving vertically along the $y$ axis is reserved for the second equation.  "
   ]
  }
 ],
 "metadata": {
  "kernelspec": {
   "display_name": "Python 3",
   "language": "python",
   "name": "python3"
  },
  "language_info": {
   "codemirror_mode": {
    "name": "ipython",
    "version": 3
   },
   "file_extension": ".py",
   "mimetype": "text/x-python",
   "name": "python",
   "nbconvert_exporter": "python",
   "pygments_lexer": "ipython3",
   "version": "3.7.3"
  }
 },
 "nbformat": 4,
 "nbformat_minor": 2
}
