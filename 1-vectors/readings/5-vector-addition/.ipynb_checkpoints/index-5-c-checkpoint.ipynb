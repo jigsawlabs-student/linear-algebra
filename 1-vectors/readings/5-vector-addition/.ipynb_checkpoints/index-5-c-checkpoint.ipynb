{
 "cells": [
  {
   "cell_type": "markdown",
   "metadata": {},
   "source": [
    "# Working with Matrices"
   ]
  },
  {
   "cell_type": "markdown",
   "metadata": {},
   "source": [
    "### Back to our domain"
   ]
  },
  {
   "cell_type": "markdown",
   "metadata": {},
   "source": [
    "Let's keep our domain of T-shirt sales and move to using the following dataset."
   ]
  },
  {
   "cell_type": "markdown",
   "metadata": {},
   "source": [
    "|ad spending    | price|t-shirts           \n",
    "| ------------- |------|:-------------:| \n",
    "|    800        | 13  | 330  | \n",
    "|    1500        |11 | 780  | \n",
    "|    2000      | 9 | 1130  | \n",
    "|    3500      | 10 | 1310  | \n",
    "|    4000      | 8 | 1780  | "
   ]
  },
  {
   "cell_type": "markdown",
   "metadata": {},
   "source": [
    "Now we have already seen that we can think of the grid above as a set of vectors."
   ]
  },
  {
   "cell_type": "markdown",
   "metadata": {},
   "source": [
    "$a_1 =  \\begin{pmatrix}\n",
    "800   \\\\\n",
    "1500 \\\\\n",
    "2000 \\\\\n",
    "3500 \\\\\n",
    "4000 \\\\\n",
    "\\end{pmatrix}, a_2 =  \\begin{pmatrix}\n",
    "13   \\\\\n",
    "11 \\\\\n",
    "9 \\\\\n",
    "10 \\\\\n",
    "8 \\\\\n",
    "\\end{pmatrix}, b =  \\begin{pmatrix}\n",
    "330   \\\\\n",
    "780 \\\\\n",
    "1130 \\\\\n",
    "1310 \\\\\n",
    "1780 \\\\\n",
    "\\end{pmatrix}$ "
   ]
  },
  {
   "cell_type": "markdown",
   "metadata": {},
   "source": [
    "More commonly, however, machine learning engineers will represent all of our feature variables as a single collection, and then the target variables as a separate vector, like so:"
   ]
  },
  {
   "cell_type": "markdown",
   "metadata": {},
   "source": [
    "$A =  \\begin{pmatrix}\n",
    "800 & 13  \\\\\n",
    "1500 & 11 \\\\\n",
    "2000 & 9 \\\\\n",
    "3500 & 10 \\\\\n",
    "4000 & 8 \\\\\n",
    "\\end{pmatrix}, b = \\begin{pmatrix}\n",
    "    800 \\\\\n",
    "    1500 \\\\\n",
    "    2000 \\\\\n",
    "    3500 \\\\\n",
    "    4000 \\\\\n",
    "\\end{pmatrix}$"
   ]
  },
  {
   "cell_type": "markdown",
   "metadata": {},
   "source": [
    "The other variable, A, is a matrix.\n",
    "\n",
    "Let's learn more."
   ]
  },
  {
   "cell_type": "markdown",
   "metadata": {},
   "source": [
    "### Introduction to matrices"
   ]
  },
  {
   "cell_type": "markdown",
   "metadata": {},
   "source": [
    "> A **matrix** is a rectangular array  of values, arranged in rows and columns."
   ]
  },
  {
   "cell_type": "markdown",
   "metadata": {},
   "source": [
    "It's convention to use a capitalized variable to represent a matrix, while we conventionally use lower case variables to describe a vector.  \n",
    "\n",
    "Just like with a vector, we can also describe a matrix by it's rank or dimensions.  For example, we can represent the matrix A above as the following:\n",
    "\n",
    "$$A \\in \\mathbb{R}^{5x2}$$"
   ]
  },
  {
   "cell_type": "markdown",
   "metadata": {},
   "source": [
    "where 5 represents the number of rows and two represents the number of columns."
   ]
  },
  {
   "cell_type": "markdown",
   "metadata": {},
   "source": [
    "To describe matrices in general we say that $A \\in \\mathbb{R}^{mxn}$ where $m$ is the number of rows of the matrix and $n$ is the number of columns."
   ]
  },
  {
   "cell_type": "markdown",
   "metadata": {},
   "source": [
    "### Specifying entries of a matrix"
   ]
  },
  {
   "cell_type": "markdown",
   "metadata": {},
   "source": [
    "This is how we can describe the entries of a matrix."
   ]
  },
  {
   "cell_type": "markdown",
   "metadata": {},
   "source": [
    "$ \n",
    "C = \\left[\\begin{array}{cccc} \n",
    "C_{11} & C_{12} & \\cdots & C_{1n} \\\\ \n",
    "C_{21} & C_{22} & \\cdots & C_{2n} \\\\ \n",
    "\\vdots & \\vdots & \\ddots & \\vdots \\\\ \n",
    "C_{m1} & C_{m2} & \\cdots & C_{mn}\n",
    "\\end{array} \\right ] $ "
   ]
  },
  {
   "cell_type": "markdown",
   "metadata": {},
   "source": [
    "As you can see, the first number indicates the row of our entry, and the second number represents the column of a matrix."
   ]
  },
  {
   "cell_type": "markdown",
   "metadata": {},
   "source": [
    "Let's go back to our original matrix $A$ and specify some of the entries."
   ]
  },
  {
   "cell_type": "markdown",
   "metadata": {},
   "source": [
    "$A =  \\begin{pmatrix}\n",
    "800 & 13  \\\\\n",
    "1500 & 11 \\\\\n",
    "2000 & 9 \\\\\n",
    "3500 & 10 \\\\\n",
    "4000 & 8 \\\\\n",
    "\\end{pmatrix}$ "
   ]
  },
  {
   "cell_type": "markdown",
   "metadata": {},
   "source": [
    "So if we like to specify the number 9 in our matrix $A$, we can do so just by specifying the row followed by the column: \n",
    "\n",
    "$$ A_{32} = 9$$"
   ]
  },
  {
   "cell_type": "markdown",
   "metadata": {},
   "source": [
    "To describe the entire matrix, A, we would say $A \\in \\mathbb{R}^{5x2}.$ "
   ]
  },
  {
   "cell_type": "markdown",
   "metadata": {},
   "source": [
    "## Summary"
   ]
  },
  {
   "cell_type": "markdown",
   "metadata": {},
   "source": [
    "In this lesson, we learned about working with matrices.  We saw that matrices are a rectangular array of values consisting of both rows and columns.  We often represent our set of feature variables as a matrix, with each row representing an observation, and each column a separate feature.  We saw that we can describe a particular entry in a matrix by first specifying the row of a matrix and then the column."
   ]
  }
 ],
 "metadata": {
  "kernelspec": {
   "display_name": "Python 3",
   "language": "python",
   "name": "python3"
  },
  "language_info": {
   "codemirror_mode": {
    "name": "ipython",
    "version": 3
   },
   "file_extension": ".py",
   "mimetype": "text/x-python",
   "name": "python",
   "nbconvert_exporter": "python",
   "pygments_lexer": "ipython3",
   "version": "3.7.3"
  }
 },
 "nbformat": 4,
 "nbformat_minor": 2
}
