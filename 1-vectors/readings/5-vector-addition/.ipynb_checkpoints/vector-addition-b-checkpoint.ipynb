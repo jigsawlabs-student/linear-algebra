{
 "cells": [
  {
   "cell_type": "markdown",
   "metadata": {},
   "source": [
    "### Adding two vectors"
   ]
  },
  {
   "cell_type": "markdown",
   "metadata": {},
   "source": [
    "We left off with the following expression:"
   ]
  },
  {
   "cell_type": "markdown",
   "metadata": {},
   "source": [
    "$\\begin{pmatrix}\n",
    "    200 \\\\\n",
    "    500 \\\\\n",
    "    1000 \\\\\n",
    "    2000 \\\\\n",
    "    3000 \\\\\n",
    "\\end{pmatrix}  + \\begin{pmatrix}\n",
    "    800 \\\\\n",
    "    600 \\\\\n",
    "    700 \\\\\n",
    "    300 \\\\\n",
    "    100\\\\\n",
    "\\end{pmatrix}$"
   ]
  },
  {
   "cell_type": "markdown",
   "metadata": {},
   "source": [
    "which we can reduce to the following: "
   ]
  },
  {
   "cell_type": "markdown",
   "metadata": {},
   "source": [
    "$\\begin{pmatrix}\n",
    "    200 \\\\\n",
    "    500 \\\\\n",
    "    1000 \\\\\n",
    "    2000 \\\\\n",
    "    3000 \\\\\n",
    "\\end{pmatrix}  + \\begin{pmatrix}\n",
    "    800 \\\\\n",
    "    600 \\\\\n",
    "    700 \\\\\n",
    "    300 \\\\\n",
    "    100\\\\\n",
    "\\end{pmatrix} =  \n",
    "\\begin{pmatrix}\n",
    "    200 + 800\\\\\n",
    "    500 + 600\\\\\n",
    "    1000 + 700\\\\\n",
    "    2000 + 300\\\\\n",
    "    3000 + 100\\\\\n",
    "\\end{pmatrix} = \n",
    "\\begin{pmatrix}\n",
    "    1000\\\\\n",
    "    1100\\\\\n",
    "    1700\\\\\n",
    "    2300\\\\\n",
    "    3100\\\\\n",
    "\\end{pmatrix}\n",
    "$"
   ]
  },
  {
   "cell_type": "markdown",
   "metadata": {},
   "source": [
    "So with vector addition, we just pair together the two vectors by their coordinates, and then perform entrywise addition.  So we just calculated in our first entry that when we spend $200$ in advertising and $800$ on sales we will sell $1000$ T-shirts."
   ]
  },
  {
   "cell_type": "markdown",
   "metadata": {},
   "source": [
    "Now, let's make the same calculate with numpy."
   ]
  },
  {
   "cell_type": "code",
   "execution_count": 3,
   "metadata": {},
   "outputs": [],
   "source": [
    "import numpy as np\n",
    "a_1 = np.array([200, 500, 1000, 2000, 3000])\n",
    "a_2 = np.array([800, 600, 700, 300, 100])"
   ]
  },
  {
   "cell_type": "code",
   "execution_count": 4,
   "metadata": {},
   "outputs": [
    {
     "data": {
      "text/plain": [
       "array([1000, 1100, 1700, 2300, 3100])"
      ]
     },
     "execution_count": 4,
     "metadata": {},
     "output_type": "execute_result"
    }
   ],
   "source": [
    "a_1 + a_2"
   ]
  }
 ],
 "metadata": {
  "kernelspec": {
   "display_name": "Python 3",
   "language": "python",
   "name": "python3"
  },
  "language_info": {
   "codemirror_mode": {
    "name": "ipython",
    "version": 3
   },
   "file_extension": ".py",
   "mimetype": "text/x-python",
   "name": "python",
   "nbconvert_exporter": "python",
   "pygments_lexer": "ipython3",
   "version": "3.7.3"
  }
 },
 "nbformat": 4,
 "nbformat_minor": 2
}
