{
 "cells": [
  {
   "cell_type": "markdown",
   "metadata": {},
   "source": [
    "# Vector Scaling "
   ]
  },
  {
   "cell_type": "markdown",
   "metadata": {},
   "source": [
    "### Introduction"
   ]
  },
  {
   "cell_type": "markdown",
   "metadata": {},
   "source": [
    "Now there are two main operations that we perform in linear algebra, multiplication and adding.  Let's start by learning how to multiply a vector."
   ]
  },
  {
   "cell_type": "markdown",
   "metadata": {},
   "source": [
    "### Making predictions"
   ]
  },
  {
   "cell_type": "markdown",
   "metadata": {},
   "source": [
    "Let's assume that we have **already performed linear regression**.  And through linear regression analysis, we determined that \n",
    "   * For every dollar spent on advertising, we sell two T-shirts."
   ]
  },
  {
   "cell_type": "markdown",
   "metadata": {},
   "source": [
    "The marketing department has asked us to determine the number of T-shirts that will be sold with the following ad budgets:"
   ]
  },
  {
   "cell_type": "markdown",
   "metadata": {},
   "source": [
    "|ad spending    | \n",
    "| :-------------: |\n",
    "|    200        |\n",
    "|    500        |\n",
    "|    1000      | \n",
    "|    2000      | \n",
    "|    3000      | "
   ]
  },
  {
   "cell_type": "markdown",
   "metadata": {},
   "source": [
    "Now remember that we believe that ad spending multiplied by some number equals the number of T-shirts sold.  So when we try to predict the number of T-shirts sold we write it as the following:\n",
    "\n",
    "$$200x $$\n",
    "$$500x $$\n",
    "$$1000x$$\n",
    "$$2000x  $$\n",
    "$$3000x $$"
   ]
  },
  {
   "cell_type": "markdown",
   "metadata": {},
   "source": [
    "And because for every dollar on ad spending sold we then sell two t-shirts, we let **$x = 2$**. So we have:"
   ]
  },
  {
   "cell_type": "markdown",
   "metadata": {},
   "source": [
    "$$200*2 = 1600$$\n",
    "$$500*2 = 3000$$\n",
    "$$1000*2 = 4000 $$\n",
    "$$2000*2 = 7500 $$\n",
    "$$3000*2 = 4000 $$"
   ]
  },
  {
   "cell_type": "markdown",
   "metadata": {},
   "source": [
    "Now we have our predictions for each of the ad budgets requested."
   ]
  }
 ],
 "metadata": {
  "kernelspec": {
   "display_name": "Python 3",
   "language": "python",
   "name": "python3"
  },
  "language_info": {
   "codemirror_mode": {
    "name": "ipython",
    "version": 3
   },
   "file_extension": ".py",
   "mimetype": "text/x-python",
   "name": "python",
   "nbconvert_exporter": "python",
   "pygments_lexer": "ipython3",
   "version": "3.7.3"
  }
 },
 "nbformat": 4,
 "nbformat_minor": 2
}
