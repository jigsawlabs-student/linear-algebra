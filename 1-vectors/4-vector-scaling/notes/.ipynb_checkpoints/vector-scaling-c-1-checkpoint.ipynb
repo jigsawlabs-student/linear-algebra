{
 "cells": [
  {
   "cell_type": "markdown",
   "metadata": {},
   "source": [
    "### Vector multiplication graphically"
   ]
  },
  {
   "cell_type": "markdown",
   "metadata": {},
   "source": [
    "Now multiplying a vector by a number is called scaling the vector.  And in fact, numbers in linear algebra are generally referred to as *scalars*.  To understand why, we need to move back to a visual understanding of what occurs.  Doing so will also reinforce the idea of vector scalar multiplication more generally.\n",
    "\n",
    "Let's let narrow down our observations to two ad budgets."
   ]
  },
  {
   "cell_type": "markdown",
   "metadata": {},
   "source": [
    "|ad spending    | \n",
    "| :-------------: |\n",
    "|    200        |\n",
    "|    500        | "
   ]
  },
  {
   "cell_type": "markdown",
   "metadata": {},
   "source": [
    "Which translates to the following vector:"
   ]
  },
  {
   "cell_type": "markdown",
   "metadata": {},
   "source": [
    "$$ a= \\begin{pmatrix}\n",
    "    200 \\\\\n",
    "    500 \\\\\n",
    "\\end{pmatrix}$$"
   ]
  }
 ],
 "metadata": {
  "kernelspec": {
   "display_name": "Python 3",
   "language": "python",
   "name": "python3"
  },
  "language_info": {
   "codemirror_mode": {
    "name": "ipython",
    "version": 3
   },
   "file_extension": ".py",
   "mimetype": "text/x-python",
   "name": "python",
   "nbconvert_exporter": "python",
   "pygments_lexer": "ipython3",
   "version": "3.7.3"
  }
 },
 "nbformat": 4,
 "nbformat_minor": 2
}
