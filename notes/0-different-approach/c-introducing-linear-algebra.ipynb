{
 "cells": [
  {
   "cell_type": "markdown",
   "metadata": {},
   "source": [
    "Let's look again at our equations from before."
   ]
  },
  {
   "cell_type": "markdown",
   "metadata": {},
   "source": [
    "$$800*m = 330 $$\n",
    "$$1500*m = 780 $$\n",
    "$$2000*m = 1130 $$\n",
    "$$3500*m = 1310 $$\n",
    "$$4000*m = 1780$$"
   ]
  },
  {
   "cell_type": "markdown",
   "metadata": {},
   "source": [
    "Our approach to solving regression is to find a single value of $m$ that solves or comes close to solving our equations above. \n",
    "\n",
    "Now this problem  of having multiple equations, and trying to find a coefficient that satisfies all of the equations is a problem that arises throughout mathematics.  It's called \"solving a system of equations\", and an entire field of mathematics has been created related to this problem.  The field is called linear algebra."
   ]
  },
  {
   "cell_type": "markdown",
   "metadata": {},
   "source": [
    "To understand machine learning, we won't have to learn an entire course in linear algebra, but we will need to learn some of the basics.  Doing so will allow us to understand the some of the concepts in machine learning which come from linear algebra, and it will also allow us to understand the notation of linear algebra, which is how many data scientists speak about and understand machine learning algorithms. "
   ]
  },
  {
   "cell_type": "markdown",
   "metadata": {},
   "source": [
    "By using linear algebra we can express our entire system of equations below..."
   ]
  },
  {
   "cell_type": "markdown",
   "metadata": {},
   "source": [
    "$$800*x = 330 $$\n",
    "$$1500*x = 780 $$\n",
    "$$2000*x = 1130 $$\n",
    "$$3500*x = 1310 $$\n",
    "$$4000*x = 1780$$"
   ]
  },
  {
   "cell_type": "markdown",
   "metadata": {},
   "source": [
    "> We replaced the variable $m$ with $x$ to follow convention."
   ]
  },
  {
   "cell_type": "markdown",
   "metadata": {},
   "source": [
    "as the following: "
   ]
  },
  {
   "cell_type": "markdown",
   "metadata": {},
   "source": [
    "$ax = b$"
   ]
  },
  {
   "cell_type": "markdown",
   "metadata": {},
   "source": [
    "Where a is the vector: \n",
    "\n",
    "$a = \\begin{pmatrix}\n",
    "    800 \\\\\n",
    "    1500 \\\\\n",
    "    2000 \\\\\n",
    "    3500 \\\\\n",
    "    4000 \\\\\n",
    "\\end{pmatrix}$\n",
    "\n",
    "$x$ is a scalar. \n",
    "\n",
    "and $b$ is the vector:\n",
    "\n",
    "$b =  \\begin{pmatrix}\n",
    "330   \\\\\n",
    "780 \\\\\n",
    "1130 \\\\\n",
    "1310 \\\\\n",
    "1780 \\\\\n",
    "\\end{pmatrix}$ \n",
    "\n",
    "\n",
    "\n"
   ]
  },
  {
   "cell_type": "markdown",
   "metadata": {},
   "source": [
    "But we're getting a little ahead of ourselves.  We don't yet know what a scalar or a vector is.  Or why we would want to use them.  So that is where we will go next."
   ]
  },
  {
   "cell_type": "markdown",
   "metadata": {},
   "source": [
    "### Summary"
   ]
  },
  {
   "cell_type": "markdown",
   "metadata": {},
   "source": [
    "In this lesson, we saw how when we are given a set of observations\n",
    "\n",
    "|ad spending        | t-shirts           \n",
    "| ------------- |:-------------:| \n",
    "|    800        | 330  | \n",
    "|    1500        |780 | \n",
    "|    2000      | 1130 | \n",
    "|    3500      | 1310 | \n",
    "|    4000      | 1780 | \n",
    "\n",
    "* We can translate the problem of linear regression, where we try to discover the coefficient (or coefficients) that predict a target, \n",
    "* To solving a system of linear equations, and finding the coefficients that solve or come close to solving our system of equations: "
   ]
  },
  {
   "cell_type": "markdown",
   "metadata": {},
   "source": [
    "$$800*x = 330 $$\n",
    "\n",
    "$$1500*x = 780 $$\n",
    "\n",
    "$$2000*x = 1130 $$\n",
    "\n",
    "$$3500*x = 1310 $$\n",
    "\n",
    "$$4000*x = 1780$$"
   ]
  },
  {
   "cell_type": "markdown",
   "metadata": {},
   "source": [
    "This approach (which we'll later explore further) is called the analytic solution to regression."
   ]
  },
  {
   "cell_type": "markdown",
   "metadata": {},
   "source": [
    "We can rewrite a system of equations using vectors.  Below we let our features equal the vector $a$, our target variables equal the vector $b$, and our coefficients equal to the scalar $x$."
   ]
  },
  {
   "cell_type": "markdown",
   "metadata": {},
   "source": [
    "Where $a$ is the vector: \n",
    "\n",
    "$a = \\begin{pmatrix}\n",
    "    800 \\\\\n",
    "    1500 \\\\\n",
    "    2000 \\\\\n",
    "    3500 \\\\\n",
    "    4000 \\\\\n",
    "\\end{pmatrix}$\n",
    "\n",
    "$x$ is a scalar. \n",
    "\n",
    "and $b$ is the vector:\n",
    "\n",
    "$b =  \\begin{pmatrix}\n",
    "330   \\\\\n",
    "780 \\\\\n",
    "1130 \\\\\n",
    "1310 \\\\\n",
    "1780 \\\\\n",
    "\\end{pmatrix}$ "
   ]
  },
  {
   "cell_type": "markdown",
   "metadata": {},
   "source": [
    "In the lessons that follow, we'll try to better understand how we can re-express and understand our problem of linear regression using vectors and matrices."
   ]
  }
 ],
 "metadata": {
  "kernelspec": {
   "display_name": "Python 3",
   "language": "python",
   "name": "python3"
  },
  "language_info": {
   "codemirror_mode": {
    "name": "ipython",
    "version": 3
   },
   "file_extension": ".py",
   "mimetype": "text/x-python",
   "name": "python",
   "nbconvert_exporter": "python",
   "pygments_lexer": "ipython3",
   "version": "3.7.3"
  }
 },
 "nbformat": 4,
 "nbformat_minor": 2
}
