{
 "cells": [
  {
   "cell_type": "markdown",
   "metadata": {},
   "source": [
    "### Back to the system of equations"
   ]
  },
  {
   "cell_type": "markdown",
   "metadata": {},
   "source": [
    "In the last lesson, we saw how we can use vector multiplication to predict target variables."
   ]
  },
  {
   "cell_type": "markdown",
   "metadata": {},
   "source": [
    "For example, let's assume we would like to predict sales where $ad\\_spend = 1000 $ and $ t\\_shirt\\_price = 10$.  Let's also assume that the coefficients for ad spend and t shirt price are $.35$ and $-12$ respectively.  Then we can let $a$ be a vector that represents our feature variables, and $x$ represent our coefficients such that: \n",
    "\n",
    "$a = \\begin{pmatrix}\n",
    "    1000 \\\\\n",
    "    10 \\\\\n",
    "\\end{pmatrix}$\n",
    "\n",
    "$x = \\begin{pmatrix}\n",
    "    .35 \\\\\n",
    "    -12 \\\\\n",
    "\\end{pmatrix}$"
   ]
  },
  {
   "cell_type": "markdown",
   "metadata": {},
   "source": [
    "And we calculate this in numpy with the following:"
   ]
  },
  {
   "cell_type": "code",
   "execution_count": 4,
   "metadata": {},
   "outputs": [
    {
     "data": {
      "text/plain": [
       "230.0"
      ]
     },
     "execution_count": 4,
     "metadata": {},
     "output_type": "execute_result"
    }
   ],
   "source": [
    "import numpy as np\n",
    "a = np.array([1000, 10])\n",
    "x = np.array([.35, -12])\n",
    "\n",
    "a.dot(x)"
   ]
  },
  {
   "cell_type": "markdown",
   "metadata": {},
   "source": [
    "More generally, $a * x = a_{i} x_{i} + a_{i+1} x_{i + 1} ... + a_{n} x_{n} $ where $a \\in \\mathbb{R}^n $ and $x \\in \\mathbb{R}^n $."
   ]
  },
  {
   "cell_type": "markdown",
   "metadata": {},
   "source": [
    "### Moving beyond one equation"
   ]
  },
  {
   "cell_type": "markdown",
   "metadata": {},
   "source": [
    "Now in most scenarios, we would not want to make just one prediction, but multiple.  Let's set our feature variables as the following matrix A, where each row represents a different set of feature variables:"
   ]
  },
  {
   "cell_type": "markdown",
   "metadata": {},
   "source": [
    "$A = \\begin{pmatrix}\n",
    "    1000 & 10 \\\\\n",
    "    2500 & 12 \\\\\n",
    "    600 & 8 \\\\\n",
    "    3000 & 14 \\\\ \n",
    "\\end{pmatrix}$"
   ]
  },
  {
   "cell_type": "markdown",
   "metadata": {},
   "source": [
    "Now with regression, we still would just have two coefficients one for ad spend and one for price.  We multipy these two numbers by each row to get the predicted number of T-shirt sales.  So $x$ is the same vector as before:"
   ]
  },
  {
   "cell_type": "markdown",
   "metadata": {},
   "source": [
    "$x = \\begin{pmatrix}\n",
    "    .35 \\\\\n",
    "    -12 \\\\\n",
    "\\end{pmatrix}$"
   ]
  },
  {
   "cell_type": "markdown",
   "metadata": {},
   "source": [
    "Now let's try to multiply $A*x$."
   ]
  },
  {
   "cell_type": "code",
   "execution_count": 8,
   "metadata": {},
   "outputs": [],
   "source": [
    "x = np.array([.35, -12])\n",
    "A = np.array([\n",
    "    [1000, 10],\n",
    "    [2500, 12],\n",
    "    [600, 8],\n",
    "    [3000, 14],\n",
    "])"
   ]
  },
  {
   "cell_type": "code",
   "execution_count": 12,
   "metadata": {},
   "outputs": [
    {
     "data": {
      "text/plain": [
       "array([230., 731., 114., 882.])"
      ]
     },
     "execution_count": 12,
     "metadata": {},
     "output_type": "execute_result"
    }
   ],
   "source": [
    "A.dot(x)"
   ]
  },
  {
   "cell_type": "markdown",
   "metadata": {},
   "source": [
    "It makes sense that the return value is a vector as it is saying the following:"
   ]
  },
  {
   "cell_type": "markdown",
   "metadata": {},
   "source": [
    "$$1000*.35 + 10*-12 = 230 $$\n",
    "\n",
    "$$2500*.35 + 12*-12=  731 $$\n",
    "\n",
    "$$600*.35 + 8*-12=  114$$\n",
    "\n",
    "$$3000*.35 + 14*-12 =  882$$"
   ]
  },
  {
   "cell_type": "markdown",
   "metadata": {},
   "source": [
    "### Performing the calculation"
   ]
  },
  {
   "cell_type": "markdown",
   "metadata": {},
   "source": [
    "Where we have a matrix A and a vector $x$ where A and x equal the following: "
   ]
  },
  {
   "cell_type": "markdown",
   "metadata": {},
   "source": [
    "$A = \\begin{pmatrix}\n",
    "    1000 & 10 \\\\\n",
    "    2500 & 12 \\\\\n",
    "    600 & 8 \\\\\n",
    "    3000 & 14 \\\\ \n",
    "\\end{pmatrix}$\n",
    "\n",
    "$x = \\begin{pmatrix}\n",
    "    .35 \\\\\n",
    "    -12 \\\\\n",
    "\\end{pmatrix}$"
   ]
  },
  {
   "cell_type": "markdown",
   "metadata": {},
   "source": [
    "We can think of $A \\cdot x$ as the following."
   ]
  },
  {
   "cell_type": "markdown",
   "metadata": {},
   "source": [
    "$ .35 * \\begin{pmatrix}\n",
    "    1000  \\\\\n",
    "    2500  \\\\\n",
    "    600  \\\\\n",
    "    3000  \\\\ \n",
    "\\end{pmatrix} + -12 * \\begin{pmatrix}\n",
    "    10  \\\\\n",
    "    12  \\\\\n",
    "    8  \\\\\n",
    "    14  \\\\ \n",
    "\\end{pmatrix} $"
   ]
  },
  {
   "cell_type": "markdown",
   "metadata": {},
   "source": [
    "In terms of how to think about this, we can think of each column in A as a separate vector."
   ]
  },
  {
   "cell_type": "markdown",
   "metadata": {},
   "source": [
    "$x = \\begin{pmatrix}\n",
    "    1000  \\\\\n",
    "    2500  \\\\\n",
    "    600  \\\\\n",
    "    3000  \\\\ \n",
    "\\end{pmatrix}$\n",
    "    \n",
    "$y = \\begin{pmatrix}\n",
    "    10  \\\\\n",
    "    12  \\\\\n",
    "    8  \\\\\n",
    "    14  \\\\ \n",
    "\\end{pmatrix}$"
   ]
  },
  {
   "cell_type": "code",
   "execution_count": 14,
   "metadata": {},
   "outputs": [
    {
     "data": {
      "text/plain": [
       "array([1000, 2500,  600, 3000])"
      ]
     },
     "execution_count": 14,
     "metadata": {},
     "output_type": "execute_result"
    }
   ],
   "source": [
    "A[:, 0]"
   ]
  },
  {
   "cell_type": "markdown",
   "metadata": {},
   "source": [
    "We can rewrite this equation as the following:\n",
    "\n",
    "$ax = b $ where"
   ]
  },
  {
   "cell_type": "markdown",
   "metadata": {},
   "source": [
    "$a = \\begin{pmatrix}\n",
    "    800 \\\\\n",
    "    13 \\\\\n",
    "\\end{pmatrix}$\n",
    "\n",
    "$x = \\begin{pmatrix}\n",
    "    x_1 \\\\\n",
    "    x_2 \\\\\n",
    "\\end{pmatrix}$\n",
    "\n",
    "and $b$ = 330"
   ]
  },
  {
   "cell_type": "markdown",
   "metadata": {},
   "source": [
    "And if we solve for values of $x_1$ and $x_2$ we can also use the dot product to predict new values.  For example, let's assume $x_1$ is .25 and $x_1 = -10$.  "
   ]
  }
 ],
 "metadata": {
  "kernelspec": {
   "display_name": "Python 3",
   "language": "python",
   "name": "python3"
  },
  "language_info": {
   "codemirror_mode": {
    "name": "ipython",
    "version": 3
   },
   "file_extension": ".py",
   "mimetype": "text/x-python",
   "name": "python",
   "nbconvert_exporter": "python",
   "pygments_lexer": "ipython3",
   "version": "3.7.3"
  }
 },
 "nbformat": 4,
 "nbformat_minor": 2
}
