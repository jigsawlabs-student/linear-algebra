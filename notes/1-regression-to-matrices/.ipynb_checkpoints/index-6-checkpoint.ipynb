{
 "cells": [
  {
   "cell_type": "markdown",
   "metadata": {},
   "source": [
    "### Introduction"
   ]
  },
  {
   "cell_type": "markdown",
   "metadata": {},
   "source": [
    "In the last lesson, we saw that we can represent our features as a matrix, and our target variables as a vector."
   ]
  },
  {
   "cell_type": "markdown",
   "metadata": {},
   "source": [
    "|ad spending    | price|t-shirts           \n",
    "| ------------- |------|:-------------:| \n",
    "|    800        | 13  | 330  | \n",
    "|    1500        |11 | 780  | \n",
    "|    2000      | 9 | 1130  | \n",
    "|    3500      | 10 | 1310  | \n",
    "|    4000      | 8 | 1780  | "
   ]
  },
  {
   "cell_type": "markdown",
   "metadata": {},
   "source": [
    "$A = \\begin{pmatrix}\n",
    "    800 & 13 \\\\\n",
    "    1500 & 11 \\\\\n",
    "    2000 & 9 \\\\\n",
    "    3500 & 10 \\\\ \n",
    "    4000 & 8 \\\\ \n",
    "\\end{pmatrix} b =  \\begin{pmatrix}\n",
    "330   \\\\\n",
    "780 \\\\\n",
    "1130 \\\\\n",
    "1310 \\\\\n",
    "1780 \\\\\n",
    "\\end{pmatrix}$ "
   ]
  },
  {
   "cell_type": "markdown",
   "metadata": {},
   "source": [
    "Remember, of course, that when we perform linear regression, we will need to multiply our features by coefficients.  This is how we'll make predictions.  Below we let our coefficients equal $.35$ and $-12$.  So this means that we multiply ad spending by $.35$ and add that to $-12$ times by the price, to predict the amount of T-shirt sales."
   ]
  },
  {
   "cell_type": "markdown",
   "metadata": {},
   "source": [
    "$$800*.35 + 13*-12 $$\n",
    "\n",
    "$$1500*.35 + 11*-12 $$\n",
    "\n",
    "$$2000*.35 + 9*-12 $$\n",
    "\n",
    "$$3500*.35 + 10*-12 $$\n",
    "\n",
    "$$4000*.35 + 8*-12 $$"
   ]
  },
  {
   "cell_type": "markdown",
   "metadata": {},
   "source": [
    "### Multiplication with matrices"
   ]
  },
  {
   "cell_type": "markdown",
   "metadata": {},
   "source": [
    "We would like to translate the system of equations to use matrices.  This is our system of equations."
   ]
  },
  {
   "cell_type": "markdown",
   "metadata": {},
   "source": [
    "$$800*.35 + 13*-12 $$\n",
    "\n",
    "$$1500*.35 + 11*-12 $$\n",
    "\n",
    "$$2000*.35 + 9*-12 $$\n",
    "\n",
    "$$3500*.35 + 10*-12 $$\n",
    "\n",
    "$$4000*.35 + 8*-12 $$"
   ]
  },
  {
   "cell_type": "markdown",
   "metadata": {},
   "source": [
    "And we can represent our features variables as the following matrix."
   ]
  },
  {
   "cell_type": "markdown",
   "metadata": {},
   "source": [
    "$A = \\begin{pmatrix}\n",
    "    800 & 13 \\\\\n",
    "    1500 & 11 \\\\\n",
    "    2000 & 9 \\\\\n",
    "    3500 & 10 \\\\ \n",
    "    4000 & 8 \\\\ \n",
    "\\end{pmatrix} $ "
   ]
  },
  {
   "cell_type": "markdown",
   "metadata": {},
   "source": [
    "Now, what we would like to do is multiply the first column of matrix A by .35, and the second column by -12.  We can accomplish this with the following.  First we create a new vector to represent our feature variables, .35 and -12."
   ]
  },
  {
   "cell_type": "markdown",
   "metadata": {},
   "source": [
    "$x = \\begin{pmatrix}\n",
    "    .35 & -12 \\\\\n",
    "\\end{pmatrix} $"
   ]
  },
  {
   "cell_type": "markdown",
   "metadata": {},
   "source": [
    "Then we multiply our matrix A by this row vector."
   ]
  },
  {
   "cell_type": "markdown",
   "metadata": {},
   "source": [
    "$\\begin{pmatrix}\n",
    "    .35 & -12 \\\\\n",
    "\\end{pmatrix} \\cdot  \\begin{pmatrix}\n",
    "    800 & 13 \\\\\n",
    "    1500 & 11 \\\\\n",
    "    2000 & 9 \\\\\n",
    "    3500 & 10 \\\\ \n",
    "    4000 & 8 \\\\ \n",
    "\\end{pmatrix} $"
   ]
  },
  {
   "cell_type": "markdown",
   "metadata": {},
   "source": [
    "Doing so, is equivalent to the following:"
   ]
  },
  {
   "cell_type": "markdown",
   "metadata": {},
   "source": [
    "$.35* \\begin{pmatrix}\n",
    "    800  \\\\\n",
    "    1500  \\\\\n",
    "    2000 \\\\\n",
    "    3500 \\\\ \n",
    "    4000 \\\\ \n",
    "\\end{pmatrix} + -12* \\begin{pmatrix}\n",
    "     13 \\\\\n",
    "     11 \\\\\n",
    "     9 \\\\\n",
    "     10 \\\\ \n",
    "     8 \\\\ \n",
    "\\end{pmatrix} $\n",
    "\n"
   ]
  },
  {
   "cell_type": "markdown",
   "metadata": {},
   "source": [
    "Which is precisely what we want.  We want to multiply our first vector of feature variables by our first coefficient, and our second vector of feature variables by the second."
   ]
  },
  {
   "cell_type": "markdown",
   "metadata": {},
   "source": [
    "### Proving it with code"
   ]
  },
  {
   "cell_type": "markdown",
   "metadata": {},
   "source": [
    "Let's walk through these steps with code.  "
   ]
  },
  {
   "cell_type": "code",
   "execution_count": 36,
   "metadata": {},
   "outputs": [],
   "source": [
    "import numpy as np\n",
    "x = np.array([.35, -12])\n",
    "A = np.array([\n",
    "    [800, 13],\n",
    "    [1500, 11],\n",
    "    [2000, 9],\n",
    "    [3500, 10],\n",
    "    [4000, 8],\n",
    "])"
   ]
  },
  {
   "cell_type": "code",
   "execution_count": 37,
   "metadata": {},
   "outputs": [
    {
     "data": {
      "text/plain": [
       "array([ 124.,  393.,  592., 1105., 1304.])"
      ]
     },
     "execution_count": 37,
     "metadata": {},
     "output_type": "execute_result"
    }
   ],
   "source": [
    "A.dot(x)"
   ]
  },
  {
   "cell_type": "markdown",
   "metadata": {},
   "source": [
    "Now if we wished to break this down, we can with the following:"
   ]
  },
  {
   "cell_type": "code",
   "execution_count": 38,
   "metadata": {},
   "outputs": [
    {
     "data": {
      "text/plain": [
       "array([ 800, 1500, 2000, 3500, 4000])"
      ]
     },
     "execution_count": 38,
     "metadata": {},
     "output_type": "execute_result"
    }
   ],
   "source": [
    "first_column = A[:, 0] \n",
    "first_column"
   ]
  },
  {
   "cell_type": "code",
   "execution_count": 39,
   "metadata": {},
   "outputs": [
    {
     "data": {
      "text/plain": [
       "array([13, 11,  9, 10,  8])"
      ]
     },
     "execution_count": 39,
     "metadata": {},
     "output_type": "execute_result"
    }
   ],
   "source": [
    "second_column = A[:, 1]\n",
    "second_column"
   ]
  },
  {
   "cell_type": "code",
   "execution_count": 40,
   "metadata": {},
   "outputs": [
    {
     "data": {
      "text/plain": [
       "array([ 124.,  393.,  592., 1105., 1304.])"
      ]
     },
     "execution_count": 40,
     "metadata": {},
     "output_type": "execute_result"
    }
   ],
   "source": [
    "x[0]*first_column + x[1]*second_column"
   ]
  },
  {
   "cell_type": "markdown",
   "metadata": {},
   "source": [
    "Which is precisely what we calculated before.  \n",
    "\n",
    "Let's see all of the steps broken down."
   ]
  },
  {
   "cell_type": "markdown",
   "metadata": {},
   "source": [
    "$\\begin{pmatrix}\n",
    "    .35 & -12 \\\\\n",
    "\\end{pmatrix} \\cdot  \\begin{pmatrix}\n",
    "    800 & 13 \\\\\n",
    "    1500 & 11 \\\\\n",
    "    2000 & 9 \\\\\n",
    "    3500 & 10 \\\\ \n",
    "    4000 & 8 \\\\ \n",
    "\\end{pmatrix}  = .35* \\begin{pmatrix}\n",
    "    800  \\\\\n",
    "    1500  \\\\\n",
    "    2000 \\\\\n",
    "    3500 \\\\ \n",
    "    4000 \\\\ \n",
    "\\end{pmatrix} + -12* \\begin{pmatrix}\n",
    "     13 \\\\\n",
    "     11 \\\\\n",
    "     9 \\\\\n",
    "     10 \\\\ \n",
    "     8 \\\\ \n",
    "\\end{pmatrix} = \\begin{pmatrix}\n",
    "     280 \\\\\n",
    "     525 \\\\\n",
    "     700 \\\\\n",
    "     1225 \\\\ \n",
    "     1400 \\\\ \n",
    "\\end{pmatrix} + \\begin{pmatrix}\n",
    "     -156 \\\\\n",
    "     -132 \\\\\n",
    "     -108 \\\\\n",
    "     -120 \\\\ \n",
    "     -96 \\\\ \n",
    "\\end{pmatrix} =  \\begin{pmatrix}\n",
    "     124 \\\\\n",
    "     393 \\\\\n",
    "     592 \\\\\n",
    "     1105 \\\\ \n",
    "     1304 \\\\ \n",
    "\\end{pmatrix}  $"
   ]
  },
  {
   "cell_type": "markdown",
   "metadata": {},
   "source": [
    "So really matrix vector multiplication is just a combination of what we learned before - first scaling each vector and then adding the two vectors."
   ]
  },
  {
   "cell_type": "markdown",
   "metadata": {},
   "source": [
    "### For the visual mind"
   ]
  },
  {
   "cell_type": "markdown",
   "metadata": {},
   "source": [
    "Visually, and conceptually, matrix vector multiplication is essentially equivalent to what we learned before."
   ]
  },
  {
   "cell_type": "markdown",
   "metadata": {},
   "source": [
    "|ad spending    | price|\n",
    "| ------------- |------|\n",
    "|    800        | 13  | \n",
    "|    1500        |11 | "
   ]
  },
  {
   "cell_type": "markdown",
   "metadata": {},
   "source": [
    "And we have coefficients of .35 and -12."
   ]
  },
  {
   "cell_type": "markdown",
   "metadata": {},
   "source": [
    "When we perform matrix vector multiplication, we are really just scaling two vectors and then adding them together."
   ]
  },
  {
   "cell_type": "markdown",
   "metadata": {},
   "source": [
    "$.35* \\begin{pmatrix}\n",
    "    800  \\\\\n",
    "    1500  \\\\\n",
    "\\end{pmatrix} + -12* \\begin{pmatrix}\n",
    "     13 \\\\\n",
    "     11 \\\\\n",
    "\\end{pmatrix} $"
   ]
  },
  {
   "cell_type": "markdown",
   "metadata": {},
   "source": [
    "Which visually looks like the following:"
   ]
  },
  {
   "cell_type": "code",
   "execution_count": 48,
   "metadata": {},
   "outputs": [],
   "source": [
    "import numpy as np\n",
    "a_1 = np.array([800, 1500])\n",
    "a_2 = np.array([13, 11])\n",
    "\n",
    "ad_spending_trace = vector_trace()\n",
    "price_trace = vector_trace(-12*a_2)"
   ]
  },
  {
   "cell_type": "code",
   "execution_count": 51,
   "metadata": {},
   "outputs": [
    {
     "data": {
      "text/plain": [
       "{'x': [280.0, 124.0],\n",
       " 'y': [525.0, 393.0],\n",
       " 'mode': 'lines+markers',\n",
       " 'name': '',\n",
       " 'text': []}"
      ]
     },
     "execution_count": 51,
     "metadata": {},
     "output_type": "execute_result"
    }
   ],
   "source": [
    "plus_trace(.35*a_1,-12*a_2)"
   ]
  },
  {
   "cell_type": "code",
   "execution_count": 50,
   "metadata": {},
   "outputs": [
    {
     "data": {
      "text/html": [
       "        <script type=\"text/javascript\">\n",
       "        window.PlotlyConfig = {MathJaxConfig: 'local'};\n",
       "        if (window.MathJax) {MathJax.Hub.Config({SVG: {font: \"STIX-Web\"}});}\n",
       "        if (typeof require !== 'undefined') {\n",
       "        require.undef(\"plotly\");\n",
       "        requirejs.config({\n",
       "            paths: {\n",
       "                'plotly': ['https://cdn.plot.ly/plotly-latest.min']\n",
       "            }\n",
       "        });\n",
       "        require(['plotly'], function(Plotly) {\n",
       "            window._Plotly = Plotly;\n",
       "        });\n",
       "        }\n",
       "        </script>\n",
       "        "
      ]
     },
     "metadata": {},
     "output_type": "display_data"
    }
   ],
   "source": [
    "from graph import trace_values\n",
    "def vector_trace(vector, name = '', text = ''):\n",
    "    x_coord = vector[0] \n",
    "    if len(vector) is 1:\n",
    "        trace = {'x': [0, x_coord], 'y': [0, 0], 'mode': 'lines+markers', 'name': name, 'text': text}\n",
    "        layout = {'xaxis': {'range': [0, 4]}, 'yaxis': dict(range=[-.5, .5],\n",
    "        showgrid=False,\n",
    "        zeroline=True,\n",
    "        showline=False,\n",
    "        ticks='',\n",
    "        showticklabels=False)}\n",
    "        return plot([trace], layout)\n",
    "    else:\n",
    "        y_coord = vector[1]\n",
    "        return {'x': [0, x_coord], 'y': [0, y_coord], 'mode': 'lines+markers', 'name': name, 'text': text}\n",
    "    \n",
    "def plus_trace(first_array, second_array, name = ''):\n",
    "    added = first_array + second_array\n",
    "    first_added = added[0]\n",
    "    second_added = added[1]\n",
    "    second_vector_x = [first_array[0], first_added]\n",
    "    second_vector_y = [first_array[1], second_added]\n",
    "    return trace_values(second_vector_x, second_vector_y, mode = 'lines+markers', name = name)"
   ]
  },
  {
   "cell_type": "code",
   "execution_count": null,
   "metadata": {},
   "outputs": [],
   "source": []
  }
 ],
 "metadata": {
  "kernelspec": {
   "display_name": "Python 3",
   "language": "python",
   "name": "python3"
  },
  "language_info": {
   "codemirror_mode": {
    "name": "ipython",
    "version": 3
   },
   "file_extension": ".py",
   "mimetype": "text/x-python",
   "name": "python",
   "nbconvert_exporter": "python",
   "pygments_lexer": "ipython3",
   "version": "3.7.3"
  }
 },
 "nbformat": 4,
 "nbformat_minor": 2
}
