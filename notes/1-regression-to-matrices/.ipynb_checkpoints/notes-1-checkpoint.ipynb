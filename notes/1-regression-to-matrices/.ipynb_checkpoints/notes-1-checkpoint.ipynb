{
 "cells": [
  {
   "cell_type": "markdown",
   "metadata": {},
   "source": [
    "# A different approach to regression"
   ]
  },
  {
   "cell_type": "markdown",
   "metadata": {},
   "source": [
    "### Introduction"
   ]
  },
  {
   "cell_type": "markdown",
   "metadata": {},
   "source": [
    "Let's return to our problem of predicting T-shirt sales."
   ]
  },
  {
   "cell_type": "markdown",
   "metadata": {},
   "source": [
    "|ad spending        | t-shirts           \n",
    "| ------------- |:-------------:| \n",
    "|    800        | 330  | \n",
    "|    1500        |780 | \n",
    "|    2000      | 1130 | \n",
    "|    3500      | 1310 | \n",
    "|    4000      | 1780 | "
   ]
  },
  {
   "cell_type": "code",
   "execution_count": 1,
   "metadata": {},
   "outputs": [],
   "source": [
    "inputs = [800, 1500, 2000, 3500, 4000]\n",
    "outcomes = [330, 780, 1130, 1310, 1780]"
   ]
  },
  {
   "cell_type": "markdown",
   "metadata": {},
   "source": [
    "Now let's just look at one of the rows of data."
   ]
  },
  {
   "cell_type": "markdown",
   "metadata": {},
   "source": [
    "|ad spending        | t-shirts           \n",
    "| ------------- |:-------------:| \n",
    "|    800        | 330  | "
   ]
  },
  {
   "cell_type": "markdown",
   "metadata": {},
   "source": [
    "When we do linear regression, really what we are trying to do is the following: \n",
    "\n",
    "> Find the impact of our **independent variable**, here ad-spending, on our **dependent variable** of t-shirts.  \n",
    "\n",
    "We've previously written this as an equation."
   ]
  },
  {
   "cell_type": "markdown",
   "metadata": {},
   "source": [
    "$m*800 = 300$ "
   ]
  },
  {
   "cell_type": "markdown",
   "metadata": {},
   "source": [
    "where:\n",
    "\n",
    "* $800$ is the amount of ad spending\n",
    "* $300$ is the related number of T shirts sold\n",
    "* $m$ is our coefficient - the impact ad spending has on T-shirts"
   ]
  },
  {
   "cell_type": "markdown",
   "metadata": {},
   "source": [
    "So this coefficient $m$ is an example of a parameterwe try to solve for when perform linear regression.  \n",
    "\n",
    "When we only have one row of data, solving for $m$ is fairly straight-forward."
   ]
  },
  {
   "cell_type": "markdown",
   "metadata": {},
   "source": [
    "$m*800 = 300$ "
   ]
  },
  {
   "cell_type": "markdown",
   "metadata": {},
   "source": [
    "$ m * \\dfrac{800}{800} = \\dfrac{300}{800} $"
   ]
  },
  {
   "cell_type": "markdown",
   "metadata": {},
   "source": [
    "$m =  \\dfrac{300}{800} $"
   ]
  },
  {
   "cell_type": "markdown",
   "metadata": {},
   "source": [
    "### Moving to multiple observations"
   ]
  },
  {
   "cell_type": "markdown",
   "metadata": {},
   "source": [
    "Of course the whole reason why we can't simply use algebra for regression is because we have not just one observation but rows of observations.  \n",
    "\n",
    "|ad spending        | t-shirts           \n",
    "| ------------- |:-------------:| \n",
    "|    800        | 330  | \n",
    "|    1500        |780 | \n",
    "|    2000      | 1130 | \n",
    "|    3500      | 1310 | \n",
    "|    4000      | 1780 | \n",
    "\n",
    "And we want to find *a single coefficient value* to multiply each of our independent variables by to equal our dependent variable."
   ]
  },
  {
   "cell_type": "markdown",
   "metadata": {},
   "source": [
    "$$800*m = 330 $$\n",
    "$$1500*m = 780 $$\n",
    "$$2000*m = 1130 $$\n",
    "$$3500*m = 1310 $$\n",
    "$$4000*m = 1780$$"
   ]
  },
  {
   "cell_type": "markdown",
   "metadata": {},
   "source": [
    "This makes sense -- we are assuming the impact of ad spending will be constant across our different observations."
   ]
  },
  {
   "cell_type": "markdown",
   "metadata": {},
   "source": [
    "Now this problem we see above, of having multiple equations, and trying to find a coefficient that satisfies all of the equations is a problem that arises throughout mathematics.  It's called \"solving a system of equations\", and an entire field of mathematics has been created related to this problem called linear algebra."
   ]
  },
  {
   "cell_type": "markdown",
   "metadata": {},
   "source": [
    "### Working with multiple features"
   ]
  },
  {
   "cell_type": "markdown",
   "metadata": {},
   "source": [
    "And of course when we try to predict something like the number of T-shirts sold, generally we will not just one feature but multiple.  "
   ]
  },
  {
   "cell_type": "markdown",
   "metadata": {},
   "source": [
    "|ad spending    | price|t-shirts           \n",
    "| ------------- |------|:-------------:| \n",
    "|    800        | 13  | 330  | \n",
    "|    1500        |11 | 780  | \n",
    "|    2000      | 9 | 1130  | \n",
    "|    3500      | 10 | 1310  | \n",
    "|    4000      | 8 | 1780  | "
   ]
  },
  {
   "cell_type": "markdown",
   "metadata": {},
   "source": [
    "For example, in the chart above, our features now include `ad spending` and `price` of the T-shirts to predict the number of sales in a month."
   ]
  },
  {
   "cell_type": "markdown",
   "metadata": {},
   "source": [
    "To represent this as a system of equations we now make the following updates."
   ]
  },
  {
   "cell_type": "markdown",
   "metadata": {},
   "source": [
    "$$800x_1 + 13x_2 = 330 $$\n",
    "\n",
    "$$1500x_1 + 11x_2= 780 $$\n",
    "\n",
    "$$2000x_1 + 9x_2= 1130 $$\n",
    "\n",
    "$$3500x_1 + 10x_2 = 1310 $$\n",
    "\n",
    "$$4000x_1 + 8x_2 = 1780$$"
   ]
  },
  {
   "cell_type": "markdown",
   "metadata": {},
   "source": [
    "Notice a couple of things here.  The first, of course, is that now we have two components that impact our number of T-shirts both the coefficient for ad-spending and the co-efficient for price.  To represent our coefficients, we no longer use the letter $m$, which came from algebra, but rather the variables $x_1$ and $x_2$.  This use of $x_1$ and $x_2$ to represent our coefficients is more typical notation when we represent a system of equations and this is the notation that we will use going forward."
   ]
  },
  {
   "cell_type": "markdown",
   "metadata": {},
   "source": [
    "### Introducing Linear Algebra"
   ]
  },
  {
   "cell_type": "markdown",
   "metadata": {},
   "source": [
    "Now as we mentioned, this problem is solving a system of equations is a common one in mathematics.  In fact, there has been a whole field created for the purpose of solving a system of equations -- it's called linear algebra."
   ]
  },
  {
   "cell_type": "markdown",
   "metadata": {},
   "source": [
    "To understand machine learning, we won't have to learn an entire course in linear algebra, but we will need to learn some of the basics.  Doing so will allow us to understand the some of the concepts in machine learning which come from linear algebra, and it will also allow us to understand linear algebra notation, which is how many data scientists speak about and understand machine learning algorithms. "
   ]
  },
  {
   "cell_type": "markdown",
   "metadata": {},
   "source": [
    "By using linear algebra we can express our entire system of equations below..."
   ]
  },
  {
   "cell_type": "markdown",
   "metadata": {},
   "source": [
    "$$800x_1 + 13x_2 = 330 $$\n",
    "\n",
    "$$1500x_1 + 11x_2= 780 $$\n",
    "\n",
    "$$2000x_1 + 9x_2= 1130 $$\n",
    "\n",
    "$$3500x_1 + 10x_2 = 1310 $$\n",
    "\n",
    "$$4000x_1 + 8x_2 = 1780$$"
   ]
  },
  {
   "cell_type": "markdown",
   "metadata": {},
   "source": [
    "as the following: "
   ]
  },
  {
   "cell_type": "markdown",
   "metadata": {},
   "source": [
    "$Ax = b$"
   ]
  },
  {
   "cell_type": "markdown",
   "metadata": {},
   "source": [
    "Where A is the matrix: \n",
    "\n",
    "$A =  \\begin{pmatrix}\n",
    "800 & 700  \\\\\n",
    "1500 & 900 \\\\\n",
    "1200 & 1100\n",
    "\\end{pmatrix}$ \n",
    "\n",
    "$x$ is the vector: \n",
    "\n",
    "$x = \\begin{pmatrix}\n",
    "    x_1 \\\\\n",
    "    x_2 \\\\\n",
    "\\end{pmatrix}$\n",
    "\n",
    "And b is the vector: \n",
    "\n",
    "$b = \\begin{pmatrix}\n",
    "    800 \\\\\n",
    "    1500 \\\\\n",
    "    2000 \\\\\n",
    "    3500 \\\\\n",
    "    4000 \\\\\n",
    "\\end{pmatrix}$"
   ]
  },
  {
   "cell_type": "markdown",
   "metadata": {},
   "source": [
    "But we're getting a little ahead of ourselves.  We don't yet know what a matrix or a vector is.  Or why we would want to use them.  So that is where we will go next."
   ]
  },
  {
   "cell_type": "markdown",
   "metadata": {},
   "source": [
    "### Summary"
   ]
  },
  {
   "cell_type": "markdown",
   "metadata": {},
   "source": [
    "In this lesson, we saw how we can translate the problem of linear regression,\n",
    "\n",
    "* Where we train our model to discover the coefficients that predict a target..."
   ]
  },
  {
   "cell_type": "markdown",
   "metadata": {},
   "source": [
    "|ad spending    | price|t-shirts           \n",
    "| ------------- |------|:-------------:| \n",
    "|    800        | 13  | 330  | \n",
    "|    1500        |11 | 780  | \n",
    "|    2000      | 9 | 1130  | \n",
    "|    3500      | 10 | 1310  | \n",
    "|    4000      | 8 | 1780  | "
   ]
  },
  {
   "cell_type": "markdown",
   "metadata": {},
   "source": [
    "* To solving a system of linear equations, and finding the coefficients that solve or come close to solving our system of equations: "
   ]
  },
  {
   "cell_type": "markdown",
   "metadata": {},
   "source": [
    "$$800x_1 + 13x_2 = 330 $$\n",
    "\n",
    "$$1500x_1 + 11x_2= 780 $$\n",
    "\n",
    "$$2000x_1 + 9x_2= 1130 $$\n",
    "\n",
    "$$3500x_1 + 10x_2 = 1310 $$\n",
    "\n",
    "$$4000x_1 + 8x_2 = 1780$$"
   ]
  },
  {
   "cell_type": "markdown",
   "metadata": {},
   "source": [
    "We can rewrite a system of equations using vectors and matrices.  Below we let our features equal the matrix A, our target variables equal the vector $b$, and our coefficients equal to the vector $x$."
   ]
  },
  {
   "cell_type": "markdown",
   "metadata": {},
   "source": [
    "$A =  \\begin{pmatrix}\n",
    "800 & 700  \\\\\n",
    "1500 & 900 \\\\\n",
    "1200 & 1100\n",
    "\\end{pmatrix}$ "
   ]
  },
  {
   "cell_type": "markdown",
   "metadata": {},
   "source": [
    "$x = \\begin{pmatrix}\n",
    "    x_1 \\\\\n",
    "    x_2 \\\\\n",
    "\\end{pmatrix}$"
   ]
  },
  {
   "cell_type": "markdown",
   "metadata": {},
   "source": [
    "$b = \\begin{pmatrix}\n",
    "    800 \\\\\n",
    "    1500 \\\\\n",
    "    2000 \\\\\n",
    "    3500 \\\\\n",
    "    4000 \\\\\n",
    "\\end{pmatrix}$"
   ]
  },
  {
   "cell_type": "markdown",
   "metadata": {},
   "source": [
    "In the lessons that follow, we'll try to better understand vectors and matrices."
   ]
  },
  {
   "cell_type": "markdown",
   "metadata": {},
   "source": [
    "### Notes\n",
    "\n",
    "* Explicitly compare this with gradient descent\n",
    "* Add in that we are now trying to solve for two unknowns"
   ]
  },
  {
   "cell_type": "code",
   "execution_count": null,
   "metadata": {},
   "outputs": [],
   "source": []
  }
 ],
 "metadata": {
  "kernelspec": {
   "display_name": "Python 3",
   "language": "python",
   "name": "python3"
  },
  "language_info": {
   "codemirror_mode": {
    "name": "ipython",
    "version": 3
   },
   "file_extension": ".py",
   "mimetype": "text/x-python",
   "name": "python",
   "nbconvert_exporter": "python",
   "pygments_lexer": "ipython3",
   "version": "3.7.4"
  }
 },
 "nbformat": 4,
 "nbformat_minor": 4
}
