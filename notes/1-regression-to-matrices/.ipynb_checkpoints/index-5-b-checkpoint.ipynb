{
 "cells": [
  {
   "cell_type": "markdown",
   "metadata": {},
   "source": [
    "# Vector Addition "
   ]
  },
  {
   "cell_type": "markdown",
   "metadata": {},
   "source": [
    "### Introduction"
   ]
  },
  {
   "cell_type": "markdown",
   "metadata": {},
   "source": [
    "Now that we have learned a little bit about scaling a vector, let's learn our second component which is to add two vectors.  Let's say that we change our observations to the following."
   ]
  },
  {
   "cell_type": "markdown",
   "metadata": {},
   "source": [
    "|ad spending    | bias | \n",
    "| ------------- |------|\n",
    "|    800        | 50   |\n",
    "|    1500       | 30   |\n",
    "|    2000      |  45   |\n",
    "|    3500      |   60  |\n",
    "|    4000      |  70   |"
   ]
  },
  {
   "cell_type": "markdown",
   "metadata": {},
   "source": [
    "Once again, we are trying to predict the number of T-shirts sold.  We know that T-shirts sold are a function of the number of advertising that we spend.  But what is bias?  Bias, is our y-intercept.  It's the value of our dependent variable, when all of the coefficients for our independent variables are zero.   So here, bias is the number of T-shirts sold when our ad spending, or impact of our ad spending, is zero. \n",
    "\n",
    "Let's write this as our set of equations.\n",
    "\n",
    "$$800x + 50 = 330 $$\n",
    "$$1500x + 30 = 780 $$\n",
    "$$2000x + 45 = 1130 $$\n",
    "$$3500x + 60= 1310 $$\n",
    "$$4000x + 70 = 1780$$ "
   ]
  },
  {
   "cell_type": "markdown",
   "metadata": {},
   "source": [
    "And as we know we rewrite this as a vector of our feature variables multiplied by single scalar, $x$, and rewrite our bias as a vector, as well as our target variables."
   ]
  },
  {
   "cell_type": "markdown",
   "metadata": {},
   "source": [
    "$\\begin{pmatrix}\n",
    "    800 \\\\\n",
    "    1500 \\\\\n",
    "    2000 \\\\\n",
    "    3500 \\\\\n",
    "    4000 \\\\\n",
    "\\end{pmatrix}x  + \\begin{pmatrix}\n",
    "    50 \\\\\n",
    "    30 \\\\\n",
    "    45 \\\\\n",
    "    60 \\\\\n",
    "    70 \\\\\n",
    "\\end{pmatrix}  =  \\begin{pmatrix}\n",
    "    330 \\\\\n",
    "    780 \\\\\n",
    "    1130 \\\\\n",
    "    1310\\\\\n",
    "    1780 \\\\\n",
    "\\end{pmatrix}\n",
    "$"
   ]
  },
  {
   "cell_type": "markdown",
   "metadata": {},
   "source": [
    "Now, currently we know how to scale our first vector by a number $x$, and that doing so will return a vector.  But we don't then know how to add up our vectors.  Let's tackle that now."
   ]
  },
  {
   "cell_type": "markdown",
   "metadata": {},
   "source": [
    "### Adding two vectors"
   ]
  },
  {
   "cell_type": "markdown",
   "metadata": {},
   "source": [
    "We left off with the following equation."
   ]
  },
  {
   "cell_type": "markdown",
   "metadata": {},
   "source": [
    "$\\begin{pmatrix}\n",
    "    800 \\\\\n",
    "    1500 \\\\\n",
    "    2000 \\\\\n",
    "    3500 \\\\\n",
    "    4000 \\\\\n",
    "\\end{pmatrix}x  + \\begin{pmatrix}\n",
    "    50 \\\\\n",
    "    30 \\\\\n",
    "    45 \\\\\n",
    "    60 \\\\\n",
    "    70 \\\\\n",
    "\\end{pmatrix}  =  \\begin{pmatrix}\n",
    "    330 \\\\\n",
    "    780 \\\\\n",
    "    1130 \\\\\n",
    "    1310\\\\\n",
    "    1780 \\\\\n",
    "\\end{pmatrix}\n",
    "$"
   ]
  },
  {
   "cell_type": "markdown",
   "metadata": {},
   "source": [
    "To focus in on the vector addition, let's let $x = 2$, and remove the target variables so that we now have:"
   ]
  },
  {
   "cell_type": "markdown",
   "metadata": {},
   "source": [
    "$\\begin{pmatrix}\n",
    "    1600 \\\\\n",
    "    3000 \\\\\n",
    "    4000 \\\\\n",
    "    7000 \\\\\n",
    "    8000 \\\\\n",
    "\\end{pmatrix} +   \\begin{pmatrix}\n",
    "    50 \\\\\n",
    "    30 \\\\\n",
    "    45 \\\\\n",
    "    60 \\\\\n",
    "    70 \\\\\n",
    "\\end{pmatrix}  $"
   ]
  },
  {
   "cell_type": "markdown",
   "metadata": {},
   "source": [
    "which we can reduce to the following: "
   ]
  },
  {
   "cell_type": "markdown",
   "metadata": {},
   "source": [
    "$\\begin{pmatrix}\n",
    "    1600 \\\\\n",
    "    3000 \\\\\n",
    "    4000 \\\\\n",
    "    7000 \\\\\n",
    "    8000 \\\\\n",
    "\\end{pmatrix} +   \\begin{pmatrix}\n",
    "    50 \\\\\n",
    "    30 \\\\\n",
    "    45 \\\\\n",
    "    60 \\\\\n",
    "    70 \\\\\n",
    "\\end{pmatrix}  =  \n",
    "\\begin{pmatrix}\n",
    "    1600 + 50\\\\\n",
    "    3000 + 30\\\\\n",
    "    4000 + 45\\\\\n",
    "    7000 + 60\\\\\n",
    "    8000 + 70\\\\\n",
    "\\end{pmatrix} = \n",
    "\\begin{pmatrix}\n",
    "    1650\\\\\n",
    "    3030\\\\\n",
    "    4045\\\\\n",
    "    7060\\\\\n",
    "    8070\\\\\n",
    "\\end{pmatrix}\n",
    "$"
   ]
  },
  {
   "cell_type": "markdown",
   "metadata": {},
   "source": [
    "So with vector addition, we just pair together the two vectors by their coordinates, and then perform entrywise addition.  So we just calculated in our first entry that when we spend $800$, with $x = 2$, we expect a total of $1650$ t-shirts sold."
   ]
  },
  {
   "cell_type": "markdown",
   "metadata": {},
   "source": [
    "Note that we can also perform make the same calculate with numpy."
   ]
  },
  {
   "cell_type": "code",
   "execution_count": 2,
   "metadata": {},
   "outputs": [],
   "source": [
    "import numpy as np\n",
    "a = np.array([800, 1500, 2000, 3500, 4000])\n",
    "c = np.array([50, 30, 45, 60, 70])"
   ]
  },
  {
   "cell_type": "code",
   "execution_count": 3,
   "metadata": {},
   "outputs": [
    {
     "data": {
      "text/plain": [
       "array([1600, 3000, 4000, 7000, 8000])"
      ]
     },
     "execution_count": 3,
     "metadata": {},
     "output_type": "execute_result"
    }
   ],
   "source": [
    "x = 2\n",
    "a*x"
   ]
  },
  {
   "cell_type": "code",
   "execution_count": 4,
   "metadata": {},
   "outputs": [
    {
     "data": {
      "text/plain": [
       "array([1650, 3030, 4045, 7060, 8070])"
      ]
     },
     "execution_count": 4,
     "metadata": {},
     "output_type": "execute_result"
    }
   ],
   "source": [
    "a*x + c"
   ]
  },
  {
   "cell_type": "markdown",
   "metadata": {},
   "source": [
    "### Vector addition graphically"
   ]
  },
  {
   "cell_type": "markdown",
   "metadata": {},
   "source": [
    "Now multiplying a vector by a number is called scaling the vector.  And in fact, numbers in linear algebra are generally referred to as *scalars*.  To understand why, we need to move back to a visual understanding of what occurs.  Doing so will also reinforce the idea of vector scalar multiplication more generally.\n",
    "\n",
    "Let's let narrow down our observations to three separate observations."
   ]
  },
  {
   "cell_type": "markdown",
   "metadata": {},
   "source": [
    "|ad spending    | bias | \n",
    "| ------------- |------|\n",
    "|    800        | 50   |\n",
    "|    1500        | 30  |"
   ]
  },
  {
   "cell_type": "markdown",
   "metadata": {},
   "source": [
    "Which translates to the following vector:"
   ]
  },
  {
   "cell_type": "markdown",
   "metadata": {},
   "source": [
    "$$ a= \\begin{pmatrix}\n",
    "    800 \\\\\n",
    "    1500 \\\\\n",
    "\\end{pmatrix}, b= \\begin{pmatrix}\n",
    "    50 \\\\\n",
    "    30 \\\\\n",
    "\\end{pmatrix}$$"
   ]
  },
  {
   "cell_type": "markdown",
   "metadata": {},
   "source": [
    "And visually it looks like the following."
   ]
  },
  {
   "cell_type": "code",
   "execution_count": 7,
   "metadata": {},
   "outputs": [],
   "source": [
    "def vector_trace(vector, name = '', text = ''):\n",
    "    x_coord = vector[0] \n",
    "    if len(vector) is 1:\n",
    "        trace = {'x': [0, x_coord], 'y': [0, 0], 'mode': 'lines+markers', 'name': name, 'text': text}\n",
    "        layout = {'xaxis': {'range': [0, 4]}, 'yaxis': dict(range=[-.5, .5],\n",
    "        showgrid=False,\n",
    "        zeroline=True,\n",
    "        showline=False,\n",
    "        ticks='',\n",
    "        showticklabels=False)}\n",
    "        return plot([trace], layout)\n",
    "    else:\n",
    "        y_coord = vector[1]\n",
    "        return {'x': [0, x_coord], 'y': [0, y_coord], 'mode': 'lines+markers', 'name': name, 'text': text}"
   ]
  },
  {
   "cell_type": "code",
   "execution_count": 8,
   "metadata": {},
   "outputs": [
    {
     "data": {
      "text/html": [
       "        <script type=\"text/javascript\">\n",
       "        window.PlotlyConfig = {MathJaxConfig: 'local'};\n",
       "        if (window.MathJax) {MathJax.Hub.Config({SVG: {font: \"STIX-Web\"}});}\n",
       "        if (typeof require !== 'undefined') {\n",
       "        require.undef(\"plotly\");\n",
       "        requirejs.config({\n",
       "            paths: {\n",
       "                'plotly': ['https://cdn.plot.ly/plotly-latest.min']\n",
       "            }\n",
       "        });\n",
       "        require(['plotly'], function(Plotly) {\n",
       "            window._Plotly = Plotly;\n",
       "        });\n",
       "        }\n",
       "        </script>\n",
       "        "
      ]
     },
     "metadata": {},
     "output_type": "display_data"
    }
   ],
   "source": [
    "from graph import plot, trace_values\n",
    "def plus_trace(first_array, second_array, name = ''):\n",
    "    added = first_array + second_array\n",
    "    first_added = added[0]\n",
    "    second_added = added[1]\n",
    "    second_vector_x = [first_array[0], first_added]\n",
    "    second_vector_y = [first_array[1], second_added]\n",
    "    return trace_values(second_vector_x, second_vector_y, mode = 'lines+markers', name = name)"
   ]
  },
  {
   "cell_type": "code",
   "execution_count": 9,
   "metadata": {},
   "outputs": [],
   "source": [
    "a = np.array([800, 1500])\n",
    "b = np.array([50, 30])"
   ]
  },
  {
   "cell_type": "code",
   "execution_count": 10,
   "metadata": {},
   "outputs": [],
   "source": [
    "a_trace = vector_trace(2*a, name = 'a')\n",
    "a_then_b_trace = plus_trace(2*a, b, name = 'b')"
   ]
  },
  {
   "cell_type": "code",
   "execution_count": 11,
   "metadata": {},
   "outputs": [
    {
     "data": {
      "application/vnd.plotly.v1+json": {
       "config": {
        "linkText": "Export to plot.ly",
        "plotlyServerURL": "https://plot.ly",
        "showLink": false
       },
       "data": [
        {
         "mode": "lines+markers",
         "name": "a",
         "text": "",
         "type": "scatter",
         "uid": "fe586567-a431-4575-8de9-45340a72375b",
         "x": [
          0,
          1600
         ],
         "y": [
          0,
          3000
         ]
        },
        {
         "mode": "lines+markers",
         "name": "b",
         "text": [],
         "type": "scatter",
         "uid": "295785b2-738d-431a-8de2-f2816976bd6f",
         "x": [
          1600,
          1650
         ],
         "y": [
          3000,
          3030
         ]
        }
       ],
       "layout": {
        "autosize": true,
        "xaxis": {
         "autorange": true,
         "range": [
          -101.10127624536845,
          1751.1012762453684
         ],
         "type": "linear"
        },
        "yaxis": {
         "autorange": true,
         "range": [
          -221.94267515923568,
          3251.9426751592355
         ],
         "type": "linear"
        }
       }
      },
      "image/png": "[encoded data removed]",
      "text/html": [
       "<div>\n",
       "        \n",
       "        \n",
       "            <div id=\"34b087bb-a57f-4ab0-84b8-884678355874\" class=\"plotly-graph-div\" style=\"height:525px; width:100%;\"></div>\n",
       "            <script type=\"text/javascript\">\n",
       "                require([\"plotly\"], function(Plotly) {\n",
       "                    window.PLOTLYENV=window.PLOTLYENV || {};\n",
       "                    window.PLOTLYENV.BASE_URL='https://plot.ly';\n",
       "                    \n",
       "                if (document.getElementById(\"34b087bb-a57f-4ab0-84b8-884678355874\")) {\n",
       "                    Plotly.newPlot(\n",
       "                        '34b087bb-a57f-4ab0-84b8-884678355874',\n",
       "                        [{\"mode\": \"lines+markers\", \"name\": \"a\", \"text\": \"\", \"type\": \"scatter\", \"uid\": \"fe586567-a431-4575-8de9-45340a72375b\", \"x\": [0, 1600], \"y\": [0, 3000]}, {\"mode\": \"lines+markers\", \"name\": \"b\", \"text\": [], \"type\": \"scatter\", \"uid\": \"295785b2-738d-431a-8de2-f2816976bd6f\", \"x\": [1600, 1650], \"y\": [3000, 3030]}],\n",
       "                        {},\n",
       "                        {\"showLink\": false, \"linkText\": \"Export to plot.ly\", \"plotlyServerURL\": \"https://plot.ly\", \"responsive\": true}\n",
       "                    ).then(function(){\n",
       "                            \n",
       "var gd = document.getElementById('34b087bb-a57f-4ab0-84b8-884678355874');\n",
       "var x = new MutationObserver(function (mutations, observer) {{\n",
       "        var display = window.getComputedStyle(gd).display;\n",
       "        if (!display || display === 'none') {{\n",
       "            console.log([gd, 'removed!']);\n",
       "            Plotly.purge(gd);\n",
       "            observer.disconnect();\n",
       "        }}\n",
       "}});\n",
       "\n",
       "// Listen for the removal of the full notebook cells\n",
       "var notebookContainer = gd.closest('#notebook-container');\n",
       "if (notebookContainer) {{\n",
       "    x.observe(notebookContainer, {childList: true});\n",
       "}}\n",
       "\n",
       "// Listen for the clearing of the current output cell\n",
       "var outputEl = gd.closest('.output');\n",
       "if (outputEl) {{\n",
       "    x.observe(outputEl, {childList: true});\n",
       "}}\n",
       "\n",
       "                        })\n",
       "                };\n",
       "                });\n",
       "            </script>\n",
       "        </div>"
      ]
     },
     "metadata": {},
     "output_type": "display_data"
    }
   ],
   "source": [
    "plot([a_trace, a_then_b_trace])"
   ]
  },
  {
   "cell_type": "markdown",
   "metadata": {},
   "source": [
    "As you can see we add vectors by starting one of the vectors from the origin and then tacking on the second vector.  So above, when we add $$ a= \\begin{pmatrix}\n",
    "    800 \\\\\n",
    "    1500 \\\\\n",
    "\\end{pmatrix}, b= \\begin{pmatrix}\n",
    "    50 \\\\\n",
    "    30 \\\\\n",
    "\\end{pmatrix}$$"
   ]
  },
  {
   "cell_type": "markdown",
   "metadata": {},
   "source": [
    "We start with moving 800 right and 1500 vertically with vector a.  Then from the end of vector a, we move 50 vertically and 30 and an additional 30 in the $x$ direction."
   ]
  },
  {
   "cell_type": "markdown",
   "metadata": {},
   "source": [
    "Now remember that this graph is to represent the following formulas."
   ]
  },
  {
   "cell_type": "markdown",
   "metadata": {},
   "source": [
    "$$800 + 50 = 850 $$\n",
    "$$1500 + 30 = 1530 $$\n"
   ]
  },
  {
   "cell_type": "markdown",
   "metadata": {},
   "source": [
    "Note that the solutions we arrive at are the coordinates of the end of our vector addition, $(850, 1530)$.  So visually, we can think of each coordinate being dedicated to a different observation -- moving along the $x$ axis is reserved for our first equation, and moving vertically along the $y$ axis is reserved for the second equation.  With each vector representing a feature, this means that the first feature adds 800 to our first observation, and 1500 to our second.  And our second feature adds 50 to our first observation and 30 to our second."
   ]
  },
  {
   "cell_type": "markdown",
   "metadata": {},
   "source": [
    "### Summary"
   ]
  },
  {
   "cell_type": "code",
   "execution_count": null,
   "metadata": {},
   "outputs": [],
   "source": []
  },
  {
   "cell_type": "markdown",
   "metadata": {},
   "source": [
    "* Vector addition"
   ]
  },
  {
   "cell_type": "markdown",
   "metadata": {},
   "source": [
    "Vector matrix addition is applied entrywise over the matrices.  So we just add up entries with the same index."
   ]
  },
  {
   "cell_type": "code",
   "execution_count": 8,
   "metadata": {},
   "outputs": [
    {
     "data": {
      "text/plain": [
       "array([2000, 1800, 1600, 4100, 4200])"
      ]
     },
     "execution_count": 8,
     "metadata": {},
     "output_type": "execute_result"
    }
   ],
   "source": [
    "a = np.array([1200, 300, -400, 600, 200])\n",
    "\n",
    "b = np.array([800, 1500, 2000, 3500, 4000])\n",
    "\n",
    "a + b "
   ]
  },
  {
   "cell_type": "markdown",
   "metadata": {},
   "source": [
    "* Matrix addition"
   ]
  },
  {
   "cell_type": "code",
   "execution_count": 42,
   "metadata": {},
   "outputs": [
    {
     "data": {
      "text/plain": [
       "array([[1100,  550],\n",
       "       [2700,  550],\n",
       "       [2700, 1790],\n",
       "       [4390,  370],\n",
       "       [5410,  800]])"
      ]
     },
     "execution_count": 42,
     "metadata": {},
     "output_type": "execute_result"
    }
   ],
   "source": [
    "A = np.array([\n",
    "    [800, 220],\n",
    "    [1500, 440],\n",
    "    [2000, 890],\n",
    "    [3500, 250],\n",
    "    [4000, 700],\n",
    "])\n",
    "\n",
    "B = np.array([\n",
    "    [300, 330],\n",
    "    [1200, 110],\n",
    "    [700, 900],\n",
    "    [890, 120],\n",
    "    [1410, 100],\n",
    "])\n",
    "\n",
    "A + B"
   ]
  },
  {
   "cell_type": "markdown",
   "metadata": {},
   "source": [
    "As you can see, matrix addition occurs in the same way.  Entries with the same index are added together.  And the same rules apply for vector and matrix subtraction."
   ]
  },
  {
   "cell_type": "code",
   "execution_count": 43,
   "metadata": {},
   "outputs": [
    {
     "data": {
      "text/plain": [
       "array([  400, -1200, -2400, -2900, -3800])"
      ]
     },
     "execution_count": 43,
     "metadata": {},
     "output_type": "execute_result"
    }
   ],
   "source": [
    "a = np.array([1200, 300, -400, 600, 200])\n",
    "\n",
    "b = np.array([800, 1500, 2000, 3500, 4000])\n",
    "\n",
    "a - b"
   ]
  },
  {
   "cell_type": "markdown",
   "metadata": {},
   "source": [
    "Here, the operation just matches up elements with identical indices and then subtracts."
   ]
  },
  {
   "cell_type": "markdown",
   "metadata": {},
   "source": [
    "### Matrix Operations and Shape"
   ]
  },
  {
   "cell_type": "markdown",
   "metadata": {},
   "source": [
    "* But beware"
   ]
  },
  {
   "cell_type": "markdown",
   "metadata": {},
   "source": [
    "To add or subtract vectors from one another, they must have the same dimensions. "
   ]
  },
  {
   "cell_type": "code",
   "execution_count": 44,
   "metadata": {},
   "outputs": [
    {
     "ename": "ValueError",
     "evalue": "operands could not be broadcast together with shapes (5,) (4,) ",
     "output_type": "error",
     "traceback": [
      "\u001b[0;31m---------------------------------------------------------------------------\u001b[0m",
      "\u001b[0;31mValueError\u001b[0m                                Traceback (most recent call last)",
      "\u001b[0;32m<ipython-input-44-e08829c18c42>\u001b[0m in \u001b[0;36m<module>\u001b[0;34m\u001b[0m\n\u001b[1;32m      2\u001b[0m \u001b[0;34m\u001b[0m\u001b[0m\n\u001b[1;32m      3\u001b[0m \u001b[0mc\u001b[0m \u001b[0;34m=\u001b[0m \u001b[0mnp\u001b[0m\u001b[0;34m.\u001b[0m\u001b[0marray\u001b[0m\u001b[0;34m(\u001b[0m\u001b[0;34m[\u001b[0m\u001b[0;36m200\u001b[0m\u001b[0;34m,\u001b[0m \u001b[0;36m300\u001b[0m\u001b[0;34m,\u001b[0m \u001b[0;36m700\u001b[0m\u001b[0;34m,\u001b[0m \u001b[0;36m4000\u001b[0m\u001b[0;34m]\u001b[0m\u001b[0;34m)\u001b[0m\u001b[0;34m\u001b[0m\u001b[0;34m\u001b[0m\u001b[0m\n\u001b[0;32m----> 4\u001b[0;31m \u001b[0ma\u001b[0m \u001b[0;34m+\u001b[0m \u001b[0mc\u001b[0m\u001b[0;34m\u001b[0m\u001b[0;34m\u001b[0m\u001b[0m\n\u001b[0m",
      "\u001b[0;31mValueError\u001b[0m: operands could not be broadcast together with shapes (5,) (4,) "
     ]
    }
   ],
   "source": [
    "a = np.array([1200, 300, -400, 600, 200])\n",
    "\n",
    "c = np.array([200, 300, 700, 4000])\n",
    "a + c"
   ]
  },
  {
   "cell_type": "code",
   "execution_count": null,
   "metadata": {},
   "outputs": [],
   "source": [
    "a.shape\n",
    "# (5,)\n",
    "c.shape \n",
    "# (4,)"
   ]
  },
  {
   "cell_type": "markdown",
   "metadata": {},
   "source": [
    "And, of course, matrices must also have identical shape, to add or subtract them."
   ]
  },
  {
   "cell_type": "code",
   "execution_count": 46,
   "metadata": {},
   "outputs": [],
   "source": [
    "A = np.array([\n",
    "    [800, 220],\n",
    "    [1500, 440],\n",
    "    [2000, 890],\n",
    "    [3500, 250],\n",
    "    [4000, 700],\n",
    "])\n",
    "\n",
    "C = np.array([[ 400, 1500,  300,  1200, 670],\n",
    "       [ 760,  450,  210,  450,  960]])\n",
    "\n",
    "A.shape\n",
    "# (5, 2)\n",
    "\n",
    "C.shape\n",
    "\n",
    "# (2, 5)"
   ]
  },
  {
   "cell_type": "markdown",
   "metadata": {},
   "source": [
    "Above, \n",
    "* A has five rows and two columns\n",
    "* C has two rows and five columns.  \n",
    "\n",
    "Will it add?"
   ]
  },
  {
   "cell_type": "code",
   "execution_count": 47,
   "metadata": {},
   "outputs": [
    {
     "ename": "ValueError",
     "evalue": "operands could not be broadcast together with shapes (5,2) (2,5) ",
     "output_type": "error",
     "traceback": [
      "\u001b[0;31m---------------------------------------------------------------------------\u001b[0m",
      "\u001b[0;31mValueError\u001b[0m                                Traceback (most recent call last)",
      "\u001b[0;32m<ipython-input-47-c3cb66996588>\u001b[0m in \u001b[0;36m<module>\u001b[0;34m\u001b[0m\n\u001b[0;32m----> 1\u001b[0;31m \u001b[0mA\u001b[0m \u001b[0;34m+\u001b[0m \u001b[0mC\u001b[0m\u001b[0;34m\u001b[0m\u001b[0;34m\u001b[0m\u001b[0m\n\u001b[0m",
      "\u001b[0;31mValueError\u001b[0m: operands could not be broadcast together with shapes (5,2) (2,5) "
     ]
    }
   ],
   "source": [
    "A + C"
   ]
  },
  {
   "cell_type": "markdown",
   "metadata": {},
   "source": [
    "No it won't.  "
   ]
  },
  {
   "cell_type": "markdown",
   "metadata": {},
   "source": [
    "But we can fix it.  $ A \\in \\mathbb{R}^{5,2} $ and $ C \\in \\mathbb{R}^{2, 5} $.  One solution is to flip the rows and columns of the matrix C.  That is to transpose C to make it a 5 by 2 matrix, and then add C + A.  \n",
    "\n",
    "Let's see it."
   ]
  },
  {
   "cell_type": "code",
   "execution_count": null,
   "metadata": {},
   "outputs": [],
   "source": [
    "C = np.array([[ 400, 1500,  300,  1200, 670],\n",
    "       [ 760,  450,  210,  450,  960]])"
   ]
  },
  {
   "cell_type": "code",
   "execution_count": 33,
   "metadata": {},
   "outputs": [
    {
     "data": {
      "text/plain": [
       "array([[ 400,  760],\n",
       "       [1500,  450],\n",
       "       [ 300,  210],\n",
       "       [1200,  450],\n",
       "       [ 670,  960]])"
      ]
     },
     "execution_count": 33,
     "metadata": {},
     "output_type": "execute_result"
    }
   ],
   "source": [
    "C.T"
   ]
  },
  {
   "cell_type": "markdown",
   "metadata": {},
   "source": [
    "We just transposed the matrix.  This changes the entries in the first row, to entries in the first column.  Entries in the second row are now the entries in the second column.  And so on.  "
   ]
  },
  {
   "cell_type": "markdown",
   "metadata": {},
   "source": [
    "Now notice that A and $C^{T}$, C transposed, have the same shape."
   ]
  },
  {
   "cell_type": "code",
   "execution_count": 34,
   "metadata": {},
   "outputs": [
    {
     "data": {
      "text/plain": [
       "(5, 2)"
      ]
     },
     "execution_count": 34,
     "metadata": {},
     "output_type": "execute_result"
    }
   ],
   "source": [
    "A.shape"
   ]
  },
  {
   "cell_type": "code",
   "execution_count": 35,
   "metadata": {},
   "outputs": [
    {
     "data": {
      "text/plain": [
       "(5, 2)"
      ]
     },
     "execution_count": 35,
     "metadata": {},
     "output_type": "execute_result"
    }
   ],
   "source": [
    "C.T.shape"
   ]
  },
  {
   "cell_type": "markdown",
   "metadata": {},
   "source": [
    "So we can add these matrices up."
   ]
  },
  {
   "cell_type": "code",
   "execution_count": 37,
   "metadata": {},
   "outputs": [
    {
     "data": {
      "text/plain": [
       "array([[ 800,  220],\n",
       "       [1500,  440],\n",
       "       [2000,  890],\n",
       "       [3500,  250],\n",
       "       [4000,  700]])"
      ]
     },
     "execution_count": 37,
     "metadata": {},
     "output_type": "execute_result"
    }
   ],
   "source": [
    "A"
   ]
  },
  {
   "cell_type": "code",
   "execution_count": 38,
   "metadata": {},
   "outputs": [
    {
     "data": {
      "text/plain": [
       "array([[ 400,  760],\n",
       "       [1500,  450],\n",
       "       [ 300,  210],\n",
       "       [1200,  450],\n",
       "       [ 670,  960]])"
      ]
     },
     "execution_count": 38,
     "metadata": {},
     "output_type": "execute_result"
    }
   ],
   "source": [
    "C.T"
   ]
  },
  {
   "cell_type": "code",
   "execution_count": 40,
   "metadata": {},
   "outputs": [
    {
     "data": {
      "text/plain": [
       "array([[1200,  980],\n",
       "       [3000,  890],\n",
       "       [2300, 1100],\n",
       "       [4700,  700],\n",
       "       [4670, 1660]])"
      ]
     },
     "execution_count": 40,
     "metadata": {},
     "output_type": "execute_result"
    }
   ],
   "source": [
    "A + C.T"
   ]
  },
  {
   "cell_type": "markdown",
   "metadata": {},
   "source": [
    "### Summary"
   ]
  },
  {
   "cell_type": "markdown",
   "metadata": {},
   "source": [
    "In this lesson, we saw how to add and subtract vectors and matrices.  Vectors and matrix addition and subtraction occurs entrywise, so entries with the same index are added together.  If we do not have vectors or matrices of the same shape, we cannot perform addition or subtraction.\n",
    "\n",
    "We also saw that we can transpose a matrix.  Transposing a matrix just means to flip the rows and columns of the matrix.  So now the first row of the original matrix becomes the first column of the transposed matrix, and the first column of the original matrix becomes the first row of the original matrix."
   ]
  },
  {
   "cell_type": "code",
   "execution_count": 48,
   "metadata": {},
   "outputs": [],
   "source": [
    "C = np.array([[ 400, 1500,  300,  1200, 670],\n",
    "       [ 760,  450,  210,  450,  960]])"
   ]
  },
  {
   "cell_type": "code",
   "execution_count": 49,
   "metadata": {},
   "outputs": [
    {
     "data": {
      "text/plain": [
       "array([[ 400,  760],\n",
       "       [1500,  450],\n",
       "       [ 300,  210],\n",
       "       [1200,  450],\n",
       "       [ 670,  960]])"
      ]
     },
     "execution_count": 49,
     "metadata": {},
     "output_type": "execute_result"
    }
   ],
   "source": [
    "C.T"
   ]
  },
  {
   "cell_type": "code",
   "execution_count": null,
   "metadata": {},
   "outputs": [],
   "source": []
  }
 ],
 "metadata": {
  "kernelspec": {
   "display_name": "Python 3",
   "language": "python",
   "name": "python3"
  },
  "language_info": {
   "codemirror_mode": {
    "name": "ipython",
    "version": 3
   },
   "file_extension": ".py",
   "mimetype": "text/x-python",
   "name": "python",
   "nbconvert_exporter": "python",
   "pygments_lexer": "ipython3",
   "version": "3.7.3"
  }
 },
 "nbformat": 4,
 "nbformat_minor": 2
}
