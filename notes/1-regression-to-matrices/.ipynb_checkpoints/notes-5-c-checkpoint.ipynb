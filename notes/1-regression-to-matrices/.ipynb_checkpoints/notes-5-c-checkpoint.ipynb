{
 "cells": [
  {
   "cell_type": "markdown",
   "metadata": {},
   "source": [
    "# Working with Matrices"
   ]
  },
  {
   "cell_type": "markdown",
   "metadata": {},
   "source": [
    "### Back to our domain"
   ]
  },
  {
   "cell_type": "markdown",
   "metadata": {},
   "source": [
    "Let's continue with our problem of using the features of `ad spending` and `price` to predict T-shirt sales."
   ]
  },
  {
   "cell_type": "markdown",
   "metadata": {},
   "source": [
    "|ad spending    | price|t-shirts           \n",
    "| ------------- |------|:-------------:| \n",
    "|    800        | 13  | 330  | \n",
    "|    1500        |11 | 780  | \n",
    "|    2000      | 9 | 1130  | \n",
    "|    3500      | 10 | 1310  | \n",
    "|    4000      | 8 | 1780  | "
   ]
  },
  {
   "cell_type": "markdown",
   "metadata": {},
   "source": [
    "And as we know we can represent our problem of predicting T-shirts as solving for the equation $Ax = b$ where:"
   ]
  },
  {
   "cell_type": "markdown",
   "metadata": {},
   "source": [
    "$A =  \\begin{pmatrix}\n",
    "800 & 13  \\\\\n",
    "1500 & 11 \\\\\n",
    "2000 & 9 \\\\\n",
    "3500 & 10 \\\\\n",
    "4000 & 8 \\\\\n",
    "\\end{pmatrix}$ \n",
    "\n",
    "$x = \\begin{pmatrix}\n",
    "    x_1 \\\\\n",
    "    x_2 \\\\\n",
    "\\end{pmatrix}$\n",
    "\n",
    "$b = \\begin{pmatrix}\n",
    "    800 \\\\\n",
    "    1500 \\\\\n",
    "    2000 \\\\\n",
    "    3500 \\\\\n",
    "    4000 \\\\\n",
    "\\end{pmatrix}$"
   ]
  },
  {
   "cell_type": "markdown",
   "metadata": {},
   "source": [
    "Now of the variables listed above, we can see that two of them are vectors, as two of them are one dimensional.  The other variable, A, is a two dimensional array of values, and is called a matrix.  Let's take some time to explore matrices."
   ]
  },
  {
   "cell_type": "markdown",
   "metadata": {},
   "source": [
    "### Introduction to matrices"
   ]
  },
  {
   "cell_type": "markdown",
   "metadata": {},
   "source": [
    "A **matrix** is a two dimensional array of values.  While it's a convention to use lower case variable to describe a vector, we conventionally use a capitalized variable to represent a matrix.  \n",
    "\n",
    "Just like with a vector, we can also describe a matrix by it's rank.  For example, we can represent the matrix A above as the following:\n",
    "\n",
    "$$A \\in \\mathbb{R}^{5x2}$$"
   ]
  },
  {
   "cell_type": "markdown",
   "metadata": {},
   "source": [
    "where 5 represents the number of rows and two represents the number of columns."
   ]
  },
  {
   "cell_type": "markdown",
   "metadata": {},
   "source": [
    "To describe matrices in general we say that $A \\in \\mathbb{R}^{mxn}$ where $m$ is the number of rows of the matrix and $n$ is the number of columns."
   ]
  },
  {
   "cell_type": "markdown",
   "metadata": {},
   "source": [
    "### Specifying entries of a matrix"
   ]
  },
  {
   "cell_type": "markdown",
   "metadata": {},
   "source": [
    "This is how we can describe the entries of a matrix."
   ]
  },
  {
   "cell_type": "markdown",
   "metadata": {},
   "source": [
    "$ \n",
    "C = \\left[\\begin{array}{cccc} \n",
    "C_{11} & C_{12} & \\cdots & C_{1n} \\\\ \n",
    "C_{21} & C_{22} & \\cdots & C_{2n} \\\\ \n",
    "\\vdots & \\vdots & \\ddots & \\vdots \\\\ \n",
    "C_{m1} & C_{m2} & \\cdots & C_{mn}\n",
    "\\end{array} \\right ] $ "
   ]
  },
  {
   "cell_type": "markdown",
   "metadata": {},
   "source": [
    "As you can see, the first number indicates the row of our entry, and the second number represents the column of a matrix."
   ]
  },
  {
   "cell_type": "markdown",
   "metadata": {},
   "source": [
    "Let's go back to our original matrix $A$ and specify some of the entries."
   ]
  },
  {
   "cell_type": "markdown",
   "metadata": {},
   "source": [
    "$A =  \\begin{pmatrix}\n",
    "800 & 13  \\\\\n",
    "1500 & 11 \\\\\n",
    "2000 & 9 \\\\\n",
    "3500 & 10 \\\\\n",
    "4000 & 8 \\\\\n",
    "\\end{pmatrix}$ "
   ]
  },
  {
   "cell_type": "markdown",
   "metadata": {},
   "source": [
    "So if we like to specify the number 9 in our matrix $A$, we can do so just by specifying the row followed by the column: \n",
    "\n",
    "$$ A_{32} = 9$$"
   ]
  },
  {
   "cell_type": "markdown",
   "metadata": {},
   "source": [
    "### Summary"
   ]
  },
  {
   "cell_type": "markdown",
   "metadata": {},
   "source": [
    "In this lesson, we learned about working with matrices."
   ]
  }
 ],
 "metadata": {
  "kernelspec": {
   "display_name": "Python 3",
   "language": "python",
   "name": "python3"
  },
  "language_info": {
   "codemirror_mode": {
    "name": "ipython",
    "version": 3
   },
   "file_extension": ".py",
   "mimetype": "text/x-python",
   "name": "python",
   "nbconvert_exporter": "python",
   "pygments_lexer": "ipython3",
   "version": "3.7.4"
  }
 },
 "nbformat": 4,
 "nbformat_minor": 4
}
