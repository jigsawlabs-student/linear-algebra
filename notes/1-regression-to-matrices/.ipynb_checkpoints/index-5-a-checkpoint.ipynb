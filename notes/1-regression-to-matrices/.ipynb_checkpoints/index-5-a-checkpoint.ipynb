{
 "cells": [
  {
   "cell_type": "markdown",
   "metadata": {},
   "source": [
    "# Vector Scaling "
   ]
  },
  {
   "cell_type": "markdown",
   "metadata": {},
   "source": [
    "### Introduction"
   ]
  },
  {
   "cell_type": "markdown",
   "metadata": {},
   "source": [
    "Now there are two main operations that we perform in linear algebra, the first is adding.  Let's start learn some vector addition."
   ]
  },
  {
   "cell_type": "markdown",
   "metadata": {},
   "source": [
    "### Back to Linear Equations"
   ]
  },
  {
   "cell_type": "markdown",
   "metadata": {},
   "source": [
    "Let's say that we have the following data:"
   ]
  },
  {
   "cell_type": "markdown",
   "metadata": {},
   "source": [
    "|ad spending    | \n",
    "| :-------------: |\n",
    "|    800        |\n",
    "|    1500        |\n",
    "|    2000      | \n",
    "|    3500      | \n",
    "|    4000      | "
   ]
  },
  {
   "cell_type": "markdown",
   "metadata": {},
   "source": [
    "Now remember that we believe that ad spending multiplied by some number equals the number of T-shirts sold.  So when we try to predict the number of T-shirts sold we write it as the following:\n",
    "\n",
    "$$800x $$\n",
    "$$1500x $$\n",
    "$$2000x$$\n",
    "$$3500x  $$\n",
    "$$4000x $$"
   ]
  },
  {
   "cell_type": "markdown",
   "metadata": {},
   "source": [
    "Here the numbers 800 to 400 are our feature variables for ad spending, and $x$ is the related coefficient."
   ]
  },
  {
   "cell_type": "markdown",
   "metadata": {},
   "source": [
    "Let's say that $x = 2$.  That is for every dollar on ad spending sold we then sell two t-shirts."
   ]
  },
  {
   "cell_type": "markdown",
   "metadata": {},
   "source": [
    "$$800x = 1600$$\n",
    "$$1500x = 3000$$\n",
    "$$2000x = 4000 $$\n",
    "$$3500x = 7500 $$\n",
    "$$4000x = 4000 $$"
   ]
  },
  {
   "cell_type": "markdown",
   "metadata": {},
   "source": [
    "When $x = 2$."
   ]
  },
  {
   "cell_type": "markdown",
   "metadata": {},
   "source": [
    "### What's the problem?"
   ]
  },
  {
   "cell_type": "markdown",
   "metadata": {},
   "source": [
    "Now to perform calculate the above, we had to perform five separate operations.  Even though, when first articulated what we were doing, we described it more abstractly: multiply our set of numbers by two.  Vectors allows us to stay in this higher level of abstraction.  We simply treat each of our ad spend feature varibles as a vector, and then we can rewrite the above like so."
   ]
  },
  {
   "cell_type": "markdown",
   "metadata": {},
   "source": [
    "$2* \\begin{pmatrix}\n",
    "    800 \\\\\n",
    "    1500 \\\\\n",
    "    2000 \\\\\n",
    "    3500 \\\\\n",
    "    4000 \\\\\n",
    "\\end{pmatrix} = \\begin{pmatrix}\n",
    "    2* 800 \\\\\n",
    "    2*1500 \\\\\n",
    "    2*2000 \\\\\n",
    "    2*3500 \\\\\n",
    "    2*4000 \\\\\n",
    "\\end{pmatrix} = \\begin{pmatrix}\n",
    "    1600 \\\\\n",
    "    3000 \\\\\n",
    "    4000 \\\\\n",
    "    7000 \\\\\n",
    "    8000 \\\\\n",
    "\\end{pmatrix} $\n"
   ]
  },
  {
   "cell_type": "markdown",
   "metadata": {},
   "source": [
    "If we move to numpy, we can see another illustration of this point."
   ]
  },
  {
   "cell_type": "code",
   "execution_count": 1,
   "metadata": {},
   "outputs": [],
   "source": [
    "import numpy as np"
   ]
  },
  {
   "cell_type": "code",
   "execution_count": 2,
   "metadata": {},
   "outputs": [],
   "source": [
    "a = np.array([800, 1500, 2000, 3500, 4000])"
   ]
  },
  {
   "cell_type": "code",
   "execution_count": 3,
   "metadata": {},
   "outputs": [
    {
     "data": {
      "text/plain": [
       "array([1600, 3000, 4000, 7000, 8000])"
      ]
     },
     "execution_count": 3,
     "metadata": {},
     "output_type": "execute_result"
    }
   ],
   "source": [
    "a*2"
   ]
  },
  {
   "cell_type": "markdown",
   "metadata": {},
   "source": [
    "One of the main takeaways from the above, is that a number multiplied by a vector, returns to us another vector.  And it's calculated out multiplying each entry in a vector by that number."
   ]
  },
  {
   "cell_type": "markdown",
   "metadata": {},
   "source": [
    "### Vector multiplication graphically"
   ]
  },
  {
   "cell_type": "markdown",
   "metadata": {},
   "source": [
    "Now multiplying a vector by a number is called scaling the vector.  And in fact, numbers in linear algebra are generally referred to as *scalars*.  To understand why, we need to move back to a visual understanding of what occurs.  Doing so will also reinforce the idea of vector scalar multiplication more generally.\n",
    "\n",
    "Let's let narrow down our observations to three separate observations."
   ]
  },
  {
   "cell_type": "markdown",
   "metadata": {},
   "source": [
    "|ad spending    | \n",
    "| ------------- |\n",
    "|    800        |\n",
    "|    1500        | "
   ]
  },
  {
   "cell_type": "markdown",
   "metadata": {},
   "source": [
    "Which translates to the following vector:"
   ]
  },
  {
   "cell_type": "markdown",
   "metadata": {},
   "source": [
    "$$ a= \\begin{pmatrix}\n",
    "    800 \\\\\n",
    "    1500 \\\\\n",
    "\\end{pmatrix}$$"
   ]
  },
  {
   "cell_type": "code",
   "execution_count": 72,
   "metadata": {},
   "outputs": [
    {
     "data": {
      "application/vnd.plotly.v1+json": {
       "config": {
        "linkText": "Export to plot.ly",
        "plotlyServerURL": "https://plot.ly",
        "showLink": false
       },
       "data": [
        {
         "line": {
          "width": 3
         },
         "mode": "lines+markers",
         "name": "1/2*a",
         "type": "scatter",
         "uid": "21e767a9-c3eb-4c5a-aff6-4a1d5c5d1fa4",
         "visible": true,
         "x": [
          0,
          400
         ],
         "y": [
          0,
          750
         ]
        },
        {
         "line": {
          "width": 2
         },
         "mode": "lines+markers",
         "name": "a",
         "type": "scatter",
         "uid": "39f1b9f0-2aa4-4170-a654-8aa13da46c82",
         "visible": true,
         "x": [
          0,
          800
         ],
         "y": [
          0,
          1500
         ]
        },
        {
         "line": {
          "width": 1
         },
         "mode": "lines+markers",
         "name": "2*a",
         "type": "scatter",
         "uid": "b39eb038-36e5-4de6-ae5d-1caf592367d6",
         "visible": true,
         "x": [
          0,
          1600
         ],
         "y": [
          0,
          3000
         ]
        }
       ],
       "layout": {
        "autosize": true,
        "xaxis": {
         "range": [
          0,
          2000
         ],
         "type": "linear"
        },
        "yaxis": {
         "range": [
          0,
          3500
         ],
         "type": "linear"
        }
       }
      },
      "image/png": "[encoded data removed]",
      "text/html": [
       "<div>\n",
       "        \n",
       "        \n",
       "            <div id=\"322f5368-6776-4ee1-9627-f0deb49ed6ff\" class=\"plotly-graph-div\" style=\"height:525px; width:100%;\"></div>\n",
       "            <script type=\"text/javascript\">\n",
       "                require([\"plotly\"], function(Plotly) {\n",
       "                    window.PLOTLYENV=window.PLOTLYENV || {};\n",
       "                    window.PLOTLYENV.BASE_URL='https://plot.ly';\n",
       "                    \n",
       "                if (document.getElementById(\"322f5368-6776-4ee1-9627-f0deb49ed6ff\")) {\n",
       "                    Plotly.newPlot(\n",
       "                        '322f5368-6776-4ee1-9627-f0deb49ed6ff',\n",
       "                        [{\"line\": {\"width\": 3}, \"mode\": \"lines+markers\", \"name\": \"1/2*a\", \"type\": \"scatter\", \"uid\": \"21e767a9-c3eb-4c5a-aff6-4a1d5c5d1fa4\", \"x\": [0, 400], \"y\": [0, 750]}, {\"line\": {\"width\": 2}, \"mode\": \"lines+markers\", \"name\": \"a\", \"type\": \"scatter\", \"uid\": \"39f1b9f0-2aa4-4170-a654-8aa13da46c82\", \"x\": [0, 800], \"y\": [0, 1500]}, {\"line\": {\"width\": 1}, \"mode\": \"lines+markers\", \"name\": \"2*a\", \"type\": \"scatter\", \"uid\": \"b39eb038-36e5-4de6-ae5d-1caf592367d6\", \"x\": [0, 1600], \"y\": [0, 3000]}],\n",
       "                        {\"xaxis\": {\"range\": [0, 2000]}, \"yaxis\": {\"range\": [0, 3500]}},\n",
       "                        {\"showLink\": false, \"linkText\": \"Export to plot.ly\", \"plotlyServerURL\": \"https://plot.ly\", \"responsive\": true}\n",
       "                    ).then(function(){\n",
       "                            \n",
       "var gd = document.getElementById('322f5368-6776-4ee1-9627-f0deb49ed6ff');\n",
       "var x = new MutationObserver(function (mutations, observer) {{\n",
       "        var display = window.getComputedStyle(gd).display;\n",
       "        if (!display || display === 'none') {{\n",
       "            console.log([gd, 'removed!']);\n",
       "            Plotly.purge(gd);\n",
       "            observer.disconnect();\n",
       "        }}\n",
       "}});\n",
       "\n",
       "// Listen for the removal of the full notebook cells\n",
       "var notebookContainer = gd.closest('#notebook-container');\n",
       "if (notebookContainer) {{\n",
       "    x.observe(notebookContainer, {childList: true});\n",
       "}}\n",
       "\n",
       "// Listen for the clearing of the current output cell\n",
       "var outputEl = gd.closest('.output');\n",
       "if (outputEl) {{\n",
       "    x.observe(outputEl, {childList: true});\n",
       "}}\n",
       "\n",
       "                        })\n",
       "                };\n",
       "                });\n",
       "            </script>\n",
       "        </div>"
      ]
     },
     "metadata": {},
     "output_type": "display_data"
    }
   ],
   "source": [
    "from graph import plot\n",
    "\n",
    "trace1 =dict(mode='lines+markers', x=[0, 1600], y=[0, 3000], name = '2*a', line=dict(width=1))\n",
    "trace =dict(mode='lines+markers', x=[0, 800], y=[0, 1500], name = 'a',line = dict(width = 2))\n",
    "trace2 =dict(mode='lines+markers', x=[0, 400], y=[0, 750], name = '1/2*a', line=dict(width=3))\n",
    "plot([trace2, trace, trace1], {'xaxis': {'range': [0, 2000]}, 'yaxis': {'range': [0, 3500]}})"
   ]
  },
  {
   "cell_type": "markdown",
   "metadata": {},
   "source": [
    "So what you begin to see here, is that by multiplying the by a whole number or a fraction, the vector stays pointing the same direction and we literally scale it up or down.  So multiplying a vector by a scalar just means stretching or shrinking the vector.  To accomplish this, we multiply each component of the vector by the same number."
   ]
  },
  {
   "cell_type": "markdown",
   "metadata": {},
   "source": [
    "### Summary"
   ]
  }
 ],
 "metadata": {
  "kernelspec": {
   "display_name": "Python 3",
   "language": "python",
   "name": "python3"
  },
  "language_info": {
   "codemirror_mode": {
    "name": "ipython",
    "version": 3
   },
   "file_extension": ".py",
   "mimetype": "text/x-python",
   "name": "python",
   "nbconvert_exporter": "python",
   "pygments_lexer": "ipython3",
   "version": "3.7.3"
  }
 },
 "nbformat": 4,
 "nbformat_minor": 2
}
