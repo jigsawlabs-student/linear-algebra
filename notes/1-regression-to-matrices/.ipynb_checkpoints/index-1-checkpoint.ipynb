{
 "cells": [
  {
   "cell_type": "markdown",
   "metadata": {},
   "source": [
    "# A different approach to regression"
   ]
  },
  {
   "cell_type": "markdown",
   "metadata": {},
   "source": [
    "### Introduction"
   ]
  },
  {
   "cell_type": "markdown",
   "metadata": {},
   "source": [
    "Let's return to our problem of predicting T-shirt sales."
   ]
  },
  {
   "cell_type": "markdown",
   "metadata": {},
   "source": [
    "|ad spending        | t-shirts           \n",
    "| ------------- |:-------------:| \n",
    "|    800        | 330  | \n",
    "|    1500        |780 | \n",
    "|    2000      | 1130 | \n",
    "|    3500      | 1310 | \n",
    "|    4000      | 1780 | "
   ]
  },
  {
   "cell_type": "code",
   "execution_count": 1,
   "metadata": {},
   "outputs": [],
   "source": [
    "inputs = [800, 1500, 2000, 3500, 4000]\n",
    "outcomes = [330, 780, 1130, 1310, 1780]"
   ]
  },
  {
   "cell_type": "markdown",
   "metadata": {},
   "source": [
    "Now let's just look at one of the rows of data."
   ]
  },
  {
   "cell_type": "markdown",
   "metadata": {},
   "source": [
    "|ad spending        | t-shirts           \n",
    "| ------------- |:-------------:| \n",
    "|    800        | 330  | "
   ]
  },
  {
   "cell_type": "markdown",
   "metadata": {},
   "source": [
    "When we do linear regression, really what we are trying to do is the following: \n",
    "\n",
    "> Find the impact of our **independent variable**, here ad-spending, on our **dependent variable** of t-shirts.  \n",
    "\n",
    "We've previously written this as an equation."
   ]
  },
  {
   "cell_type": "markdown",
   "metadata": {},
   "source": [
    "$m*800 = 300$ "
   ]
  },
  {
   "cell_type": "markdown",
   "metadata": {},
   "source": [
    "where:\n",
    "\n",
    "* $800$ is the amount of ad spending\n",
    "* $300$ is the related number of T shirts sold\n",
    "* $m$ is our coefficient - the impact ad spending has on T-shirts"
   ]
  },
  {
   "cell_type": "markdown",
   "metadata": {},
   "source": [
    "So this coefficient $m$ is an example of a parameter we try to solve for when perform linear regression.  \n",
    "\n",
    "When we only have one row of data, solving for $m$ is fairly straight-forward."
   ]
  },
  {
   "cell_type": "markdown",
   "metadata": {},
   "source": [
    "$m*800 = 300$ "
   ]
  },
  {
   "cell_type": "markdown",
   "metadata": {},
   "source": [
    "$ m * \\dfrac{800}{800} = \\dfrac{300}{800} $"
   ]
  },
  {
   "cell_type": "markdown",
   "metadata": {},
   "source": [
    "$m =  \\dfrac{300}{800} $"
   ]
  },
  {
   "cell_type": "markdown",
   "metadata": {},
   "source": [
    "### Moving to multiple observations"
   ]
  },
  {
   "cell_type": "markdown",
   "metadata": {},
   "source": [
    "Of course the whole reason why we can't simply use algebra for regression is because we have not just one observation but rows of observations.  \n",
    "\n",
    "|ad spending        | t-shirts           \n",
    "| ------------- |:-------------:| \n",
    "|    800        | 330  | \n",
    "|    1500        |780 | \n",
    "|    2000      | 1130 | \n",
    "|    3500      | 1310 | \n",
    "|    4000      | 1780 | \n",
    "\n",
    "And we want to find *a single coefficient value* to multiply each of our independent variables by to equal our dependent variable."
   ]
  },
  {
   "cell_type": "markdown",
   "metadata": {},
   "source": [
    "$$800*m = 330 $$\n",
    "$$1500*m = 780 $$\n",
    "$$2000*m = 1130 $$\n",
    "$$3500*m = 1310 $$\n",
    "$$4000*m = 1780$$"
   ]
  },
  {
   "cell_type": "markdown",
   "metadata": {},
   "source": [
    "It makes sense that we are assuming $m$ is the same across equations.  This reflects our assumption that the number of T-shirt sales per ad spending will be constant across our different observations."
   ]
  },
  {
   "cell_type": "markdown",
   "metadata": {},
   "source": [
    "Notice that this solving a system of equations appears different from our trial and error approach that we saw before.  And it is different.  This approach is more algebraic, and it is referred to as the *analytic solution to regression*.  \n",
    "\n",
    "We'll learn more about it later, but first we need to learn some more fundamentals."
   ]
  },
  {
   "cell_type": "markdown",
   "metadata": {},
   "source": [
    "### Introducing Linear Algebra"
   ]
  },
  {
   "cell_type": "markdown",
   "metadata": {},
   "source": [
    "Let's look again at our equations from before."
   ]
  },
  {
   "cell_type": "markdown",
   "metadata": {},
   "source": [
    "$$800*m = 330 $$\n",
    "$$1500*m = 780 $$\n",
    "$$2000*m = 1130 $$\n",
    "$$3500*m = 1310 $$\n",
    "$$4000*m = 1780$$"
   ]
  },
  {
   "cell_type": "markdown",
   "metadata": {},
   "source": [
    "Our approach to solving regression is to find a single value of $m$ that solves or comes close to solving our equations above. \n",
    "\n",
    "Now this problem  of having multiple equations, and trying to find a coefficient that satisfies all of the equations is a problem that arises throughout mathematics.  It's called \"solving a system of equations\", and an entire field of mathematics has been created related to this problem.  The field is called linear algebra."
   ]
  },
  {
   "cell_type": "markdown",
   "metadata": {},
   "source": [
    "To understand machine learning, we won't have to learn an entire course in linear algebra, but we will need to learn some of the basics.  Doing so will allow us to understand the some of the concepts in machine learning which come from linear algebra, and it will also allow us to understand the notation of linear algebra, which is how many data scientists speak about and understand machine learning algorithms. "
   ]
  },
  {
   "cell_type": "markdown",
   "metadata": {},
   "source": [
    "By using linear algebra we can express our entire system of equations below..."
   ]
  },
  {
   "cell_type": "markdown",
   "metadata": {},
   "source": [
    "$$800*x = 330 $$\n",
    "$$1500*x = 780 $$\n",
    "$$2000*x = 1130 $$\n",
    "$$3500*x = 1310 $$\n",
    "$$4000*x = 1780$$"
   ]
  },
  {
   "cell_type": "markdown",
   "metadata": {},
   "source": [
    "> We replaced the variable $m$ with $x$ to follow convention."
   ]
  },
  {
   "cell_type": "markdown",
   "metadata": {},
   "source": [
    "as the following: "
   ]
  },
  {
   "cell_type": "markdown",
   "metadata": {},
   "source": [
    "$ax = b$"
   ]
  },
  {
   "cell_type": "markdown",
   "metadata": {},
   "source": [
    "Where a is the vector: \n",
    "\n",
    "$a = \\begin{pmatrix}\n",
    "    800 \\\\\n",
    "    1500 \\\\\n",
    "    2000 \\\\\n",
    "    3500 \\\\\n",
    "    4000 \\\\\n",
    "\\end{pmatrix}$\n",
    "\n",
    "$x$ is a scalar. \n",
    "\n",
    "and $b$ is the vector:\n",
    "\n",
    "$b =  \\begin{pmatrix}\n",
    "330   \\\\\n",
    "780 \\\\\n",
    "1130 \\\\\n",
    "1310 \\\\\n",
    "1780 \\\\\n",
    "\\end{pmatrix}$ \n",
    "\n",
    "\n",
    "\n"
   ]
  },
  {
   "cell_type": "markdown",
   "metadata": {},
   "source": [
    "But we're getting a little ahead of ourselves.  We don't yet know what a scalar or a vector is.  Or why we would want to use them.  So that is where we will go next."
   ]
  },
  {
   "cell_type": "markdown",
   "metadata": {},
   "source": [
    "### Summary"
   ]
  },
  {
   "cell_type": "markdown",
   "metadata": {},
   "source": [
    "In this lesson, we saw how when we are given a set of observations\n",
    "\n",
    "|ad spending        | t-shirts           \n",
    "| ------------- |:-------------:| \n",
    "|    800        | 330  | \n",
    "|    1500        |780 | \n",
    "|    2000      | 1130 | \n",
    "|    3500      | 1310 | \n",
    "|    4000      | 1780 | \n",
    "\n",
    "* We can translate the problem of linear regression, where we try to discover the coefficient (or coefficients) that predict a target, \n",
    "* To solving a system of linear equations, and finding the coefficients that solve or come close to solving our system of equations: "
   ]
  },
  {
   "cell_type": "markdown",
   "metadata": {},
   "source": [
    "$$800*x = 330 $$\n",
    "\n",
    "$$1500*x = 780 $$\n",
    "\n",
    "$$2000*x = 1130 $$\n",
    "\n",
    "$$3500*x = 1310 $$\n",
    "\n",
    "$$4000*x = 1780$$"
   ]
  },
  {
   "cell_type": "markdown",
   "metadata": {},
   "source": [
    "This approach (which we'll later explore further) is called the analytic solution to regression."
   ]
  },
  {
   "cell_type": "markdown",
   "metadata": {},
   "source": [
    "We can rewrite a system of equations using vectors.  Below we let our features equal the vector $a$, our target variables equal the vector $b$, and our coefficients equal to the scalar $x$."
   ]
  },
  {
   "cell_type": "markdown",
   "metadata": {},
   "source": [
    "Where $a$ is the vector: \n",
    "\n",
    "$a = \\begin{pmatrix}\n",
    "    800 \\\\\n",
    "    1500 \\\\\n",
    "    2000 \\\\\n",
    "    3500 \\\\\n",
    "    4000 \\\\\n",
    "\\end{pmatrix}$\n",
    "\n",
    "$x$ is a scalar. \n",
    "\n",
    "and $b$ is the vector:\n",
    "\n",
    "$b =  \\begin{pmatrix}\n",
    "330   \\\\\n",
    "780 \\\\\n",
    "1130 \\\\\n",
    "1310 \\\\\n",
    "1780 \\\\\n",
    "\\end{pmatrix}$ "
   ]
  },
  {
   "cell_type": "markdown",
   "metadata": {},
   "source": [
    "In the lessons that follow, we'll try to better understand how we can re-express and understand our problem of linear regression using vectors and matrices."
   ]
  }
 ],
 "metadata": {
  "kernelspec": {
   "display_name": "Python 3",
   "language": "python",
   "name": "python3"
  },
  "language_info": {
   "codemirror_mode": {
    "name": "ipython",
    "version": 3
   },
   "file_extension": ".py",
   "mimetype": "text/x-python",
   "name": "python",
   "nbconvert_exporter": "python",
   "pygments_lexer": "ipython3",
   "version": "3.7.3"
  }
 },
 "nbformat": 4,
 "nbformat_minor": 2
}
