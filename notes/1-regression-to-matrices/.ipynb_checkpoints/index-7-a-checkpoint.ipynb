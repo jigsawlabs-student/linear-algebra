{
 "cells": [
  {
   "cell_type": "markdown",
   "metadata": {},
   "source": [
    "### Vector Multiplication"
   ]
  },
  {
   "cell_type": "markdown",
   "metadata": {},
   "source": [
    "### Introduction"
   ]
  },
  {
   "cell_type": "markdown",
   "metadata": {},
   "source": [
    "Go back to the system of linear equations"
   ]
  },
  {
   "cell_type": "markdown",
   "metadata": {},
   "source": [
    "Let's do some multiplication."
   ]
  },
  {
   "cell_type": "code",
   "execution_count": 12,
   "metadata": {},
   "outputs": [],
   "source": [
    "import numpy as np\n",
    "\n",
    "a = np.array([1, 2, 3])\n",
    "\n",
    "b = np.array([5, 3, 4])"
   ]
  },
  {
   "cell_type": "code",
   "execution_count": 13,
   "metadata": {},
   "outputs": [
    {
     "data": {
      "text/plain": [
       "23"
      ]
     },
     "execution_count": 13,
     "metadata": {},
     "output_type": "execute_result"
    }
   ],
   "source": [
    "a.dot(b)"
   ]
  },
  {
   "cell_type": "markdown",
   "metadata": {},
   "source": [
    "> * Multiplying two vectors together is called taking the **dot product**.  \n",
    "> * To calculate the dot product, we do entrywise multiplication, and then take the sum.\n",
    "> * The resulting value is not a vector, but a number.\n",
    "> * The technical term for a single real valued number is called a scalar."
   ]
  },
  {
   "cell_type": "markdown",
   "metadata": {},
   "source": [
    "So above we perform the following."
   ]
  },
  {
   "cell_type": "markdown",
   "metadata": {},
   "source": [
    "$a \\dot b = 1*5 + 2*3 + 3*4 $\n",
    "\n",
    "$= 5 + 6 + 12$\n",
    "\n",
    "$= 23$"
   ]
  },
  {
   "cell_type": "markdown",
   "metadata": {},
   "source": [
    "$ c = \\sum_{k=1}^n a_{i} b_{i}$"
   ]
  },
  {
   "cell_type": "markdown",
   "metadata": {},
   "source": [
    "### But why?"
   ]
  },
  {
   "cell_type": "markdown",
   "metadata": {},
   "source": [
    "It may seem pretty arbitrary that multiplying two vectors is performed by with the sum of entrywise multiplication.  But it begins to make sense when we remember that linear algebra comes from the problem of solving a system of equations."
   ]
  },
  {
   "cell_type": "markdown",
   "metadata": {},
   "source": [
    "Let's go back to our problem of using ad spend and pricing to predict the number of T-shirts sold.  Let's assume that we want to predict how many T-shirts will be sold when $ad\\_spend =  1000 $ and $t\\_shirt\\_price =  10 $"
   ]
  },
  {
   "cell_type": "markdown",
   "metadata": {},
   "source": [
    "$$1000x_1 + 10x_2$$"
   ]
  },
  {
   "cell_type": "markdown",
   "metadata": {},
   "source": [
    "Let's also imagine that we have already solved for our coefficients so we know that $x_1 = .35$ and $x_2 = -.15 $.  Note that we can express our set of feature variables as one vector, and our set of coefficients as another like so."
   ]
  },
  {
   "cell_type": "markdown",
   "metadata": {},
   "source": [
    "$a = \\begin{bmatrix}\n",
    "    1000 \\\\\n",
    "    10 \\\\\n",
    "\\end{bmatrix}$"
   ]
  },
  {
   "cell_type": "markdown",
   "metadata": {},
   "source": [
    "$x = \\begin{bmatrix}\n",
    "    .35 \\\\\n",
    "    -12 \\\\\n",
    "\\end{bmatrix}$"
   ]
  },
  {
   "cell_type": "markdown",
   "metadata": {},
   "source": [
    "Now think about how we would calculate the resulting number of T-shirts sold.  It's just the following pattern:"
   ]
  },
  {
   "cell_type": "markdown",
   "metadata": {},
   "source": [
    "$1000*.35 + 10*-12 = 350 - 120 = 230 $\n",
    "\n",
    "which can be rewritten as \n",
    "\n",
    "$ =  a_{1} x_{1} + a_{2} x_{2}  = \\sum_{k=1}^n a_{i} b_{i} = a*x$"
   ]
  },
  {
   "cell_type": "code",
   "execution_count": 20,
   "metadata": {},
   "outputs": [
    {
     "data": {
      "text/plain": [
       "230.0"
      ]
     },
     "execution_count": 20,
     "metadata": {},
     "output_type": "execute_result"
    }
   ],
   "source": [
    "a = np.array([1000, 10])\n",
    "x = np.array([.35, -12])\n",
    "\n",
    "a.dot(x)"
   ]
  },
  {
   "cell_type": "markdown",
   "metadata": {},
   "source": [
    "### Summary"
   ]
  },
  {
   "cell_type": "markdown",
   "metadata": {},
   "source": [
    "In this lesson we learned about taking the dot product.  We calculate the dot product by calculating the sum of entrywise multiplication.  The dot product becomes very useful when applied to a linear equation, as it is an easy way to calculate the sum of our features multiplied by our coefficients."
   ]
  },
  {
   "cell_type": "markdown",
   "metadata": {},
   "source": [
    "If we have two vectors, $a \\in \\mathbb{R}^n$ and $b \\in \\mathbb{R}^n$,"
   ]
  },
  {
   "cell_type": "markdown",
   "metadata": {},
   "source": [
    "$a * b =  a_{i} b_{i} + ... + a_{n} b_{n}  = \\sum_{k=1}^n a_{i} b_{i}$"
   ]
  }
 ],
 "metadata": {
  "kernelspec": {
   "display_name": "Python 3",
   "language": "python",
   "name": "python3"
  },
  "language_info": {
   "codemirror_mode": {
    "name": "ipython",
    "version": 3
   },
   "file_extension": ".py",
   "mimetype": "text/x-python",
   "name": "python",
   "nbconvert_exporter": "python",
   "pygments_lexer": "ipython3",
   "version": "3.7.4"
  }
 },
 "nbformat": 4,
 "nbformat_minor": 4
}
