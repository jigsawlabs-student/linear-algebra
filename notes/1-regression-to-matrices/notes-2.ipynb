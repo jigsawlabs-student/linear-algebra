{
 "cells": [
  {
   "cell_type": "markdown",
   "metadata": {},
   "source": [
    "# Breaking down our data"
   ]
  },
  {
   "cell_type": "markdown",
   "metadata": {},
   "source": [
    "### Introduction"
   ]
  },
  {
   "cell_type": "markdown",
   "metadata": {},
   "source": [
    "Let's return to our problem of predicting T-shirt sales."
   ]
  },
  {
   "cell_type": "markdown",
   "metadata": {},
   "source": [
    "|ad spending    | price|t-shirts           \n",
    "| ------------- |------|:-------------:| \n",
    "|    800        | 13  | 330  | \n",
    "|    1500        |11 | 780  | \n",
    "|    2000      | 9 | 1130  | \n",
    "|    3500      | 10 | 1310  | \n",
    "|    4000      | 8 | 1780  | "
   ]
  },
  {
   "cell_type": "markdown",
   "metadata": {},
   "source": [
    "We have `ad spending` and `price` as our features that predict the number of T-shirts that are sold.  And, as we know, we can rewrite this as trying to solve a system of equations, where we would are trying to solve for our coefficients $x_1$ and $x_2$ such that:"
   ]
  },
  {
   "cell_type": "markdown",
   "metadata": {},
   "source": [
    "$$800x_1 + 13x_2 = 330 $$\n",
    "\n",
    "$$1500x_1 + 11x_2= 780 $$\n",
    "\n",
    "$$2000x_1 + 9x_2= 1130 $$\n",
    "\n",
    "$$3500x_1 + 10x_2 = 1310 $$\n",
    "\n",
    "$$4000x_1 + 8x_2 = 1780$$"
   ]
  },
  {
   "cell_type": "markdown",
   "metadata": {},
   "source": [
    "Which we rewrite in matrix vector notation as $Ax = b$ where $A$, $x$ and $b$ are defined as the following:"
   ]
  },
  {
   "cell_type": "markdown",
   "metadata": {},
   "source": [
    "$A =  \\begin{pmatrix}\n",
    "800 & 13  \\\\\n",
    "1500 & 11 \\\\\n",
    "2000 & 9 \\\\\n",
    "3500 & 10 \\\\\n",
    "4000 & 8 \\\\\n",
    "\\end{pmatrix}$ \n",
    "\n",
    "$x = \\begin{pmatrix}\n",
    "    x_1 \\\\\n",
    "    x_2 \\\\\n",
    "\\end{pmatrix}$\n",
    "\n",
    "$b = \\begin{pmatrix}\n",
    "    800 \\\\\n",
    "    1500 \\\\\n",
    "    2000 \\\\\n",
    "    3500 \\\\\n",
    "    4000 \\\\\n",
    "\\end{pmatrix}$"
   ]
  },
  {
   "cell_type": "markdown",
   "metadata": {},
   "source": [
    "Now both $x$ and $b$ are called vectors.  It's time to explore what this means."
   ]
  },
  {
   "cell_type": "markdown",
   "metadata": {},
   "source": [
    "## Vectors: The official introduction"
   ]
  },
  {
   "cell_type": "markdown",
   "metadata": {},
   "source": [
    "**Vectors** are a one dimensional array of values."
   ]
  },
  {
   "cell_type": "markdown",
   "metadata": {},
   "source": [
    "$b = \\begin{pmatrix}\n",
    "    800 \\\\\n",
    "    1500 \\\\\n",
    "    2000 \\\\\n",
    "    3500 \\\\\n",
    "    4000 \\\\\n",
    "\\end{pmatrix}$"
   ]
  },
  {
   "cell_type": "markdown",
   "metadata": {},
   "source": [
    "This is as opposed to a multidimensional collection of values like we see in our matrix $A$."
   ]
  },
  {
   "cell_type": "markdown",
   "metadata": {},
   "source": [
    "$A =  \\begin{pmatrix}\n",
    "800 & 700  \\\\\n",
    "1500 & 900 \\\\\n",
    "1200 & 1100\n",
    "\\end{pmatrix}$ "
   ]
  },
  {
   "cell_type": "markdown",
   "metadata": {},
   "source": [
    "A is not a vector, as $A$ is a two dimensional.  "
   ]
  },
  {
   "cell_type": "markdown",
   "metadata": {},
   "source": [
    "We can show the vector displayed vertically, like we did above, or horizontally, both are vectors."
   ]
  },
  {
   "cell_type": "markdown",
   "metadata": {},
   "source": [
    "$ x = \\left< 800, 1500, 2000, 3500, 4000 \\right>$"
   ]
  },
  {
   "cell_type": "markdown",
   "metadata": {},
   "source": [
    "> In linear algebra, there *is* a distinction between column vectors and row vectors, but at least for now, let's treat them as equivalent."
   ]
  },
  {
   "cell_type": "markdown",
   "metadata": {},
   "source": [
    "### Vector Notation"
   ]
  },
  {
   "cell_type": "markdown",
   "metadata": {},
   "source": [
    "Now you may have noticed that vectors in mathematics look pretty similar to a list in Python.  Well they are similar.  And some of the functionality that we have with lists in Python we would like to have with vectors.  \n",
    "\n",
    "For example, one thing that we can do with lists is inspect them."
   ]
  },
  {
   "cell_type": "code",
   "execution_count": 10,
   "metadata": {},
   "outputs": [],
   "source": [
    "b = [800,1500,2000,3500,4000]"
   ]
  },
  {
   "cell_type": "markdown",
   "metadata": {},
   "source": [
    "If we want to see the values of a our list `b` we can just call `b` in a cell, and see our beginning and ending brackets to identify our variable as a list, as well as see each of the elements."
   ]
  },
  {
   "cell_type": "code",
   "execution_count": 9,
   "metadata": {},
   "outputs": [
    {
     "data": {
      "text/plain": [
       "[800, 1500, 2000, 3500, 4000]"
      ]
     },
     "execution_count": 9,
     "metadata": {},
     "output_type": "execute_result"
    }
   ],
   "source": [
    "b"
   ]
  },
  {
   "cell_type": "markdown",
   "metadata": {},
   "source": [
    "However, in math, if we just reference the variable $x$, it may be confusing as to whether $x$ is defined as a vector, or a matrix, or something else.  To make this more clear, mathematicians can add some clarifying notation to our variable.  "
   ]
  },
  {
   "cell_type": "markdown",
   "metadata": {},
   "source": [
    "$ \\vec x $"
   ]
  },
  {
   "cell_type": "markdown",
   "metadata": {},
   "source": [
    "That little arrow above the variable $x$, identifies the variable as a vector, meaning that it represents an array of values.  Here is another way that we may see a vector represented.  "
   ]
  },
  {
   "cell_type": "markdown",
   "metadata": {},
   "source": [
    "$x \\in \\mathbb{R}^n$"
   ]
  },
  {
   "cell_type": "markdown",
   "metadata": {},
   "source": [
    "This also indicates that $x$ is a vector.  This is actually a little more detailed than just showing $\\vec x$, as it tells us the length of the vector.  The above line can be read as $x$ is a vector with $n$ entries. To describe our vector $b$ above, we could write $b \\in \\mathbb{R}^5$ as the vector $b$ has five entries.  When we describe the length of our dimensions, this is called **the rank** of the vector or matrix. "
   ]
  },
  {
   "cell_type": "markdown",
   "metadata": {},
   "source": [
    "Now when we see $x \\in \\mathbb{R}^n$ the symbols $ \\in \\mathbb{R}$, just indicates that all of the entries are real numbers.  Real numbers are just numbers, and that's what we'll be working with most of the time.  \n",
    "\n",
    "> Just for comparison, below we have a vector $b$, not of real numbers, but rather a vector of booleans.\n",
    ">\n",
    "> $ b = \\left< True, False, True, True, True \\right>$\n",
    ">\n",
    "> But most of the time, we'll work with numbers."
   ]
  },
  {
   "cell_type": "markdown",
   "metadata": {},
   "source": [
    "### Vector Entries"
   ]
  },
  {
   "cell_type": "markdown",
   "metadata": {},
   "source": [
    "Now just like we have elements of a list, we also have elements of a vector.  More often, howeverr, we use the word `entries` to describe each component of our vector.  Below, we show the entries of a new vector $y$."
   ]
  },
  {
   "cell_type": "markdown",
   "metadata": {},
   "source": [
    "$y = \\begin{bmatrix}\n",
    "    40 \\\\\n",
    "    22 \\\\\n",
    "    85 \\\\\n",
    "    90 \\\\\n",
    "    76 \\\\\n",
    "\\end{bmatrix}$"
   ]
  },
  {
   "cell_type": "markdown",
   "metadata": {},
   "source": [
    "Just like we can specify an element in a list, with the index, we can do the same thing in a vector.  For example, if we wish to specify the number 40 in our vector, we can refer to it as $y_1$.  To specify the second entry, 22, we use the subscript $y_2$.  So notice that in mathematics, unlike in programming, our indices start at the number one, instead of zero."
   ]
  },
  {
   "cell_type": "markdown",
   "metadata": {},
   "source": [
    "### Summary"
   ]
  },
  {
   "cell_type": "markdown",
   "metadata": {},
   "source": [
    "In this lesson, we learned about vectors.  Vectors are a one dimensional array of values.  For clarity, we may write variables with an arrow to express that they represent a vector, $\\vec x$.  And we also may denote a vector $x$ as $x \\in \\mathbb{R}^n$ where $n$ is the number of entries.  Finally, we can refer to a specific entry in a vector with the notation $x_i$ where i refers to the index of an entry.  Unlike in programming, in math we begin with the index of 1 instead of 0. "
   ]
  }
 ],
 "metadata": {
  "kernelspec": {
   "display_name": "Python 3",
   "language": "python",
   "name": "python3"
  },
  "language_info": {
   "codemirror_mode": {
    "name": "ipython",
    "version": 3
   },
   "file_extension": ".py",
   "mimetype": "text/x-python",
   "name": "python",
   "nbconvert_exporter": "python",
   "pygments_lexer": "ipython3",
   "version": "3.7.4"
  }
 },
 "nbformat": 4,
 "nbformat_minor": 4
}
