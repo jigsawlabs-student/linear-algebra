{
 "cells": [
  {
   "cell_type": "markdown",
   "metadata": {},
   "source": [
    "# Improving the model"
   ]
  },
  {
   "cell_type": "markdown",
   "metadata": {},
   "source": [
    "### Review RSS"
   ]
  },
  {
   "cell_type": "markdown",
   "metadata": {},
   "source": [
    "$$tshirt\\_sales = .6*ad\\_spend + 100$$"
   ]
  },
  {
   "cell_type": "markdown",
   "metadata": {},
   "source": [
    "|ad spending    |t-shirts| predicted t-shirts |  squared error |\n",
    "| ------------- |:-----:|:-------------------:| :-----:| \n",
    "|    800        | 330  | 580  | 62500|\n",
    "|    1500       | 780 | 1000| 48400|\n",
    "|    2000      | 1130 | 1300| 28900|\n",
    "|    3500      | 1310 | 2200| 792100|\n",
    "|    4000      | 1780 | 2500| 518400|"
   ]
  },
  {
   "cell_type": "markdown",
   "metadata": {},
   "source": [
    "What's makes this useful is that now we can can now use our squared error metric to different models.  For example, above is the RSS for the model $tshirt\\_sales = .6*ad\\_spend + 100$ and we could compare this with the squared error for a different model:\n",
    "\n",
    "$$tshirt\\_sales = .4*ad\\_spend + 100$$"
   ]
  },
  {
   "cell_type": "markdown",
   "metadata": {},
   "source": [
    "|ad spending    |t-shirts| predicted t-shirts | squared error |\n",
    "| ------------- |:-----:|:-------------------:| :-----:| \n",
    "|    800        | 330  | 420  | 8100|\n",
    "|    1500       | 780 | 700| 6400|\n",
    "|    2000      | 1130 | 900| 52900|\n",
    "|    3500      | 1310 | 1500| 36100|\n",
    "|    4000      | 1780 | 1700| 6400|"
   ]
  },
  {
   "cell_type": "markdown",
   "metadata": {},
   "source": [
    "## Finding the best fit line"
   ]
  },
  {
   "cell_type": "markdown",
   "metadata": {},
   "source": [
    "Now above, we saw we see which model better predicts the T-shirt sales by calculating the RSS when our value of $m = .4$ and when $m = .6$ and then comparing.  \n",
    "\n",
    "But really, what we would like to do is to find the *best* line.  How should we do that?  Should we just trying a bunch of different values for $m$ and then calculate the value of RSS for each one?  Well, kinda, yea.  Then we'll do a similar procedure for our y intercept, b.\n",
    "\n",
    "Let's start by trying two different values for $m$ -- $.6$, $.7$, and then $.8$."
   ]
  },
  {
   "cell_type": "code",
   "execution_count": 3,
   "metadata": {},
   "outputs": [
    {
     "data": {
      "text/html": [
       "        <script type=\"text/javascript\">\n",
       "        window.PlotlyConfig = {MathJaxConfig: 'local'};\n",
       "        if (window.MathJax) {MathJax.Hub.Config({SVG: {font: \"STIX-Web\"}});}\n",
       "        if (typeof require !== 'undefined') {\n",
       "        require.undef(\"plotly\");\n",
       "        requirejs.config({\n",
       "            paths: {\n",
       "                'plotly': ['https://cdn.plot.ly/plotly-latest.min']\n",
       "            }\n",
       "        });\n",
       "        require(['plotly'], function(Plotly) {\n",
       "            window._Plotly = Plotly;\n",
       "        });\n",
       "        }\n",
       "        </script>\n",
       "        "
      ]
     },
     "metadata": {},
     "output_type": "display_data"
    }
   ],
   "source": [
    "from graph import model_trace, trace_rss, pair_colors, plot_side_by_side\n",
    "from graph import trace_values, plot\n",
    "from plotly.offline import iplot"
   ]
  },
  {
   "cell_type": "code",
   "execution_count": 4,
   "metadata": {},
   "outputs": [],
   "source": [
    "ad_spends = [800, 1500, 2000, 3500, 4000]\n",
    "tshirt_sales = [330, 780, 1130, 1310, 1780]\n",
    "\n",
    "actual_trace = trace_values(x_values = ad_spends, y_values = tshirt_sales)"
   ]
  },
  {
   "cell_type": "code",
   "execution_count": 11,
   "metadata": {},
   "outputs": [],
   "source": [
    "m_values = [.1, .2, .3, .4, .5, .6, .7, .8, .9]\n",
    "b = 100\n",
    "rss_traces = []\n",
    "model_traces = []\n",
    "for m in m_values:\n",
    "    rss_trace = trace_rss(m, b, ad_spends, tshirt_sales)\n",
    "    rss_traces.append(rss_trace)\n",
    "    built_model_trace = model_trace(m, b, ad_spends, tshirt_sales)\n",
    "    model_traces.append(built_model_trace)"
   ]
  },
  {
   "cell_type": "code",
   "execution_count": 12,
   "metadata": {},
   "outputs": [
    {
     "name": "stdout",
     "output_type": "stream",
     "text": [
      "This is the format of your plot grid:\n",
      "[ (1,1) x1,y1 ]  [ (1,2) x2,y2 ]\n",
      "\n"
     ]
    },
    {
     "data": {
      "application/vnd.plotly.v1+json": {
       "config": {
        "linkText": "Export to plot.ly",
        "plotlyServerURL": "https://plot.ly",
        "showLink": false
       },
       "data": [
        {
         "mode": "markers",
         "name": "data",
         "text": [],
         "type": "scatter",
         "uid": "86170ede-61a6-414c-9b39-f9852532d974",
         "x": [
          800,
          1500,
          2000,
          3500,
          4000
         ],
         "xaxis": "x",
         "y": [
          330,
          780,
          1130,
          1310,
          1780
         ],
         "yaxis": "y"
        },
        {
         "marker": {
          "color": "red"
         },
         "mode": "lines",
         "name": "data",
         "text": [],
         "type": "scatter",
         "uid": "ed1ac022-928c-4991-bc05-d2db23c2c75d",
         "x": [
          800,
          1500,
          2000,
          3500,
          4000
         ],
         "xaxis": "x",
         "y": [
          180,
          250,
          300,
          450,
          500
         ],
         "yaxis": "y"
        },
        {
         "marker": {
          "color": "yellow"
         },
         "mode": "lines",
         "name": "data",
         "text": [],
         "type": "scatter",
         "uid": "28393d2b-430d-4b78-93bb-fc7f41723582",
         "x": [
          800,
          1500,
          2000,
          3500,
          4000
         ],
         "xaxis": "x",
         "y": [
          260,
          400,
          500,
          800,
          900
         ],
         "yaxis": "y"
        },
        {
         "marker": {
          "color": "blue"
         },
         "mode": "lines",
         "name": "data",
         "text": [],
         "type": "scatter",
         "uid": "d5b45393-71b4-44e7-9dc5-874a218c9fa2",
         "x": [
          800,
          1500,
          2000,
          3500,
          4000
         ],
         "xaxis": "x",
         "y": [
          340,
          550,
          700,
          1150,
          1300
         ],
         "yaxis": "y"
        },
        {
         "marker": {
          "color": "orange"
         },
         "mode": "lines",
         "name": "data",
         "text": [],
         "type": "scatter",
         "uid": "be2d31d1-e434-42d3-9399-b7f0585b1990",
         "x": [
          800,
          1500,
          2000,
          3500,
          4000
         ],
         "xaxis": "x",
         "y": [
          420,
          700,
          900,
          1500,
          1700
         ],
         "yaxis": "y"
        },
        {
         "marker": {
          "color": "green"
         },
         "mode": "lines",
         "name": "data",
         "text": [],
         "type": "scatter",
         "uid": "f550595a-a5ba-4182-ac89-2071085260aa",
         "x": [
          800,
          1500,
          2000,
          3500,
          4000
         ],
         "xaxis": "x",
         "y": [
          500,
          850,
          1100,
          1850,
          2100
         ],
         "yaxis": "y"
        },
        {
         "marker": {
          "color": "red"
         },
         "mode": "lines",
         "name": "data",
         "text": [],
         "type": "scatter",
         "uid": "fcdb07bf-0e2c-487e-99f7-993efaef50ad",
         "x": [
          800,
          1500,
          2000,
          3500,
          4000
         ],
         "xaxis": "x",
         "y": [
          580,
          1000,
          1300,
          2200,
          2500
         ],
         "yaxis": "y"
        },
        {
         "marker": {
          "color": "yellow"
         },
         "mode": "lines",
         "name": "data",
         "text": [],
         "type": "scatter",
         "uid": "9c456f56-7c8a-4c8c-bfcb-c6d17ce35d12",
         "x": [
          800,
          1500,
          2000,
          3500,
          4000
         ],
         "xaxis": "x",
         "y": [
          660,
          1150,
          1500,
          2550,
          2900
         ],
         "yaxis": "y"
        },
        {
         "marker": {
          "color": "blue"
         },
         "mode": "lines",
         "name": "data",
         "text": [],
         "type": "scatter",
         "uid": "683a3654-dee9-4372-a913-57a1175b0ee3",
         "x": [
          800,
          1500,
          2000,
          3500,
          4000
         ],
         "xaxis": "x",
         "y": [
          740,
          1300,
          1700,
          2900,
          3300
         ],
         "yaxis": "y"
        },
        {
         "marker": {
          "color": "orange"
         },
         "mode": "lines",
         "name": "data",
         "text": [],
         "type": "scatter",
         "uid": "7136b4cf-1c1a-4094-b37f-b4f05973b725",
         "x": [
          800,
          1500,
          2000,
          3500,
          4000
         ],
         "xaxis": "x",
         "y": [
          820,
          1450,
          1900,
          3250,
          3700
         ],
         "yaxis": "y"
        },
        {
         "marker": {
          "color": "red"
         },
         "type": "bar",
         "uid": "87171aa3-67a9-43b0-aee2-45f2af8ab12f",
         "x": [
          "RSS"
         ],
         "xaxis": "x2",
         "y": [
          3370300
         ],
         "yaxis": "y2"
        },
        {
         "marker": {
          "color": "yellow"
         },
         "type": "bar",
         "uid": "6ad018bc-0519-4034-a119-a2f1120463c8",
         "x": [
          "RSS"
         ],
         "xaxis": "x2",
         "y": [
          1580700
         ],
         "yaxis": "y2"
        },
        {
         "marker": {
          "color": "blue"
         },
         "type": "bar",
         "uid": "7e07f81c-37f1-4d38-b6dc-d29a2db06cf4",
         "x": [
          "RSS"
         ],
         "xaxis": "x2",
         "y": [
          493900
         ],
         "yaxis": "y2"
        },
        {
         "marker": {
          "color": "orange"
         },
         "type": "bar",
         "uid": "5291e27d-a6c2-4ec5-a2a7-368be0cc32c3",
         "x": [
          "RSS"
         ],
         "xaxis": "x2",
         "y": [
          109900
         ],
         "yaxis": "y2"
        },
        {
         "marker": {
          "color": "green"
         },
         "type": "bar",
         "uid": "265a2500-2320-45d8-9aea-b9687dbd2699",
         "x": [
          "RSS"
         ],
         "xaxis": "x2",
         "y": [
          428700
         ],
         "yaxis": "y2"
        },
        {
         "marker": {
          "color": "red"
         },
         "type": "bar",
         "uid": "9e3dbaeb-b86f-463b-b88e-28712db75822",
         "x": [
          "RSS"
         ],
         "xaxis": "x2",
         "y": [
          1450300
         ],
         "yaxis": "y2"
        },
        {
         "marker": {
          "color": "yellow"
         },
         "type": "bar",
         "uid": "1a5ca089-b0b9-442b-8b74-cda9d5d8c9cd",
         "x": [
          "RSS"
         ],
         "xaxis": "x2",
         "y": [
          3174700
         ],
         "yaxis": "y2"
        },
        {
         "marker": {
          "color": "blue"
         },
         "type": "bar",
         "uid": "f0f3ad5c-3d11-4cde-851e-81b027466735",
         "x": [
          "RSS"
         ],
         "xaxis": "x2",
         "y": [
          5601900
         ],
         "yaxis": "y2"
        },
        {
         "marker": {
          "color": "orange"
         },
         "type": "bar",
         "uid": "53a10969-1a62-485e-bbed-f857a0e221d8",
         "x": [
          "RSS"
         ],
         "xaxis": "x2",
         "y": [
          8731900
         ],
         "yaxis": "y2"
        }
       ],
       "layout": {
        "autosize": true,
        "xaxis": {
         "anchor": "y",
         "autorange": true,
         "domain": [
          0,
          0.45
         ],
         "range": [
          547.8195362852599,
          4252.18046371474
         ],
         "type": "linear"
        },
        "xaxis2": {
         "anchor": "y2",
         "autorange": true,
         "domain": [
          0.55,
          1
         ],
         "range": [
          -0.5,
          0.5
         ],
         "type": "category"
        },
        "yaxis": {
         "anchor": "x",
         "autorange": true,
         "domain": [
          0,
          1
         ],
         "range": [
          -15.555555555555543,
          3895.5555555555557
         ],
         "type": "linear"
        },
        "yaxis2": {
         "anchor": "x2",
         "autorange": true,
         "domain": [
          0,
          1
         ],
         "range": [
          0,
          9191473.684210526
         ],
         "type": "linear"
        }
       }
      },
      "image/png": "[encoded data removed]",
      "text/html": [
       "<div>\n",
       "        \n",
       "        \n",
       "            <div id=\"5d5b5f91-f241-4a8c-906a-a4c81908834e\" class=\"plotly-graph-div\" style=\"height:525px; width:100%;\"></div>\n",
       "            <script type=\"text/javascript\">\n",
       "                require([\"plotly\"], function(Plotly) {\n",
       "                    window.PLOTLYENV=window.PLOTLYENV || {};\n",
       "                    window.PLOTLYENV.BASE_URL='https://plot.ly';\n",
       "                    \n",
       "                if (document.getElementById(\"5d5b5f91-f241-4a8c-906a-a4c81908834e\")) {\n",
       "                    Plotly.newPlot(\n",
       "                        '5d5b5f91-f241-4a8c-906a-a4c81908834e',\n",
       "                        [{\"mode\": \"markers\", \"name\": \"data\", \"text\": [], \"type\": \"scatter\", \"uid\": \"86170ede-61a6-414c-9b39-f9852532d974\", \"x\": [800, 1500, 2000, 3500, 4000], \"xaxis\": \"x\", \"y\": [330, 780, 1130, 1310, 1780], \"yaxis\": \"y\"}, {\"marker\": {\"color\": \"red\"}, \"mode\": \"lines\", \"name\": \"data\", \"text\": [], \"type\": \"scatter\", \"uid\": \"ed1ac022-928c-4991-bc05-d2db23c2c75d\", \"x\": [800, 1500, 2000, 3500, 4000], \"xaxis\": \"x\", \"y\": [180.0, 250.0, 300.0, 450.0, 500.0], \"yaxis\": \"y\"}, {\"marker\": {\"color\": \"yellow\"}, \"mode\": \"lines\", \"name\": \"data\", \"text\": [], \"type\": \"scatter\", \"uid\": \"28393d2b-430d-4b78-93bb-fc7f41723582\", \"x\": [800, 1500, 2000, 3500, 4000], \"xaxis\": \"x\", \"y\": [260.0, 400.0, 500.0, 800.0, 900.0], \"yaxis\": \"y\"}, {\"marker\": {\"color\": \"blue\"}, \"mode\": \"lines\", \"name\": \"data\", \"text\": [], \"type\": \"scatter\", \"uid\": \"d5b45393-71b4-44e7-9dc5-874a218c9fa2\", \"x\": [800, 1500, 2000, 3500, 4000], \"xaxis\": \"x\", \"y\": [340.0, 550.0, 700.0, 1150.0, 1300.0], \"yaxis\": \"y\"}, {\"marker\": {\"color\": \"orange\"}, \"mode\": \"lines\", \"name\": \"data\", \"text\": [], \"type\": \"scatter\", \"uid\": \"be2d31d1-e434-42d3-9399-b7f0585b1990\", \"x\": [800, 1500, 2000, 3500, 4000], \"xaxis\": \"x\", \"y\": [420.0, 700.0, 900.0, 1500.0, 1700.0], \"yaxis\": \"y\"}, {\"marker\": {\"color\": \"green\"}, \"mode\": \"lines\", \"name\": \"data\", \"text\": [], \"type\": \"scatter\", \"uid\": \"f550595a-a5ba-4182-ac89-2071085260aa\", \"x\": [800, 1500, 2000, 3500, 4000], \"xaxis\": \"x\", \"y\": [500.0, 850.0, 1100.0, 1850.0, 2100.0], \"yaxis\": \"y\"}, {\"marker\": {\"color\": \"red\"}, \"mode\": \"lines\", \"name\": \"data\", \"text\": [], \"type\": \"scatter\", \"uid\": \"fcdb07bf-0e2c-487e-99f7-993efaef50ad\", \"x\": [800, 1500, 2000, 3500, 4000], \"xaxis\": \"x\", \"y\": [580.0, 1000.0, 1300.0, 2200.0, 2500.0], \"yaxis\": \"y\"}, {\"marker\": {\"color\": \"yellow\"}, \"mode\": \"lines\", \"name\": \"data\", \"text\": [], \"type\": \"scatter\", \"uid\": \"9c456f56-7c8a-4c8c-bfcb-c6d17ce35d12\", \"x\": [800, 1500, 2000, 3500, 4000], \"xaxis\": \"x\", \"y\": [660.0, 1150.0, 1500.0, 2550.0, 2900.0], \"yaxis\": \"y\"}, {\"marker\": {\"color\": \"blue\"}, \"mode\": \"lines\", \"name\": \"data\", \"text\": [], \"type\": \"scatter\", \"uid\": \"683a3654-dee9-4372-a913-57a1175b0ee3\", \"x\": [800, 1500, 2000, 3500, 4000], \"xaxis\": \"x\", \"y\": [740.0, 1300.0, 1700.0, 2900.0, 3300.0], \"yaxis\": \"y\"}, {\"marker\": {\"color\": \"orange\"}, \"mode\": \"lines\", \"name\": \"data\", \"text\": [], \"type\": \"scatter\", \"uid\": \"7136b4cf-1c1a-4094-b37f-b4f05973b725\", \"x\": [800, 1500, 2000, 3500, 4000], \"xaxis\": \"x\", \"y\": [820.0, 1450.0, 1900.0, 3250.0, 3700.0], \"yaxis\": \"y\"}, {\"marker\": {\"color\": \"red\"}, \"type\": \"bar\", \"uid\": \"87171aa3-67a9-43b0-aee2-45f2af8ab12f\", \"x\": [\"RSS\"], \"xaxis\": \"x2\", \"y\": [3370300.0], \"yaxis\": \"y2\"}, {\"marker\": {\"color\": \"yellow\"}, \"type\": \"bar\", \"uid\": \"6ad018bc-0519-4034-a119-a2f1120463c8\", \"x\": [\"RSS\"], \"xaxis\": \"x2\", \"y\": [1580700.0], \"yaxis\": \"y2\"}, {\"marker\": {\"color\": \"blue\"}, \"type\": \"bar\", \"uid\": \"7e07f81c-37f1-4d38-b6dc-d29a2db06cf4\", \"x\": [\"RSS\"], \"xaxis\": \"x2\", \"y\": [493900.0], \"yaxis\": \"y2\"}, {\"marker\": {\"color\": \"orange\"}, \"type\": \"bar\", \"uid\": \"5291e27d-a6c2-4ec5-a2a7-368be0cc32c3\", \"x\": [\"RSS\"], \"xaxis\": \"x2\", \"y\": [109900.0], \"yaxis\": \"y2\"}, {\"marker\": {\"color\": \"green\"}, \"type\": \"bar\", \"uid\": \"265a2500-2320-45d8-9aea-b9687dbd2699\", \"x\": [\"RSS\"], \"xaxis\": \"x2\", \"y\": [428700.0], \"yaxis\": \"y2\"}, {\"marker\": {\"color\": \"red\"}, \"type\": \"bar\", \"uid\": \"9e3dbaeb-b86f-463b-b88e-28712db75822\", \"x\": [\"RSS\"], \"xaxis\": \"x2\", \"y\": [1450300.0], \"yaxis\": \"y2\"}, {\"marker\": {\"color\": \"yellow\"}, \"type\": \"bar\", \"uid\": \"1a5ca089-b0b9-442b-8b74-cda9d5d8c9cd\", \"x\": [\"RSS\"], \"xaxis\": \"x2\", \"y\": [3174700.0], \"yaxis\": \"y2\"}, {\"marker\": {\"color\": \"blue\"}, \"type\": \"bar\", \"uid\": \"f0f3ad5c-3d11-4cde-851e-81b027466735\", \"x\": [\"RSS\"], \"xaxis\": \"x2\", \"y\": [5601900.0], \"yaxis\": \"y2\"}, {\"marker\": {\"color\": \"orange\"}, \"type\": \"bar\", \"uid\": \"53a10969-1a62-485e-bbed-f857a0e221d8\", \"x\": [\"RSS\"], \"xaxis\": \"x2\", \"y\": [8731900.0], \"yaxis\": \"y2\"}],\n",
       "                        {\"xaxis\": {\"anchor\": \"y\", \"domain\": [0.0, 0.45]}, \"xaxis2\": {\"anchor\": \"y2\", \"domain\": [0.55, 1.0]}, \"yaxis\": {\"anchor\": \"x\", \"domain\": [0.0, 1.0]}, \"yaxis2\": {\"anchor\": \"x2\", \"domain\": [0.0, 1.0]}},\n",
       "                        {\"showLink\": false, \"linkText\": \"Export to plot.ly\", \"plotlyServerURL\": \"https://plot.ly\", \"responsive\": true}\n",
       "                    ).then(function(){\n",
       "                            \n",
       "var gd = document.getElementById('5d5b5f91-f241-4a8c-906a-a4c81908834e');\n",
       "var x = new MutationObserver(function (mutations, observer) {{\n",
       "        var display = window.getComputedStyle(gd).display;\n",
       "        if (!display || display === 'none') {{\n",
       "            console.log([gd, 'removed!']);\n",
       "            Plotly.purge(gd);\n",
       "            observer.disconnect();\n",
       "        }}\n",
       "}});\n",
       "\n",
       "// Listen for the removal of the full notebook cells\n",
       "var notebookContainer = gd.closest('#notebook-container');\n",
       "if (notebookContainer) {{\n",
       "    x.observe(notebookContainer, {childList: true});\n",
       "}}\n",
       "\n",
       "// Listen for the clearing of the current output cell\n",
       "var outputEl = gd.closest('.output');\n",
       "if (outputEl) {{\n",
       "    x.observe(outputEl, {childList: true});\n",
       "}}\n",
       "\n",
       "                        })\n",
       "                };\n",
       "                });\n",
       "            </script>\n",
       "        </div>"
      ]
     },
     "metadata": {},
     "output_type": "display_data"
    }
   ],
   "source": [
    "pair_colors(model_traces, rss_traces)\n",
    "figure = plot_side_by_side([actual_trace] + model_traces, rss_traces)\n",
    "iplot(figure)"
   ]
  },
  {
   "cell_type": "markdown",
   "metadata": {},
   "source": [
    "* breaking it down"
   ]
  },
  {
   "cell_type": "markdown",
   "metadata": {},
   "source": [
    "* plotting more"
   ]
  },
  {
   "cell_type": "markdown",
   "metadata": {},
   "source": [
    "### Summary"
   ]
  },
  {
   "cell_type": "markdown",
   "metadata": {},
   "source": [
    "In this lesson, we saw how machine learning models can improve to find an optimal model.  One mechanisms for machine learning problems to do this is by trying different parameters and using the cost function to collect feedback on the model's performance.  A machine learning algorithm's loss function can give us feedback on our hypothesis functionso that it can improve step by step, as we saw above.  This process of changing the parameters so to find a machine learning model that minimizes a cost function is called training the model. "
   ]
  }
 ],
 "metadata": {
  "kernelspec": {
   "display_name": "Python 3",
   "language": "python",
   "name": "python3"
  },
  "language_info": {
   "codemirror_mode": {
    "name": "ipython",
    "version": 3
   },
   "file_extension": ".py",
   "mimetype": "text/x-python",
   "name": "python",
   "nbconvert_exporter": "python",
   "pygments_lexer": "ipython3",
   "version": "3.7.3"
  }
 },
 "nbformat": 4,
 "nbformat_minor": 2
}
