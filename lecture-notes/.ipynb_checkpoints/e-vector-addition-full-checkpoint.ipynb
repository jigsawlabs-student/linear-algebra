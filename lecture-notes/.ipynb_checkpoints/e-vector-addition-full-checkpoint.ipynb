{
 "cells": [
  {
   "cell_type": "markdown",
   "metadata": {},
   "source": [
    "# Vector Addition "
   ]
  },
  {
   "cell_type": "markdown",
   "metadata": {},
   "source": [
    "### Our scenario"
   ]
  },
  {
   "cell_type": "markdown",
   "metadata": {},
   "source": [
    "We will sell: \n",
    "\n",
    "* One additional T-shirt for every dollar spent on advertising\n",
    "* One additional T-shirt for every dollar spent on sales"
   ]
  },
  {
   "cell_type": "markdown",
   "metadata": {},
   "source": [
    "|ad spending    |sales spending    | \n",
    "| :-------------:|:-------------:|\n",
    "|    200        |800        |\n",
    "|    500        |600        |\n",
    "|    1000      | 700      | \n",
    "|    2000      | 300      | \n",
    "|    3000      | 100      | "
   ]
  },
  {
   "cell_type": "markdown",
   "metadata": {},
   "source": [
    "So we can write this as a set of linear expressions, where $x_1 = 1$, and $x_2 = 1$:\n",
    "\n",
    "$$200x_1 +  800x_2 $$\n",
    "$$500x_1 +  600x_2$$\n",
    "$$1000x_1 + 700x_2$$\n",
    "$$2000x_1 + 300x_2$$\n",
    "$$3000x_1 + 100x_2$$"
   ]
  },
  {
   "cell_type": "markdown",
   "metadata": {},
   "source": [
    "$\\begin{pmatrix}\n",
    "    200 \\\\\n",
    "    500 \\\\\n",
    "    1000 \\\\\n",
    "    2000 \\\\\n",
    "    3000 \\\\\n",
    "\\end{pmatrix}  + \\begin{pmatrix}\n",
    "    800 \\\\\n",
    "    600 \\\\\n",
    "    700 \\\\\n",
    "    300 \\\\\n",
    "    100\\\\\n",
    "\\end{pmatrix}$"
   ]
  },
  {
   "cell_type": "markdown",
   "metadata": {},
   "source": [
    "Ok, so we still don't know how to add up our vectors.  Let's tackle that now."
   ]
  },
  {
   "cell_type": "markdown",
   "metadata": {},
   "source": [
    "### Adding two vectors"
   ]
  },
  {
   "cell_type": "code",
   "execution_count": 1,
   "metadata": {},
   "outputs": [],
   "source": [
    "import numpy as np\n",
    "a_1 = np.array([200, 500, 1000, 2000, 3000])\n",
    "a_2 = np.array([800, 600, 700, 300, 100])"
   ]
  },
  {
   "cell_type": "markdown",
   "metadata": {},
   "source": [
    "### Vector addition graphically"
   ]
  },
  {
   "cell_type": "markdown",
   "metadata": {},
   "source": [
    "|ad spending    | sales spending | \n",
    "| :-------------: |:------:|\n",
    "|    200        | 800   |\n",
    "|    500        | 600  |"
   ]
  },
  {
   "cell_type": "markdown",
   "metadata": {},
   "source": [
    "$$ a_1 = \\begin{pmatrix}\n",
    "    200 \\\\\n",
    "    500 \\\\\n",
    "\\end{pmatrix}, a_2 = \\begin{pmatrix}\n",
    "    800 \\\\\n",
    "    600 \\\\\n",
    "\\end{pmatrix}$$"
   ]
  },
  {
   "cell_type": "code",
   "execution_count": 2,
   "metadata": {},
   "outputs": [],
   "source": [
    "import numpy as np\n",
    "a_1 = np.array([200, 500, 1000, 2000, 3000])\n",
    "a_2 = np.array([800, 600, 700, 300, 100])"
   ]
  },
  {
   "cell_type": "code",
   "execution_count": 3,
   "metadata": {},
   "outputs": [
    {
     "data": {
      "text/html": [
       "        <script type=\"text/javascript\">\n",
       "        window.PlotlyConfig = {MathJaxConfig: 'local'};\n",
       "        if (window.MathJax) {MathJax.Hub.Config({SVG: {font: \"STIX-Web\"}});}\n",
       "        if (typeof require !== 'undefined') {\n",
       "        require.undef(\"plotly\");\n",
       "        requirejs.config({\n",
       "            paths: {\n",
       "                'plotly': ['https://cdn.plot.ly/plotly-latest.min']\n",
       "            }\n",
       "        });\n",
       "        require(['plotly'], function(Plotly) {\n",
       "            window._Plotly = Plotly;\n",
       "        });\n",
       "        }\n",
       "        </script>\n",
       "        "
      ]
     },
     "metadata": {},
     "output_type": "display_data"
    }
   ],
   "source": [
    "from graph import vector_trace, plus_trace, plot\n",
    "a_trace = vector_trace(a_1, name = 'ad spending effect')\n",
    "a_then_b_trace = plus_trace(a_1, a_2, name = 'sales spending effect')"
   ]
  },
  {
   "cell_type": "code",
   "execution_count": 5,
   "metadata": {},
   "outputs": [],
   "source": [
    "import plotly.plotly as py\n",
    "# plot([a_trace, a_then_b_trace])"
   ]
  },
  {
   "cell_type": "code",
   "execution_count": null,
   "metadata": {},
   "outputs": [],
   "source": []
  }
 ],
 "metadata": {
  "kernelspec": {
   "display_name": "Python 3",
   "language": "python",
   "name": "python3"
  },
  "language_info": {
   "codemirror_mode": {
    "name": "ipython",
    "version": 3
   },
   "file_extension": ".py",
   "mimetype": "text/x-python",
   "name": "python",
   "nbconvert_exporter": "python",
   "pygments_lexer": "ipython3",
   "version": "3.7.3"
  }
 },
 "nbformat": 4,
 "nbformat_minor": 2
}
