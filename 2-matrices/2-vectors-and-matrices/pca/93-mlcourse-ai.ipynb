{
 "cells": [
  {
   "cell_type": "markdown",
   "metadata": {},
   "source": [
    "### PCA MLCourse"
   ]
  },
  {
   "cell_type": "markdown",
   "metadata": {},
   "source": [
    "If we have two highly correlated features, then the question is do we really need both of them?"
   ]
  },
  {
   "cell_type": "markdown",
   "metadata": {},
   "source": [
    "Instead, perhaps we can introduce another feature, and express the data in terms of that feature."
   ]
  },
  {
   "cell_type": "markdown",
   "metadata": {},
   "source": [
    "* And we just drop the initial features, and have the new features.  So we can therefore reduce our dimensionality."
   ]
  },
  {
   "cell_type": "markdown",
   "metadata": {},
   "source": [
    "### What is lost?"
   ]
  },
  {
   "cell_type": "markdown",
   "metadata": {},
   "source": [
    "If we reduce dimensions, then we are going to lose some information.\n",
    "* So we can project the information, but lose some information."
   ]
  },
  {
   "cell_type": "markdown",
   "metadata": {},
   "source": [
    "* And in the orthogonal direction, we lose information."
   ]
  },
  {
   "cell_type": "markdown",
   "metadata": {},
   "source": [
    "* Idea is to choose the dimension in such a way that we keep the most information."
   ]
  },
  {
   "cell_type": "markdown",
   "metadata": {},
   "source": [
    "### So then how do we choose a good dimension?"
   ]
  },
  {
   "cell_type": "markdown",
   "metadata": {},
   "source": [
    "* We can write it as choosing a $u_i$ that maximizes variance, or the same task is to minimize the projection distances.\n",
    "* And we can solve this analytically. As opposed to an iterative procedure."
   ]
  },
  {
   "cell_type": "markdown",
   "metadata": {},
   "source": [
    "* So SVD can be used to perform this."
   ]
  },
  {
   "cell_type": "markdown",
   "metadata": {},
   "source": [
    "* And this tells you that any matrix can be decomposed into three other ones.\n",
    "* So any matrix can be decomposed into a rotation, stretching and another rotation."
   ]
  },
  {
   "cell_type": "markdown",
   "metadata": {},
   "source": [
    "<img src=\"./datacloud-tochange-basis.png\">"
   ]
  },
  {
   "cell_type": "markdown",
   "metadata": {},
   "source": [
    "* We don't care about U, and the V will define the rotation."
   ]
  },
  {
   "cell_type": "markdown",
   "metadata": {},
   "source": [
    "And we will have sigmas, which is the direction of variance explained by $\\sigma_1$ and $\\sigma_2$."
   ]
  },
  {
   "cell_type": "markdown",
   "metadata": {},
   "source": [
    "* So $\\Sigma$ tells us how much information in our dataset can be projected into dimensions $z_1$ or $z_2$."
   ]
  },
  {
   "cell_type": "markdown",
   "metadata": {},
   "source": [
    "So V defines the transformation.  "
   ]
  },
  {
   "cell_type": "markdown",
   "metadata": {},
   "source": [
    "### Truncated SVD"
   ]
  },
  {
   "cell_type": "markdown",
   "metadata": {},
   "source": [
    "And then there is truncated SVD.  This is based on decomposition, and here we keep two dimensions.  \n",
    "\n",
    "* And go from 3d to 2d.  \n",
    "* And to do this, we simply keep two vectors from V.\n",
    "\n"
   ]
  },
  {
   "cell_type": "markdown",
   "metadata": {},
   "source": [
    "And now the new dataset is: \n",
    "\n",
    "* $Z = X \\cdot V$."
   ]
  },
  {
   "cell_type": "markdown",
   "metadata": {},
   "source": [
    "And the idea is to project onto a k dimensional subspace."
   ]
  },
  {
   "cell_type": "code",
   "execution_count": null,
   "metadata": {},
   "outputs": [],
   "source": []
  }
 ],
 "metadata": {
  "kernelspec": {
   "display_name": "Python 3",
   "language": "python",
   "name": "python3"
  },
  "language_info": {
   "codemirror_mode": {
    "name": "ipython",
    "version": 3
   },
   "file_extension": ".py",
   "mimetype": "text/x-python",
   "name": "python",
   "nbconvert_exporter": "python",
   "pygments_lexer": "ipython3",
   "version": "3.7.4"
  }
 },
 "nbformat": 4,
 "nbformat_minor": 4
}
