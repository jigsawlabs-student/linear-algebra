{
 "cells": [
  {
   "cell_type": "markdown",
   "metadata": {},
   "source": [
    "# Diagonal, Identity, and Orthonormal Matrices"
   ]
  },
  {
   "cell_type": "markdown",
   "metadata": {},
   "source": [
    "### Introduction"
   ]
  },
  {
   "cell_type": "markdown",
   "metadata": {},
   "source": [
    "Now that we are more familiar with matrix multiplication, it's time to learn about some special types of a matrices.  These are matrices that transform, or do not transform space, in a particular way."
   ]
  },
  {
   "cell_type": "markdown",
   "metadata": {},
   "source": [
    "### Diagonal Matrices"
   ]
  },
  {
   "cell_type": "markdown",
   "metadata": {},
   "source": [
    "Let's begin by creating a diagonal matrix in numpy."
   ]
  },
  {
   "cell_type": "code",
   "execution_count": 7,
   "metadata": {},
   "outputs": [
    {
     "data": {
      "text/plain": [
       "array([[2, 0, 0],\n",
       "       [0, 3, 0],\n",
       "       [0, 0, 4]])"
      ]
     },
     "execution_count": 7,
     "metadata": {},
     "output_type": "execute_result"
    }
   ],
   "source": [
    "from numpy import diag\n",
    "\n",
    "D = diag([2, 3, 4])\n",
    "D"
   ]
  },
  {
   "cell_type": "markdown",
   "metadata": {},
   "source": [
    "> A diagonal matrix refers to a matrix where the only non-zero entries are along the diagonal."
   ]
  },
  {
   "cell_type": "markdown",
   "metadata": {},
   "source": [
    "$D\\cdot A  =  \\begin{pmatrix}\n",
    "    2 & 0 & 0 \\\\\n",
    "    0 &  3 & 0\\\\\n",
    "    0 & 0 & 4\\\\\n",
    "\\end{pmatrix} \\cdot \\begin{pmatrix}\n",
    "    25 \\\\ 5  \\\\ 10\n",
    "\\end{pmatrix} = 25 \\cdot \\begin{pmatrix} 2 \\\\ 0 \\\\ 0 \\end{pmatrix} + 5 \\cdot \\begin{pmatrix} 0 \\\\ 3 \\\\ 0 \\end{pmatrix} + 10 \\cdot \\begin{pmatrix} 0 \\\\ 0 \\\\ 4 \\end{pmatrix} = \\begin{pmatrix} 50 \\\\ 15 \\\\ 40\\end{pmatrix} $"
   ]
  },
  {
   "cell_type": "markdown",
   "metadata": {},
   "source": [
    "So with a diagonal matrix we simply multiply each entry of the vector by the corresponding non-zero entry of $D$.  Thinking about diagonal matrices geometrically, the non-zero entries specify by how much we wish to stretch each dimension.\n",
    "\n",
    "So the first dimension is stretched by 2, the second by 3, and the last by 4."
   ]
  },
  {
   "cell_type": "markdown",
   "metadata": {},
   "source": [
    "<img src=\"./stretching-matrix.png\" width=\"40%\">"
   ]
  },
  {
   "cell_type": "markdown",
   "metadata": {},
   "source": [
    "### Identity matrix"
   ]
  },
  {
   "cell_type": "markdown",
   "metadata": {},
   "source": [
    "An identity matrix is a matrix where the only non-zero entries are non-zero along the diagonal."
   ]
  },
  {
   "cell_type": "code",
   "execution_count": 15,
   "metadata": {},
   "outputs": [
    {
     "data": {
      "text/plain": [
       "array([[1., 0., 0.],\n",
       "       [0., 1., 0.],\n",
       "       [0., 0., 1.]])"
      ]
     },
     "execution_count": 15,
     "metadata": {},
     "output_type": "execute_result"
    }
   ],
   "source": [
    "from numpy import identity\n",
    "I = identity(3)\n",
    "I"
   ]
  },
  {
   "cell_type": "markdown",
   "metadata": {},
   "source": [
    "The identity matrix is denoted by the capital letter I.  The identity matrix gets it's name because when we perform multiplication with an identity matrix, it leaves the matrix untouched."
   ]
  },
  {
   "cell_type": "code",
   "execution_count": 16,
   "metadata": {},
   "outputs": [],
   "source": [
    "X = np.array([[ 49,  82, 140],\n",
    "       [ 23,  34,  50],\n",
    "       [ 31,  48,  75]])"
   ]
  },
  {
   "cell_type": "markdown",
   "metadata": {},
   "source": [
    "Logically, this makes sense, as if our diagonal matrix scales each each dimension by the diagonal, here we scale each dimension by a factor of 1, or leave it unchanged."
   ]
  },
  {
   "cell_type": "markdown",
   "metadata": {},
   "source": [
    "### Orthonormal Matrices"
   ]
  },
  {
   "cell_type": "markdown",
   "metadata": {},
   "source": [
    "So far we have learned about diagonal matrices, which we can think of as stretching space in a specific direction, then orthonormal matrices do not stretch space, but only rotate it."
   ]
  },
  {
   "cell_type": "markdown",
   "metadata": {},
   "source": [
    "> So, for example, going back to our ellipse, we can see that elipse maintains the same shape, but is rotated."
   ]
  },
  {
   "cell_type": "markdown",
   "metadata": {},
   "source": [
    "<img src=\"./rotation-matrix.png\" width=\"10%\">"
   ]
  },
  {
   "cell_type": "markdown",
   "metadata": {},
   "source": [
    "An orthonormal matrix is well named -- each of the vectors are orthogonal, or perpendicular to each other.  And each vector is also normalized, meaning that each column of the matrix is of length one.\n",
    "\n",
    "Let's see an example of an orthonormal matrix."
   ]
  },
  {
   "cell_type": "code",
   "execution_count": 35,
   "metadata": {},
   "outputs": [],
   "source": [
    "import numpy as np\n",
    "Q = np.array([\n",
    "    [1/3, 2/3, -2/3],\n",
    "    [-2/3, 2/3, 1/3],\n",
    "        [2/3, 1/3, 2/3]\n",
    "])"
   ]
  },
  {
   "cell_type": "markdown",
   "metadata": {},
   "source": [
    "Let's check that Q is indeed orthonormal.  Remember that the vectors of the matrix should have length one."
   ]
  },
  {
   "cell_type": "code",
   "execution_count": 30,
   "metadata": {},
   "outputs": [
    {
     "data": {
      "text/plain": [
       "(1.0, 1.0, 1.0)"
      ]
     },
     "execution_count": 30,
     "metadata": {},
     "output_type": "execute_result"
    }
   ],
   "source": [
    "Q[:, 0].dot(Q[:, 0]), Q[:, 1].dot(Q[:, 1]), Q[:, 2].dot(Q[:, 2])"
   ]
  },
  {
   "cell_type": "markdown",
   "metadata": {},
   "source": [
    "Secondly, we can check that each column is orthogonal to the other if the dot product of any two vectors are zero."
   ]
  },
  {
   "cell_type": "code",
   "execution_count": 42,
   "metadata": {},
   "outputs": [
    {
     "data": {
      "text/plain": [
       "(0.0, 0.0, 0.0)"
      ]
     },
     "execution_count": 42,
     "metadata": {},
     "output_type": "execute_result"
    }
   ],
   "source": [
    "Q[:, 0].dot(Q[:, 1]), Q[:, 0].dot(Q[:, 2]), Q[:, 1].dot(Q[:, 2])"
   ]
  },
  {
   "cell_type": "markdown",
   "metadata": {},
   "source": [
    "### Summary"
   ]
  },
  {
   "cell_type": "markdown",
   "metadata": {},
   "source": [
    "In this lesson, we learned about different special matrices.  The first is a diagonal matrix.  A diagonal matrix simply stretches space the amount of it's non-zero entries.  We saw that an identity matrix, whose diagonal entries are ones, scales each dimension by one, and thus has no impact.\n",
    "\n",
    "Then we saw that an orthonormal matrix does not scale a dimension, but does rotate space.  With an orthonormal matrix, each column of the matrix is of length one and each column is perpendicular to the other.\n",
    "\n"
   ]
  },
  {
   "cell_type": "markdown",
   "metadata": {},
   "source": [
    "### Resources\n",
    "\n",
    "[Diagonal Matrices Wiki](https://en.wikipedia.org/wiki/Diagonal_matrix)"
   ]
  }
 ],
 "metadata": {
  "kernelspec": {
   "display_name": "Python 3",
   "language": "python",
   "name": "python3"
  },
  "language_info": {
   "codemirror_mode": {
    "name": "ipython",
    "version": 3
   },
   "file_extension": ".py",
   "mimetype": "text/x-python",
   "name": "python",
   "nbconvert_exporter": "python",
   "pygments_lexer": "ipython3",
   "version": "3.7.4"
  }
 },
 "nbformat": 4,
 "nbformat_minor": 4
}
