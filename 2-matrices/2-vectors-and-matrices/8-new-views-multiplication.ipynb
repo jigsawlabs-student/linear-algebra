{
 "cells": [
  {
   "cell_type": "markdown",
   "metadata": {},
   "source": [
    "# Different Multiplication Views"
   ]
  },
  {
   "cell_type": "markdown",
   "metadata": {},
   "source": [
    "### Introduction"
   ]
  },
  {
   "cell_type": "markdown",
   "metadata": {},
   "source": [
    "In the past lessons we saw a couple different ways of performing matrix matrix multiplication.  We saw that we can view the operation as either a series of dot products:"
   ]
  },
  {
   "cell_type": "markdown",
   "metadata": {},
   "source": [
    "$$A \\cdot X =  \\begin{pmatrix}\n",
    "    [\\leftarrow a_1 \\rightarrow] \\\\\n",
    "    [\\leftarrow a_2 \\rightarrow] \\\\\n",
    "    [\\leftarrow a_3 \\rightarrow]\\\\\n",
    "    [\\leftarrow a_4 \\rightarrow]\\\\\n",
    "    [\\leftarrow a_5 \\rightarrow]\\\\\n",
    "\\end{pmatrix} \\cdot \\begin{pmatrix}\n",
    "    \\uparrow & \\uparrow  \\\\ x_1 & x_2 \\\\ \\downarrow  & \\downarrow \\end{pmatrix} =  \\begin{pmatrix} a_1 \\cdot x_1 & a_1 \\cdot x_2 \\\\ a_2 \\cdot x_1 & a_2 \\cdot x_2 \\\\ a_3 \\cdot x_1 & a_3 \\cdot x_2 \\\\ a_4 \\cdot x_1 & a_4 \\cdot x_2 \\\\ a_5 \\cdot x_1 & a_5 \\cdot x_2  \\end{pmatrix}$$"
   ]
  },
  {
   "cell_type": "markdown",
   "metadata": {},
   "source": [
    "Or we can view it as a series of matrix vector multiplications."
   ]
  },
  {
   "cell_type": "markdown",
   "metadata": {},
   "source": [
    "$A \\cdot x_1  =  \\begin{pmatrix}\n",
    "    [\\leftarrow a_1 \\rightarrow] \\\\\n",
    "    [\\leftarrow a_2 \\rightarrow] \\\\\n",
    "    [\\leftarrow a_3 \\rightarrow]\\\\\n",
    "\\end{pmatrix} \\cdot  \\begin{pmatrix}\n",
    "    \\uparrow   \\\\ x_1  \\\\ \\downarrow   \\end{pmatrix}  = x_{11}* \\begin{pmatrix}\n",
    "    \\uparrow  \\\\\n",
    "    a_1 \\\\\n",
    "    \\downarrow\\\\\n",
    "\\end{pmatrix} + x_{12}* \\begin{pmatrix}\n",
    "    \\uparrow  \\\\\n",
    "    a_2 \\\\\n",
    "    \\downarrow \\\\\n",
    "\\end{pmatrix}  + x_{13}* \\begin{pmatrix}\n",
    "    \\uparrow  \\\\\n",
    "    a_3 \\\\\n",
    "    \\downarrow \\\\\n",
    "\\end{pmatrix} \n",
    "= \\begin{pmatrix}\n",
    "    |  \\\\\n",
    "    b_1 \\\\\n",
    "    |\\\\\n",
    "\\end{pmatrix} $"
   ]
  },
  {
   "cell_type": "markdown",
   "metadata": {},
   "source": [
    "In this lesson, we see another way of viewing this, which dotting a column with a row, something quite different.  "
   ]
  },
  {
   "cell_type": "markdown",
   "metadata": {},
   "source": [
    "$$A \\cdot X =  \\begin{pmatrix}\n",
    "    \\uparrow & \\uparrow \\\\\n",
    "    a_1 &  a_2  \\\\\n",
    "    \\downarrow & \\downarrow\\\\\n",
    "\\end{pmatrix} \\cdot \\begin{pmatrix}\n",
    "    \\leftarrow & x_1 & \\rightarrow  \\\\ \\leftarrow & x_2 & \\rightarrow \\\\ \\leftarrow & x_3 & \\rightarrow  \\end{pmatrix}$$"
   ]
  },
  {
   "cell_type": "markdown",
   "metadata": {},
   "source": [
    "In this lesson, we'll walk through this operation, and see how it works."
   ]
  },
  {
   "cell_type": "markdown",
   "metadata": {},
   "source": [
    "### Vector Vector Multiplication revisited"
   ]
  },
  {
   "cell_type": "markdown",
   "metadata": {},
   "source": [
    "Notice that when we perform vector vector multiplication, it continues to follow our rules of multiplying a row by a column, just like we saw in matrix matrix multiplication.  For example, let's initialize our matrices $A$ and $X$, and then we can multiply some of their vectors together."
   ]
  },
  {
   "cell_type": "code",
   "execution_count": 4,
   "metadata": {},
   "outputs": [],
   "source": [
    "import numpy as np\n",
    "A = np.array([[25, 8],\n",
    "              [5, 6],\n",
    "              [10, 7]\n",
    "             ])\n",
    "X = np.array([[1, 2, 4],\n",
    "              [3, 4, 5]])"
   ]
  },
  {
   "cell_type": "markdown",
   "metadata": {},
   "source": [
    "Now let's select a row from A and a column from X."
   ]
  },
  {
   "cell_type": "code",
   "execution_count": 5,
   "metadata": {},
   "outputs": [
    {
     "data": {
      "text/plain": [
       "(array([[25,  8]]),\n",
       " array([[1],\n",
       "        [3]]))"
      ]
     },
     "execution_count": 5,
     "metadata": {},
     "output_type": "execute_result"
    }
   ],
   "source": [
    "a_1, x_1 = A[:1, :2], X[:2, :1]\n",
    "a_1, x_1"
   ]
  },
  {
   "cell_type": "markdown",
   "metadata": {},
   "source": [
    "Notice the dimensions of $a_1$ and $x_1$."
   ]
  },
  {
   "cell_type": "code",
   "execution_count": 17,
   "metadata": {},
   "outputs": [
    {
     "data": {
      "text/plain": [
       "((1, 2), (2, 1))"
      ]
     },
     "execution_count": 17,
     "metadata": {},
     "output_type": "execute_result"
    }
   ],
   "source": [
    "a_1.shape, x_1.shape"
   ]
  },
  {
   "cell_type": "markdown",
   "metadata": {},
   "source": [
    "> So $a_1$ is one row and two columns, and $x_1$ is 2 rows and one column."
   ]
  },
  {
   "cell_type": "markdown",
   "metadata": {},
   "source": [
    "So if multiply $a_1 \\cdot x_1$ here, we should get a vector of length $1x1$, as that is the outer dimensions we see above, or in other words we should get a single entry."
   ]
  },
  {
   "cell_type": "code",
   "execution_count": 6,
   "metadata": {},
   "outputs": [
    {
     "data": {
      "text/plain": [
       "array([[49]])"
      ]
     },
     "execution_count": 6,
     "metadata": {},
     "output_type": "execute_result"
    }
   ],
   "source": [
    "a_1.dot(x_1)"
   ]
  },
  {
   "cell_type": "markdown",
   "metadata": {},
   "source": [
    "Ok, now that we multiplied a row by a column, let's think about what occurs if we multiply a column by a row."
   ]
  },
  {
   "cell_type": "code",
   "execution_count": 20,
   "metadata": {},
   "outputs": [
    {
     "data": {
      "text/plain": [
       "(array([[1],\n",
       "        [3]]),\n",
       " array([[25,  8]]))"
      ]
     },
     "execution_count": 20,
     "metadata": {},
     "output_type": "execute_result"
    }
   ],
   "source": [
    "x_1, a_1"
   ]
  },
  {
   "cell_type": "code",
   "execution_count": 21,
   "metadata": {},
   "outputs": [
    {
     "data": {
      "text/plain": [
       "((2, 1), (1, 2))"
      ]
     },
     "execution_count": 21,
     "metadata": {},
     "output_type": "execute_result"
    }
   ],
   "source": [
    "x_1.shape, a_1.shape"
   ]
  },
  {
   "cell_type": "markdown",
   "metadata": {},
   "source": [
    "Here, the inner dimensions match as 1 and 1, but the outer dimensions suggest that we will get a 2x2 matrix.  Let's see."
   ]
  },
  {
   "cell_type": "code",
   "execution_count": 22,
   "metadata": {},
   "outputs": [
    {
     "data": {
      "text/plain": [
       "array([[25,  8],\n",
       "       [75, 24]])"
      ]
     },
     "execution_count": 22,
     "metadata": {},
     "output_type": "execute_result"
    }
   ],
   "source": [
    "x_1.dot(a_1)"
   ]
  },
  {
   "cell_type": "markdown",
   "metadata": {},
   "source": [
    "And we can see that each entry is just the corresponding row dotted with the corresponding column."
   ]
  },
  {
   "cell_type": "markdown",
   "metadata": {},
   "source": [
    "$a_1 \\cdot x_1^T  = \\begin{pmatrix}\n",
    "    1  \\\\\n",
    "    3 \\\\\n",
    "\\end{pmatrix}  \\cdot \\begin{pmatrix}\n",
    "25 & 8\n",
    "\\end{pmatrix} = \\left[ 25 \\begin{pmatrix}\n",
    "1 \\\\\n",
    "3\n",
    "\\end{pmatrix} 8 \\begin{pmatrix}\n",
    "1 \\\\\n",
    "3\n",
    "\\end{pmatrix} \\right]= \\begin{pmatrix}\n",
    "25 & 8 \\\\ \n",
    "75 & 24 \n",
    "\\end{pmatrix}$\n",
    "    \n"
   ]
  },
  {
   "cell_type": "markdown",
   "metadata": {},
   "source": [
    "So we can see that our vector vector multiplication really follows the same rules of matrix matrix multiplication that we saw previously.  Here we are treating the second vector, x_1^T as two columns of a matrix.  So in our resulting matrix, we get the first column by multiplying the first \"vector\" $25$ times by our \"matrix\" $a_1$, and the second column by multiplying the second vector $8$ by our matrix $a_1$.\n",
    "\n",
    "> We also see that there really is a difference between $a^T \\cdot x$ and $a \\cdot x^T$.  The first results in a vector, while the second results in a matrix."
   ]
  },
  {
   "cell_type": "markdown",
   "metadata": {},
   "source": [
    "### Matrix Matrix Multiplication revisited"
   ]
  },
  {
   "cell_type": "markdown",
   "metadata": {},
   "source": [
    "Now that we see that a column vector times a row vector results in a matrix, we can move onto seeing a new mechanism for viewing matrix matrix multiplication."
   ]
  },
  {
   "cell_type": "markdown",
   "metadata": {},
   "source": [
    "We can begin by initializing our two matrices $A$ and $X$.  And now, let's think about what it means to view our multiplication as a series of column by row dot products."
   ]
  },
  {
   "cell_type": "code",
   "execution_count": 7,
   "metadata": {},
   "outputs": [],
   "source": [
    "import numpy as np\n",
    "A = np.array([[25, 8],\n",
    "              [5, 6],\n",
    "              [10, 7]\n",
    "             ])\n",
    "X = np.array([[1, 2, 4],\n",
    "              [3, 4, 5]])"
   ]
  },
  {
   "cell_type": "markdown",
   "metadata": {},
   "source": [
    "$A \\cdot X  =  \\begin{pmatrix}\n",
    "    25 & 8 \\\\\n",
    "    5 & 6\\\\\n",
    "    10 & 7\\\\\n",
    "\\end{pmatrix} \\cdot \\begin{pmatrix}\n",
    "    1 & 2 & 4\\\\ 3 & 4 & 5 \n",
    "\\end{pmatrix}  = \\begin{pmatrix}\n",
    "    25  \\\\\n",
    "    5 \\\\\n",
    "    10\\\\\n",
    "\\end{pmatrix} \\cdot \\begin{pmatrix}\n",
    "    1 & 2 & 4 \n",
    "\\end{pmatrix}  + \\begin{pmatrix}\n",
    "    8  \\\\\n",
    "    6 \\\\\n",
    "    7\\\\\n",
    "\\end{pmatrix} \\cdot \\begin{pmatrix}\n",
    "    3 & 4 & 5 \n",
    "\\end{pmatrix}$"
   ]
  },
  {
   "cell_type": "markdown",
   "metadata": {},
   "source": [
    "And remember, that each column by row dot product results in separate *matrix*."
   ]
  },
  {
   "cell_type": "code",
   "execution_count": 27,
   "metadata": {},
   "outputs": [
    {
     "data": {
      "text/plain": [
       "(array([[ 25,  50, 100],\n",
       "        [  5,  10,  20],\n",
       "        [ 10,  20,  40]]),\n",
       " array([[24, 32, 40],\n",
       "        [18, 24, 30],\n",
       "        [21, 28, 35]]))"
      ]
     },
     "execution_count": 27,
     "metadata": {},
     "output_type": "execute_result"
    }
   ],
   "source": [
    "A[:4, :1].dot(X[:1, :4]), A[:4, 1:2].dot(X[1:2, :4]) "
   ]
  },
  {
   "cell_type": "markdown",
   "metadata": {},
   "source": [
    "And adding these two dot products up gives the resulting matrices, combined into one matrix."
   ]
  },
  {
   "cell_type": "markdown",
   "metadata": {},
   "source": [
    "$A \\cdot X  = \\begin{pmatrix}\n",
    "    25 & 50 & 100 \\\\  5 &  10 &  20 \\\\ 10 &  20 & 40\n",
    "\\end{pmatrix}  + \\begin{pmatrix}\n",
    "    24 & 32 & 40 \\\\  18 &  24 &  30 \\\\ 21 &  28 & 35\n",
    "\\end{pmatrix} =  \\begin{pmatrix}\n",
    "    49 & 82 & 140 \\\\  23 &  34 &  50 \\\\ 31 &  48 & 75\n",
    "\\end{pmatrix}$"
   ]
  },
  {
   "cell_type": "code",
   "execution_count": 28,
   "metadata": {},
   "outputs": [
    {
     "data": {
      "text/plain": [
       "array([[ 49,  82, 140],\n",
       "       [ 23,  34,  50],\n",
       "       [ 31,  48,  75]])"
      ]
     },
     "execution_count": 28,
     "metadata": {},
     "output_type": "execute_result"
    }
   ],
   "source": [
    "A[:4, :1].dot(X[:1, :4]) +  A[:4, 1:2].dot(X[1:2, :4]) "
   ]
  },
  {
   "cell_type": "markdown",
   "metadata": {},
   "source": [
    "So another way to view matrix matrix multiplication is with each column dotted with each row, and then adding the results."
   ]
  },
  {
   "cell_type": "markdown",
   "metadata": {},
   "source": [
    "$A \\cdot X  =  \\begin{pmatrix}\n",
    "    25 & 8 \\\\\n",
    "    5 & 6\\\\\n",
    "    10 & 7\\\\\n",
    "\\end{pmatrix} \\cdot \\begin{pmatrix}\n",
    "    1 & 2 & 4\\\\ 3 & 4 & 5 \n",
    "\\end{pmatrix} = \\begin{pmatrix}\n",
    "    25  \\\\\n",
    "    5 \\\\\n",
    "    10\\\\\n",
    "\\end{pmatrix} \\cdot \\begin{pmatrix}\n",
    "    1 & 2 & 4 \n",
    "\\end{pmatrix}  + \\begin{pmatrix}\n",
    "    8  \\\\\n",
    "    6 \\\\\n",
    "    7\\\\\n",
    "\\end{pmatrix} \\cdot \\begin{pmatrix}\n",
    "    3 & 4 & 5 \n",
    "\\end{pmatrix} = $ \n"
   ]
  },
  {
   "cell_type": "markdown",
   "metadata": {},
   "source": [
    "$\\begin{pmatrix}\n",
    "    25 & 50 & 100 \\\\  5 &  10 &  20 \\\\ 10 &  20 & 40\n",
    "\\end{pmatrix}  + \\begin{pmatrix}\n",
    "    24 & 32 & 40 \\\\  18 &  24 &  30 \\\\ 21 &  28 & 35\n",
    "\\end{pmatrix} =  \\begin{pmatrix}\n",
    "    49 & 82 & 140 \\\\  23 &  34 &  50 \\\\ 31 &  48 & 75\n",
    "\\end{pmatrix}$"
   ]
  },
  {
   "cell_type": "markdown",
   "metadata": {},
   "source": [
    "This is important, because, we'll see in future lessons that this view allows us to almost build our matrix up in layers.  If we only take the first dot product, for example, then we have essentially built the first \"layer\" of our matrix."
   ]
  },
  {
   "cell_type": "markdown",
   "metadata": {},
   "source": [
    "$A_{: 1} \\cdot X_{1 :}  =  \\begin{pmatrix}\n",
    "    25  \\\\\n",
    "    5 \\\\\n",
    "    10 \\\\\n",
    "\\end{pmatrix} \\cdot \\begin{pmatrix}\n",
    "    1 & 2 & 4\n",
    "\\end{pmatrix} = \\begin{pmatrix}\n",
    "    25 & 50 & 100 \\\\  5 &  10 &  20 \\\\ 10 &  20 & 40\n",
    "\\end{pmatrix}$"
   ]
  },
  {
   "cell_type": "markdown",
   "metadata": {},
   "source": [
    "And then add in the second layer, through the second dot product."
   ]
  },
  {
   "cell_type": "markdown",
   "metadata": {},
   "source": [
    "$A_{: 2} \\cdot X_{2 :}  =  \\begin{pmatrix}\n",
    "    8  \\\\\n",
    "    6 \\\\\n",
    "    7 \\\\\n",
    "\\end{pmatrix} \\cdot \\begin{pmatrix}\n",
    "    3 & 4 & 5\n",
    "\\end{pmatrix} = \\begin{pmatrix}\n",
    "    24 & 32 & 40 \\\\  18 &  24 &  30 \\\\ 21 &  28 & 35\n",
    "\\end{pmatrix}$"
   ]
  },
  {
   "cell_type": "markdown",
   "metadata": {},
   "source": [
    "### Summary"
   ]
  },
  {
   "cell_type": "markdown",
   "metadata": {},
   "source": [
    "In this lesson, we began by reviewing the result of dotting a row by a column and moved onto dotting a column by a row.  We saw that while our standard dot product $a^T \\cdot b$ results in a scalar number:"
   ]
  },
  {
   "cell_type": "markdown",
   "metadata": {},
   "source": [
    "$a \\cdot b^T  = \\begin{pmatrix}\n",
    "a_1 & a_2\n",
    "\\end{pmatrix} \\cdot \\begin{pmatrix}\n",
    "    b_1  \\\\\n",
    "    b_2 \\\\\n",
    "\\end{pmatrix}   = c$"
   ]
  },
  {
   "cell_type": "markdown",
   "metadata": {},
   "source": [
    "Dotting a column by a row results in a matrix:"
   ]
  },
  {
   "cell_type": "markdown",
   "metadata": {},
   "source": [
    "$a \\cdot b^T  = \\begin{pmatrix}\n",
    "    a_1  \\\\\n",
    "    a_2 \\\\\n",
    "\\end{pmatrix}  \\cdot \\begin{pmatrix}\n",
    "b_1 & b_2\n",
    "\\end{pmatrix} = \\left[ b_1 \\begin{pmatrix}\n",
    "a_1 \\\\\n",
    "a_2\n",
    "\\end{pmatrix} b_2 \\begin{pmatrix}\n",
    "a_1 \\\\\n",
    "a_2\n",
    "\\end{pmatrix} \\right]= \\begin{pmatrix}\n",
    "a_1b_1 & a_1b_2 \\\\ \n",
    "a_2b_1 & a_2b_2 \n",
    "\\end{pmatrix}$\n",
    "    \n"
   ]
  }
 ],
 "metadata": {
  "kernelspec": {
   "display_name": "Python 3",
   "language": "python",
   "name": "python3"
  },
  "language_info": {
   "codemirror_mode": {
    "name": "ipython",
    "version": 3
   },
   "file_extension": ".py",
   "mimetype": "text/x-python",
   "name": "python",
   "nbconvert_exporter": "python",
   "pygments_lexer": "ipython3",
   "version": "3.7.4"
  }
 },
 "nbformat": 4,
 "nbformat_minor": 4
}
