{
 "cells": [
  {
   "cell_type": "markdown",
   "metadata": {},
   "source": [
    "# Different Multiplication Views"
   ]
  },
  {
   "cell_type": "markdown",
   "metadata": {},
   "source": [
    "### Introduction"
   ]
  },
  {
   "cell_type": "code",
   "execution_count": null,
   "metadata": {},
   "outputs": [],
   "source": []
  },
  {
   "cell_type": "markdown",
   "metadata": {},
   "source": [
    "### Vector Vector Multiplication revisited"
   ]
  },
  {
   "cell_type": "markdown",
   "metadata": {},
   "source": [
    "Notice that when we perform vector vector multiplication, it continues to follow our rules of multiplying a row by a column.  For example, let's initialize our matrices $A$ and $X$, and then we can multiply some of their vectors together."
   ]
  },
  {
   "cell_type": "code",
   "execution_count": 6,
   "metadata": {},
   "outputs": [],
   "source": [
    "A = np.array([[25, 8],\n",
    "              [5, 6],\n",
    "              [10, 7]\n",
    "             ])\n",
    "X = np.array([[1, 2, 4],\n",
    "              [3, 4, 5]])"
   ]
  },
  {
   "cell_type": "markdown",
   "metadata": {},
   "source": [
    "Now let's select a row from A and a column from X."
   ]
  },
  {
   "cell_type": "code",
   "execution_count": 16,
   "metadata": {},
   "outputs": [
    {
     "data": {
      "text/plain": [
       "(array([[25,  8]]),\n",
       " array([[1],\n",
       "        [3]]))"
      ]
     },
     "execution_count": 16,
     "metadata": {},
     "output_type": "execute_result"
    }
   ],
   "source": [
    "a_1, x_1 = A[:1, :2], X[:2, :1]\n",
    "a_1, x_1"
   ]
  },
  {
   "cell_type": "markdown",
   "metadata": {},
   "source": [
    "Notice the dimensions of $a_1$ and $x_1$."
   ]
  },
  {
   "cell_type": "code",
   "execution_count": 17,
   "metadata": {},
   "outputs": [
    {
     "data": {
      "text/plain": [
       "((1, 2), (2, 1))"
      ]
     },
     "execution_count": 17,
     "metadata": {},
     "output_type": "execute_result"
    }
   ],
   "source": [
    "a_1.shape, x_1.shape"
   ]
  },
  {
   "cell_type": "markdown",
   "metadata": {},
   "source": [
    "So if multiply $a \\cdot x$ here, we should get a vector of length $1x1$, or in other words a single entry."
   ]
  },
  {
   "cell_type": "code",
   "execution_count": 18,
   "metadata": {},
   "outputs": [
    {
     "data": {
      "text/plain": [
       "array([[49]])"
      ]
     },
     "execution_count": 18,
     "metadata": {},
     "output_type": "execute_result"
    }
   ],
   "source": [
    "a_1.dot(x_1)"
   ]
  },
  {
   "cell_type": "markdown",
   "metadata": {},
   "source": [
    "Now let's think about what occurs if we multiply a column by a row."
   ]
  },
  {
   "cell_type": "code",
   "execution_count": 20,
   "metadata": {},
   "outputs": [
    {
     "data": {
      "text/plain": [
       "(array([[1],\n",
       "        [3]]),\n",
       " array([[25,  8]]))"
      ]
     },
     "execution_count": 20,
     "metadata": {},
     "output_type": "execute_result"
    }
   ],
   "source": [
    "x_1, a_1"
   ]
  },
  {
   "cell_type": "code",
   "execution_count": 21,
   "metadata": {},
   "outputs": [
    {
     "data": {
      "text/plain": [
       "((2, 1), (1, 2))"
      ]
     },
     "execution_count": 21,
     "metadata": {},
     "output_type": "execute_result"
    }
   ],
   "source": [
    "x_1.shape, a_1.shape"
   ]
  },
  {
   "cell_type": "markdown",
   "metadata": {},
   "source": [
    "Here, the inner dimensions match as 1 and 1, but the outer dimensions suggest that we will get a 2x2 matrix.  Let's see."
   ]
  },
  {
   "cell_type": "code",
   "execution_count": 22,
   "metadata": {},
   "outputs": [
    {
     "data": {
      "text/plain": [
       "array([[25,  8],\n",
       "       [75, 24]])"
      ]
     },
     "execution_count": 22,
     "metadata": {},
     "output_type": "execute_result"
    }
   ],
   "source": [
    "x_1.dot(a_1)"
   ]
  },
  {
   "cell_type": "markdown",
   "metadata": {},
   "source": [
    "And we can see that each entry is just the corresponding row dotted with the corresponding column."
   ]
  },
  {
   "cell_type": "markdown",
   "metadata": {},
   "source": [
    "$a \\cdot x^T  = \\begin{pmatrix}\n",
    "    1  \\\\\n",
    "    3 \\\\\n",
    "\\end{pmatrix}  \\cdot \\begin{pmatrix}\n",
    "25 & 8\n",
    "\\end{pmatrix} =  \\begin{pmatrix}\n",
    "25 & 8 \\\\ \n",
    "75 & 24 \n",
    "\\end{pmatrix}$\n",
    "    \n"
   ]
  },
  {
   "cell_type": "markdown",
   "metadata": {},
   "source": [
    "So we can see that our vector vector multiplication really follows the same rules of matrix matrix multiplication that we saw previously.  We also see that there really is a difference between $a^T \\cdot x$ and $a \\cdot x^T$.  The first results in a vector, while the second results in a matrix."
   ]
  },
  {
   "cell_type": "markdown",
   "metadata": {},
   "source": [
    "### Matrix Matrix Multiplication revisited"
   ]
  },
  {
   "cell_type": "markdown",
   "metadata": {},
   "source": [
    "Now that we see that a column vector times a row vector results in a matrix, we can see a different ways of viewing matrix matrix multiplication."
   ]
  },
  {
   "cell_type": "markdown",
   "metadata": {},
   "source": [
    "$A \\cdot X  =  \\begin{pmatrix}\n",
    "    25 & 8 \\\\\n",
    "    5 & 6\\\\\n",
    "    10 & 7\\\\\n",
    "\\end{pmatrix} \\cdot \\begin{pmatrix}\n",
    "    1 & 2 & 4\\\\ 3 & 4 & 5 \n",
    "\\end{pmatrix} $"
   ]
  },
  {
   "cell_type": "code",
   "execution_count": 2,
   "metadata": {},
   "outputs": [],
   "source": [
    "import numpy as np\n",
    "A = np.array([[25, 8],\n",
    "              [5, 6],\n",
    "              [10, 7]\n",
    "             ])\n",
    "X = np.array([[1, 2, 4],\n",
    "              [3, 4, 5]])"
   ]
  },
  {
   "cell_type": "code",
   "execution_count": 6,
   "metadata": {},
   "outputs": [
    {
     "data": {
      "text/plain": [
       "array([[ 49,  82, 140],\n",
       "       [ 23,  34,  50],\n",
       "       [ 31,  48,  75]])"
      ]
     },
     "execution_count": 6,
     "metadata": {},
     "output_type": "execute_result"
    }
   ],
   "source": [
    "A.dot(X)"
   ]
  },
  {
   "cell_type": "markdown",
   "metadata": {},
   "source": [
    "$A \\cdot X  =  \\begin{pmatrix}\n",
    "    25  \\\\\n",
    "    5 \\\\\n",
    "    10\\\\\n",
    "\\end{pmatrix} \\cdot \\begin{pmatrix}\n",
    "    1 & 2 & 4 \n",
    "\\end{pmatrix}  + \\begin{pmatrix}\n",
    "    8  \\\\\n",
    "    6 \\\\\n",
    "    7\\\\\n",
    "\\end{pmatrix} \\cdot \\begin{pmatrix}\n",
    "    3 & 4 & 5 \n",
    "\\end{pmatrix}$"
   ]
  },
  {
   "cell_type": "code",
   "execution_count": 27,
   "metadata": {},
   "outputs": [
    {
     "data": {
      "text/plain": [
       "(array([[ 25,  50, 100],\n",
       "        [  5,  10,  20],\n",
       "        [ 10,  20,  40]]),\n",
       " array([[24, 32, 40],\n",
       "        [18, 24, 30],\n",
       "        [21, 28, 35]]))"
      ]
     },
     "execution_count": 27,
     "metadata": {},
     "output_type": "execute_result"
    }
   ],
   "source": [
    "A[:4, :1].dot(X[:1, :4]), A[:4, 1:2].dot(X[1:2, :4]) "
   ]
  },
  {
   "cell_type": "markdown",
   "metadata": {},
   "source": [
    "And adding these two dot products up gives the resulting multiplication."
   ]
  },
  {
   "cell_type": "code",
   "execution_count": 28,
   "metadata": {},
   "outputs": [
    {
     "data": {
      "text/plain": [
       "array([[ 49,  82, 140],\n",
       "       [ 23,  34,  50],\n",
       "       [ 31,  48,  75]])"
      ]
     },
     "execution_count": 28,
     "metadata": {},
     "output_type": "execute_result"
    }
   ],
   "source": [
    "A[:4, :1].dot(X[:1, :4]) +  A[:4, 1:2].dot(X[1:2, :4]) "
   ]
  },
  {
   "cell_type": "markdown",
   "metadata": {},
   "source": [
    "So another way to view matrix matrix multiplication is with each column dotted with each row, and then adding the results."
   ]
  },
  {
   "cell_type": "markdown",
   "metadata": {},
   "source": [
    "$A \\cdot X  =  \\begin{pmatrix}\n",
    "    25 & 8 \\\\\n",
    "    5 & 6\\\\\n",
    "    10 & 7\\\\\n",
    "\\end{pmatrix} \\cdot \\begin{pmatrix}\n",
    "    1 & 2 & 4\\\\ 3 & 4 & 5 \n",
    "\\end{pmatrix} = \\begin{pmatrix}\n",
    "    25  \\\\\n",
    "    5 \\\\\n",
    "    10\\\\\n",
    "\\end{pmatrix} \\cdot \\begin{pmatrix}\n",
    "    1 & 2 & 4 \n",
    "\\end{pmatrix}  + \\begin{pmatrix}\n",
    "    8  \\\\\n",
    "    6 \\\\\n",
    "    7\\\\\n",
    "\\end{pmatrix} \\cdot \\begin{pmatrix}\n",
    "    3 & 4 & 5 \n",
    "\\end{pmatrix} = $ \n"
   ]
  },
  {
   "cell_type": "markdown",
   "metadata": {},
   "source": [
    "$\\begin{pmatrix}\n",
    "    25 & 50 & 100 \\\\  5 &  10 &  20 \\\\ 10 &  20 & 40\n",
    "\\end{pmatrix}  + \\begin{pmatrix}\n",
    "    24 & 32 & 40 \\\\  18 &  24 &  30 \\\\ 21 &  28 & 35\n",
    "\\end{pmatrix} =  \\begin{pmatrix}\n",
    "    49 & 82 & 140 \\\\  23 &  34 &  50 \\\\ 31 &  48 & 75\n",
    "\\end{pmatrix}$"
   ]
  }
 ],
 "metadata": {
  "kernelspec": {
   "display_name": "Python 3",
   "language": "python",
   "name": "python3"
  },
  "language_info": {
   "codemirror_mode": {
    "name": "ipython",
    "version": 3
   },
   "file_extension": ".py",
   "mimetype": "text/x-python",
   "name": "python",
   "nbconvert_exporter": "python",
   "pygments_lexer": "ipython3",
   "version": "3.7.4"
  }
 },
 "nbformat": 4,
 "nbformat_minor": 4
}
