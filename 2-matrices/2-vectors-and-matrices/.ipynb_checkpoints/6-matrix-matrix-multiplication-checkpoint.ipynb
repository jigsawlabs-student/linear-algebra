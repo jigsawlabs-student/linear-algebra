{
 "cells": [
  {
   "cell_type": "markdown",
   "metadata": {},
   "source": [
    "# Matrix Matrix Multiplication"
   ]
  },
  {
   "cell_type": "markdown",
   "metadata": {},
   "source": [
    "### Introduction"
   ]
  },
  {
   "cell_type": "markdown",
   "metadata": {},
   "source": [
    "Now that we've learned how to multiply a vector by a matrix, it's time to learn about what's involved in multiplying a matrix by a matrix.  We'll also see how this compares to the matrix vector multiplication that we learned previously."
   ]
  },
  {
   "cell_type": "markdown",
   "metadata": {},
   "source": [
    "### Review Matrix Vector Multiplication"
   ]
  },
  {
   "cell_type": "markdown",
   "metadata": {},
   "source": [
    "So far we have seen one way to multiply a matrix by a vector.  Multiply each entry in the vector by the respective column in the matrix.  Then add the two columns.  "
   ]
  },
  {
   "cell_type": "markdown",
   "metadata": {},
   "source": [
    "$A \\cdot x =  \\begin{pmatrix}\n",
    "    200 & 800 \\\\\n",
    "    500 & 600\\\\\n",
    "    1000 & 700\\\\\n",
    "    2000 & 300\\\\\n",
    "    3000 & 100\\\\\n",
    "\\end{pmatrix} \\cdot \\begin{pmatrix}\n",
    "    .35 \\\\ .6 \n",
    "\\end{pmatrix} = .35* \\begin{pmatrix}\n",
    "    200  \\\\\n",
    "    500  \\\\\n",
    "    1000 \\\\\n",
    "    2000 \\\\ \n",
    "    3000 \\\\ \n",
    "\\end{pmatrix} + .6* \\begin{pmatrix}\n",
    "     800 \\\\\n",
    "     600 \\\\\n",
    "     700 \\\\\n",
    "     300 \\\\ \n",
    "     100 \\\\ \n",
    "\\end{pmatrix}  = \\begin{pmatrix}\n",
    "     70 \\\\\n",
    "     175 \\\\\n",
    "     350 \\\\\n",
    "     700 \\\\ \n",
    "     1050 \\\\ \n",
    "\\end{pmatrix} +  \\begin{pmatrix}\n",
    "     480 \\\\\n",
    "     360 \\\\\n",
    "     420 \\\\\n",
    "     180 \\\\ \n",
    "     60 \\\\ \n",
    "\\end{pmatrix} = \n",
    "\\begin{pmatrix}\n",
    "     550 \\\\\n",
    "     535 \\\\\n",
    "     770 \\\\\n",
    "     880 \\\\ \n",
    "     1010 \\\\ \n",
    "\\end{pmatrix}\n",
    "$"
   ]
  },
  {
   "cell_type": "code",
   "execution_count": 3,
   "metadata": {},
   "outputs": [],
   "source": [
    "import numpy as np\n",
    "A = np.array([\n",
    "    [200, 800],\n",
    "    [500, 600],\n",
    "    [1000, 700],\n",
    "    [2000, 300],\n",
    "    [3000, 100]])\n",
    "\n",
    "x = np.array([.35, .6])"
   ]
  },
  {
   "cell_type": "code",
   "execution_count": 4,
   "metadata": {},
   "outputs": [
    {
     "data": {
      "text/plain": [
       "array([ 550.,  535.,  770.,  880., 1110.])"
      ]
     },
     "execution_count": 4,
     "metadata": {},
     "output_type": "execute_result"
    }
   ],
   "source": [
    "A.dot(x)"
   ]
  },
  {
   "cell_type": "markdown",
   "metadata": {},
   "source": [
    "A second way to perform matrix vector multiplication is to multiply each row by each column.  The resulting vector is thus each row dotted with the vector $x$."
   ]
  },
  {
   "cell_type": "markdown",
   "metadata": {},
   "source": [
    "$$A \\cdot x =  \\begin{pmatrix}\n",
    "    [\\leftarrow a_1 \\rightarrow] \\\\\n",
    "    [\\leftarrow a_2 \\rightarrow] \\\\\n",
    "    [\\leftarrow a_3 \\rightarrow]\\\\\n",
    "    [\\leftarrow a_4 \\rightarrow]\\\\\n",
    "    [\\leftarrow a_5 \\rightarrow]\\\\\n",
    "\\end{pmatrix} \\cdot \\begin{pmatrix}\n",
    "    \\uparrow \\\\ x \\\\ \\downarrow \\end{pmatrix} =  \\begin{pmatrix} a_1 \\cdot x \\\\ a_2 \\cdot x \\\\ a_3 \\cdot x \\\\ a_4 \\cdot x \\\\ a_5 \\cdot x  \\end{pmatrix}$$"
   ]
  },
  {
   "cell_type": "code",
   "execution_count": 10,
   "metadata": {},
   "outputs": [
    {
     "data": {
      "text/plain": [
       "550.0"
      ]
     },
     "execution_count": 10,
     "metadata": {},
     "output_type": "execute_result"
    }
   ],
   "source": [
    "A[0, :].dot(x)"
   ]
  },
  {
   "cell_type": "code",
   "execution_count": 11,
   "metadata": {},
   "outputs": [
    {
     "data": {
      "text/plain": [
       "(535.0, 770.0, 880.0, 1110.0)"
      ]
     },
     "execution_count": 11,
     "metadata": {},
     "output_type": "execute_result"
    }
   ],
   "source": [
    "A[1, :].dot(x), A[2, :].dot(x), A[3, :].dot(x), A[4, :].dot(x)"
   ]
  },
  {
   "cell_type": "markdown",
   "metadata": {},
   "source": [
    "As we'll see we can perform similar procedures in matrix matrix multiplication."
   ]
  },
  {
   "cell_type": "markdown",
   "metadata": {},
   "source": [
    "### Matrix Matrix Multiplication"
   ]
  },
  {
   "cell_type": "markdown",
   "metadata": {},
   "source": [
    "We just saw that we can perform matrix vector multiplication by taking each row and the corresponding column to produce the corresponding entry in the resulting vector."
   ]
  },
  {
   "cell_type": "markdown",
   "metadata": {},
   "source": [
    "$$A \\cdot x =  \\begin{pmatrix}\n",
    "    [\\leftarrow a_1 \\rightarrow] \\\\\n",
    "    [\\leftarrow a_2 \\rightarrow] \\\\\n",
    "    [\\leftarrow a_3 \\rightarrow]\\\\\n",
    "    [\\leftarrow a_4 \\rightarrow]\\\\\n",
    "    [\\leftarrow a_5 \\rightarrow]\\\\\n",
    "\\end{pmatrix} \\cdot \\begin{pmatrix}\n",
    "    \\uparrow \\\\ x \\\\ \\downarrow \\end{pmatrix} =  \\begin{pmatrix} a_1 \\cdot x \\\\ a_2 \\cdot x \\\\ a_3 \\cdot x \\\\ a_4 \\cdot x \\\\ a_5 \\cdot x  \\end{pmatrix}$$"
   ]
  },
  {
   "cell_type": "markdown",
   "metadata": {},
   "source": [
    "With matrix matrix multiplication, we can also think of this as a series of dot products."
   ]
  },
  {
   "cell_type": "markdown",
   "metadata": {},
   "source": [
    "$$A \\cdot x =  \\begin{pmatrix}\n",
    "    [\\leftarrow a_1 \\rightarrow] \\\\\n",
    "    [\\leftarrow a_2 \\rightarrow] \\\\\n",
    "    [\\leftarrow a_3 \\rightarrow]\\\\\n",
    "    [\\leftarrow a_4 \\rightarrow]\\\\\n",
    "    [\\leftarrow a_5 \\rightarrow]\\\\\n",
    "\\end{pmatrix} \\cdot \\begin{pmatrix}\n",
    "    \\uparrow & \\uparrow  \\\\ x_1 & x_2 \\\\ \\downarrow  & \\downarrow \\end{pmatrix} =  \\begin{pmatrix} a_1 \\cdot x_1 & a_1 \\cdot x_2 \\\\ a_2 \\cdot x_1 & a_2 \\cdot x_2 \\\\ a_3 \\cdot x_1 & a_3 \\cdot x_2 \\\\ a_4 \\cdot x_1 & a_4 \\cdot x_2 \\\\ a_5 \\cdot x_1 & a_5 \\cdot x_2  \\end{pmatrix}$$"
   ]
  },
  {
   "cell_type": "markdown",
   "metadata": {},
   "source": [
    "So looking at the above, we can see that, letting $A \\cdot x = B$, that in the resulting matrix $B$, the entries:\n",
    "* the $B_{11} = a_1 \\cdot x_1$,\n",
    "* and $B_{52} = a_5 \\cdot x_2$."
   ]
  },
  {
   "cell_type": "markdown",
   "metadata": {},
   "source": [
    "Now let's see an example of the above.  We'll declare to matrices, A and X multiplying them together get the following:"
   ]
  },
  {
   "cell_type": "code",
   "execution_count": 14,
   "metadata": {},
   "outputs": [],
   "source": [
    "import numpy as np\n",
    "A = np.array([\n",
    "    [200, 800],\n",
    "    [500, 600],\n",
    "    [1000, 700],\n",
    "    [2000, 300],\n",
    "    [3000, 100]])\n",
    "\n",
    "X = np.array([[1, 2], \n",
    "              [3, 4]])"
   ]
  },
  {
   "cell_type": "code",
   "execution_count": 15,
   "metadata": {},
   "outputs": [
    {
     "data": {
      "text/plain": [
       "array([[2600, 3600],\n",
       "       [2300, 3400],\n",
       "       [3100, 4800],\n",
       "       [2900, 5200],\n",
       "       [3300, 6400]])"
      ]
     },
     "execution_count": 15,
     "metadata": {},
     "output_type": "execute_result"
    }
   ],
   "source": [
    "A.dot(x)"
   ]
  },
  {
   "cell_type": "markdown",
   "metadata": {},
   "source": [
    "Breaking down the first entry in the resulting vector it should be the first row of $A$ dotted with the first column of $X$."
   ]
  },
  {
   "cell_type": "code",
   "execution_count": 16,
   "metadata": {},
   "outputs": [
    {
     "data": {
      "text/plain": [
       "2600"
      ]
     },
     "execution_count": 16,
     "metadata": {},
     "output_type": "execute_result"
    }
   ],
   "source": [
    "A[0, :].dot(X[:, 0])"
   ]
  },
  {
   "cell_type": "markdown",
   "metadata": {},
   "source": [
    "### Implications of the Above"
   ]
  },
  {
   "cell_type": "markdown",
   "metadata": {},
   "source": [
    "Let's take note of a couple of items from the above."
   ]
  },
  {
   "cell_type": "markdown",
   "metadata": {},
   "source": [
    "1. Multiplication is not commutative "
   ]
  },
  {
   "cell_type": "markdown",
   "metadata": {},
   "source": [
    "In the above, with matrix multiplication it is always *rows of the first* matrix dotted with *columns of the second* matrix.  This means that $A \\cdot X \\neq X \\cdot A $."
   ]
  },
  {
   "cell_type": "code",
   "execution_count": 18,
   "metadata": {},
   "outputs": [
    {
     "data": {
      "text/plain": [
       "array([[2600, 3600],\n",
       "       [2300, 3400],\n",
       "       [3100, 4800],\n",
       "       [2900, 5200],\n",
       "       [3300, 6400]])"
      ]
     },
     "execution_count": 18,
     "metadata": {},
     "output_type": "execute_result"
    }
   ],
   "source": [
    "A.dot(X)"
   ]
  },
  {
   "cell_type": "markdown",
   "metadata": {},
   "source": [
    "Notice that in our example above, $X \\cdot A$ doesn't even work."
   ]
  },
  {
   "cell_type": "code",
   "execution_count": 19,
   "metadata": {},
   "outputs": [
    {
     "ename": "ValueError",
     "evalue": "shapes (2,2) and (5,2) not aligned: 2 (dim 1) != 5 (dim 0)",
     "output_type": "error",
     "traceback": [
      "\u001b[0;31m---------------------------------------------------------------------------\u001b[0m",
      "\u001b[0;31mValueError\u001b[0m                                Traceback (most recent call last)",
      "\u001b[0;32m<ipython-input-19-081ac7f57203>\u001b[0m in \u001b[0;36m<module>\u001b[0;34m\u001b[0m\n\u001b[0;32m----> 1\u001b[0;31m \u001b[0mX\u001b[0m\u001b[0;34m.\u001b[0m\u001b[0mdot\u001b[0m\u001b[0;34m(\u001b[0m\u001b[0mA\u001b[0m\u001b[0;34m)\u001b[0m\u001b[0;34m\u001b[0m\u001b[0;34m\u001b[0m\u001b[0m\n\u001b[0m",
      "\u001b[0;31mValueError\u001b[0m: shapes (2,2) and (5,2) not aligned: 2 (dim 1) != 5 (dim 0)"
     ]
    }
   ],
   "source": [
    "X.dot(A)"
   ]
  },
  {
   "cell_type": "markdown",
   "metadata": {},
   "source": [
    "2. Matrix Dimensions"
   ]
  },
  {
   "cell_type": "markdown",
   "metadata": {},
   "source": [
    "For matrix-matrix multiplication to work, for us to be able to dot a row with a column, the length of the rows in the first matrix must equal the length of the columns in the second matrix.  Let's see this."
   ]
  },
  {
   "cell_type": "code",
   "execution_count": 20,
   "metadata": {},
   "outputs": [
    {
     "data": {
      "text/plain": [
       "array([[ 200,  800],\n",
       "       [ 500,  600],\n",
       "       [1000,  700],\n",
       "       [2000,  300],\n",
       "       [3000,  100]])"
      ]
     },
     "execution_count": 20,
     "metadata": {},
     "output_type": "execute_result"
    }
   ],
   "source": [
    "A"
   ]
  },
  {
   "cell_type": "code",
   "execution_count": 21,
   "metadata": {},
   "outputs": [
    {
     "data": {
      "text/plain": [
       "array([[1, 2],\n",
       "       [3, 4]])"
      ]
     },
     "execution_count": 21,
     "metadata": {},
     "output_type": "execute_result"
    }
   ],
   "source": [
    "X"
   ]
  },
  {
   "cell_type": "markdown",
   "metadata": {},
   "source": [
    "So we can see that if we multiply $A \\cdot X$, that the rows of the first and the columns of the second are both 2.  However, in $X \\cdot A$, the length of the rows are 2 while the length of the columns are 5.  Let's look at the error message again."
   ]
  },
  {
   "cell_type": "code",
   "execution_count": 22,
   "metadata": {},
   "outputs": [
    {
     "ename": "ValueError",
     "evalue": "shapes (2,2) and (5,2) not aligned: 2 (dim 1) != 5 (dim 0)",
     "output_type": "error",
     "traceback": [
      "\u001b[0;31m---------------------------------------------------------------------------\u001b[0m",
      "\u001b[0;31mValueError\u001b[0m                                Traceback (most recent call last)",
      "\u001b[0;32m<ipython-input-22-081ac7f57203>\u001b[0m in \u001b[0;36m<module>\u001b[0;34m\u001b[0m\n\u001b[0;32m----> 1\u001b[0;31m \u001b[0mX\u001b[0m\u001b[0;34m.\u001b[0m\u001b[0mdot\u001b[0m\u001b[0;34m(\u001b[0m\u001b[0mA\u001b[0m\u001b[0;34m)\u001b[0m\u001b[0;34m\u001b[0m\u001b[0;34m\u001b[0m\u001b[0m\n\u001b[0m",
      "\u001b[0;31mValueError\u001b[0m: shapes (2,2) and (5,2) not aligned: 2 (dim 1) != 5 (dim 0)"
     ]
    }
   ],
   "source": [
    "X.dot(A)"
   ]
  },
  {
   "cell_type": "markdown",
   "metadata": {},
   "source": [
    "We can see that it is telling us there is a mismatch."
   ]
  },
  {
   "cell_type": "markdown",
   "metadata": {},
   "source": [
    "A nice way to check if matrix matrix multiplication can be performed is by looking at the shapes of the matrix.  So for example, we can write our two attempts at multiplication above as:  "
   ]
  },
  {
   "cell_type": "markdown",
   "metadata": {},
   "source": [
    "1. $A_{5 x 2} \\cdot X_{2 x 2}$\n",
    "2. $  X_{2 x 2} \\cdot A_{5 x 2}$"
   ]
  },
  {
   "cell_type": "markdown",
   "metadata": {},
   "source": [
    "Now writing it as the above, we can check if the operation will compile by checking that the inner numbers are equal.  For the operation to work, the inner two numbers must be equal.  So we can see in the first multiplication that this will work as $2 == 2$.  But the second operation does not work, as $2 \\neq 5 $."
   ]
  },
  {
   "cell_type": "code",
   "execution_count": 24,
   "metadata": {},
   "outputs": [
    {
     "ename": "ValueError",
     "evalue": "shapes (2,2) and (5,2) not aligned: 2 (dim 1) != 5 (dim 0)",
     "output_type": "error",
     "traceback": [
      "\u001b[0;31m---------------------------------------------------------------------------\u001b[0m",
      "\u001b[0;31mValueError\u001b[0m                                Traceback (most recent call last)",
      "\u001b[0;32m<ipython-input-24-081ac7f57203>\u001b[0m in \u001b[0;36m<module>\u001b[0;34m\u001b[0m\n\u001b[0;32m----> 1\u001b[0;31m \u001b[0mX\u001b[0m\u001b[0;34m.\u001b[0m\u001b[0mdot\u001b[0m\u001b[0;34m(\u001b[0m\u001b[0mA\u001b[0m\u001b[0;34m)\u001b[0m\u001b[0;34m\u001b[0m\u001b[0;34m\u001b[0m\u001b[0m\n\u001b[0m",
      "\u001b[0;31mValueError\u001b[0m: shapes (2,2) and (5,2) not aligned: 2 (dim 1) != 5 (dim 0)"
     ]
    }
   ],
   "source": [
    "X.dot(A)"
   ]
  },
  {
   "cell_type": "markdown",
   "metadata": {},
   "source": [
    "The second thing we can see from the above is the shape of the resulting matrix.  The rule is that the resulting matrix is the shape of the outer two dimensions.  So our first multiplication $A_{5 x 2} \\cdot X_{2 x 2} = B_{5x2}$."
   ]
  },
  {
   "cell_type": "code",
   "execution_count": 27,
   "metadata": {},
   "outputs": [
    {
     "data": {
      "text/plain": [
       "array([[2600, 3600],\n",
       "       [2300, 3400],\n",
       "       [3100, 4800],\n",
       "       [2900, 5200],\n",
       "       [3300, 6400]])"
      ]
     },
     "execution_count": 27,
     "metadata": {},
     "output_type": "execute_result"
    }
   ],
   "source": [
    "A.dot(X)"
   ]
  },
  {
   "cell_type": "markdown",
   "metadata": {},
   "source": [
    "### Summary"
   ]
  },
  {
   "cell_type": "markdown",
   "metadata": {},
   "source": [
    "In this lesson, we learned about matrix matrix multiplication.  We saw that we can perform matrix-matrix multiplication by multiplying the rows of the first matrix by the columns of the second matrix."
   ]
  },
  {
   "cell_type": "markdown",
   "metadata": {},
   "source": [
    "$$A \\cdot x =  \\begin{pmatrix}\n",
    "    [\\leftarrow a_1 \\rightarrow] \\\\\n",
    "    [\\leftarrow a_2 \\rightarrow] \\\\\n",
    "    [\\leftarrow a_3 \\rightarrow]\\\\\n",
    "    [\\leftarrow a_4 \\rightarrow]\\\\\n",
    "    [\\leftarrow a_5 \\rightarrow]\\\\\n",
    "\\end{pmatrix} \\cdot \\begin{pmatrix}\n",
    "    \\uparrow & \\uparrow  \\\\ x_1 & x_2 \\\\ \\downarrow  & \\downarrow \\end{pmatrix} =  \\begin{pmatrix} a_1 \\cdot x_1 & a_1 \\cdot x_2 \\\\ a_2 \\cdot x_1 & a_2 \\cdot x_2 \\\\ a_3 \\cdot x_1 & a_3 \\cdot x_2 \\\\ a_4 \\cdot x_1 & a_4 \\cdot x_2 \\\\ a_5 \\cdot x_1 & a_5 \\cdot x_2  \\end{pmatrix}$$"
   ]
  },
  {
   "cell_type": "markdown",
   "metadata": {},
   "source": [
    "We also saw implications of this.  The first implication is that $A \\cdot X \\neq X \\cdot A$.  The second is that the dimensions of our two matrices are important.  We can denote the dimensions of our matrices with something like the following:"
   ]
  },
  {
   "cell_type": "markdown",
   "metadata": {},
   "source": [
    "$A_{5 x 2} \\cdot X_{2 x 2}$"
   ]
  },
  {
   "cell_type": "markdown",
   "metadata": {},
   "source": [
    "The inner two dimensions must be equal for matrix matrix multiplication to work.  And the resulting matrix will be of the shape of the outer two dimensions.  So in the example above the resulting matrix B will be $B_{5x2}$."
   ]
  }
 ],
 "metadata": {
  "kernelspec": {
   "display_name": "Python 3",
   "language": "python",
   "name": "python3"
  },
  "language_info": {
   "codemirror_mode": {
    "name": "ipython",
    "version": 3
   },
   "file_extension": ".py",
   "mimetype": "text/x-python",
   "name": "python",
   "nbconvert_exporter": "python",
   "pygments_lexer": "ipython3",
   "version": "3.7.4"
  }
 },
 "nbformat": 4,
 "nbformat_minor": 4
}
