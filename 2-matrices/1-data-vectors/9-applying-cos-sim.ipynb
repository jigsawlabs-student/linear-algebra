{
 "cells": [
  {
   "cell_type": "markdown",
   "metadata": {},
   "source": [
    "### Cosine Similarity Lab"
   ]
  },
  {
   "cell_type": "markdown",
   "metadata": {},
   "source": [
    "### Introduction"
   ]
  },
  {
   "cell_type": "markdown",
   "metadata": {},
   "source": [
    "### Loading our data"
   ]
  },
  {
   "cell_type": "markdown",
   "metadata": {},
   "source": [
    "Let's begin by loading our data."
   ]
  },
  {
   "cell_type": "code",
   "execution_count": 1,
   "metadata": {},
   "outputs": [],
   "source": [
    "import pandas as pd\n",
    "url = \"https://raw.githubusercontent.com/jigsawlabs-student/linear-algebra/master/2-matrices/1-data-vectors/coconut_water.csv\"\n",
    "df = pd.read_csv(url, index_col = 0)"
   ]
  },
  {
   "cell_type": "code",
   "execution_count": 2,
   "metadata": {},
   "outputs": [
    {
     "data": {
      "text/html": [
       "<div>\n",
       "<style scoped>\n",
       "    .dataframe tbody tr th:only-of-type {\n",
       "        vertical-align: middle;\n",
       "    }\n",
       "\n",
       "    .dataframe tbody tr th {\n",
       "        vertical-align: top;\n",
       "    }\n",
       "\n",
       "    .dataframe thead th {\n",
       "        text-align: right;\n",
       "    }\n",
       "</style>\n",
       "<table border=\"1\" class=\"dataframe\">\n",
       "  <thead>\n",
       "    <tr style=\"text-align: right;\">\n",
       "      <th></th>\n",
       "      <th>Id</th>\n",
       "      <th>ProductId</th>\n",
       "      <th>UserId</th>\n",
       "      <th>ProfileName</th>\n",
       "      <th>HelpfulnessNumerator</th>\n",
       "      <th>HelpfulnessDenominator</th>\n",
       "      <th>Score</th>\n",
       "      <th>Time</th>\n",
       "      <th>Summary</th>\n",
       "      <th>Text</th>\n",
       "    </tr>\n",
       "  </thead>\n",
       "  <tbody>\n",
       "    <tr>\n",
       "      <th>47836</th>\n",
       "      <td>47837</td>\n",
       "      <td>B004SRH2B6</td>\n",
       "      <td>AKACGHPVILE9R</td>\n",
       "      <td>Sophronia \"Euphemia\"</td>\n",
       "      <td>1</td>\n",
       "      <td>1</td>\n",
       "      <td>1</td>\n",
       "      <td>1314144000</td>\n",
       "      <td>Switched to O.N.E.</td>\n",
       "      <td>Must admit the taste of O.N.E. coconut water i...</td>\n",
       "    </tr>\n",
       "    <tr>\n",
       "      <th>47837</th>\n",
       "      <td>47838</td>\n",
       "      <td>B004SRH2B6</td>\n",
       "      <td>A2GO0AIHB846UX</td>\n",
       "      <td>vinny</td>\n",
       "      <td>1</td>\n",
       "      <td>1</td>\n",
       "      <td>5</td>\n",
       "      <td>1313884800</td>\n",
       "      <td>WOW!!</td>\n",
       "      <td>I love this stuff!  Perfect blend of dark choc...</td>\n",
       "    </tr>\n",
       "    <tr>\n",
       "      <th>47838</th>\n",
       "      <td>47839</td>\n",
       "      <td>B004SRH2B6</td>\n",
       "      <td>AI1U3M3GW9X2W</td>\n",
       "      <td>Reformed Puritan</td>\n",
       "      <td>1</td>\n",
       "      <td>1</td>\n",
       "      <td>3</td>\n",
       "      <td>1311379200</td>\n",
       "      <td>It was a good deal but not likely to buy again</td>\n",
       "      <td>I am from the Philippines, a country where the...</td>\n",
       "    </tr>\n",
       "  </tbody>\n",
       "</table>\n",
       "</div>"
      ],
      "text/plain": [
       "          Id   ProductId          UserId           ProfileName  \\\n",
       "47836  47837  B004SRH2B6   AKACGHPVILE9R  Sophronia \"Euphemia\"   \n",
       "47837  47838  B004SRH2B6  A2GO0AIHB846UX                 vinny   \n",
       "47838  47839  B004SRH2B6   AI1U3M3GW9X2W      Reformed Puritan   \n",
       "\n",
       "       HelpfulnessNumerator  HelpfulnessDenominator  Score        Time  \\\n",
       "47836                     1                       1      1  1314144000   \n",
       "47837                     1                       1      5  1313884800   \n",
       "47838                     1                       1      3  1311379200   \n",
       "\n",
       "                                              Summary  \\\n",
       "47836                              Switched to O.N.E.   \n",
       "47837                                           WOW!!   \n",
       "47838  It was a good deal but not likely to buy again   \n",
       "\n",
       "                                                    Text  \n",
       "47836  Must admit the taste of O.N.E. coconut water i...  \n",
       "47837  I love this stuff!  Perfect blend of dark choc...  \n",
       "47838  I am from the Philippines, a country where the...  "
      ]
     },
     "execution_count": 2,
     "metadata": {},
     "output_type": "execute_result"
    }
   ],
   "source": [
    "df[:3]"
   ]
  },
  {
   "cell_type": "markdown",
   "metadata": {},
   "source": [
    "Let's assign documents to equal the Text column."
   ]
  },
  {
   "cell_type": "code",
   "execution_count": 8,
   "metadata": {},
   "outputs": [],
   "source": [
    "documents = None"
   ]
  },
  {
   "cell_type": "markdown",
   "metadata": {},
   "source": [
    "### Defining our function"
   ]
  },
  {
   "cell_type": "markdown",
   "metadata": {},
   "source": [
    "Now we'll want to use cosine similarity to hopefully find how close a review is to another review.  To start, we'll need to take our reviews and represent them as a vector.  Let's use TF-IDF to do so."
   ]
  },
  {
   "cell_type": "markdown",
   "metadata": {},
   "source": [
    "> Initialize TF-IDF vectorizer using stop words from sklearn."
   ]
  },
  {
   "cell_type": "code",
   "execution_count": 131,
   "metadata": {},
   "outputs": [],
   "source": [
    "\n",
    "\n",
    "tf = None"
   ]
  },
  {
   "cell_type": "markdown",
   "metadata": {},
   "source": [
    "> Call `fit_transform` on the documents to translate our text into vectors."
   ]
  },
  {
   "cell_type": "code",
   "execution_count": 133,
   "metadata": {},
   "outputs": [],
   "source": [
    "documents_tf = None"
   ]
  },
  {
   "cell_type": "code",
   "execution_count": 132,
   "metadata": {},
   "outputs": [
    {
     "data": {
      "text/plain": [
       "array([[0., 0., 0., ..., 0., 0., 0.],\n",
       "       [0., 0., 0., ..., 0., 0., 0.]])"
      ]
     },
     "execution_count": 132,
     "metadata": {},
     "output_type": "execute_result"
    }
   ],
   "source": [
    "documents_tf.toarray()[:2]\n",
    "\n",
    "# array([[0., 0., 0., ..., 0., 0., 0.],\n",
    "#        [0., 0., 0., ..., 0., 0., 0.]])"
   ]
  },
  {
   "cell_type": "markdown",
   "metadata": {},
   "source": [
    "### Selecting a document"
   ]
  },
  {
   "cell_type": "markdown",
   "metadata": {},
   "source": [
    "Let's select our fifth review as our document, and assign it to `vec_1`."
   ]
  },
  {
   "cell_type": "markdown",
   "metadata": {},
   "source": [
    "> The is what the text of the fifth document looks like."
   ]
  },
  {
   "cell_type": "code",
   "execution_count": 136,
   "metadata": {},
   "outputs": [
    {
     "data": {
      "text/plain": [
       "\"I've tried several different coconut waters and the ZICO tastes the best to me. Use this in my smoothies daily. I was getting this product in the smaller tetra pak, but after opening the package you couldn't shake it up without spilling it. This works much better and I've taken as long as a week to use the 33.8 size with no degradation in taste.\""
      ]
     },
     "execution_count": 136,
     "metadata": {},
     "output_type": "execute_result"
    }
   ],
   "source": [
    "vec_1 = None\n",
    "\n",
    "vec_1"
   ]
  },
  {
   "cell_type": "markdown",
   "metadata": {},
   "source": [
    "And let's select the corresponding array."
   ]
  },
  {
   "cell_type": "code",
   "execution_count": 119,
   "metadata": {},
   "outputs": [
    {
     "data": {
      "text/plain": [
       "array([[0., 0., 0., ..., 0., 0., 0.]])"
      ]
     },
     "execution_count": 119,
     "metadata": {},
     "output_type": "execute_result"
    }
   ],
   "source": [
    "vec_1 = None\n",
    "vec_1"
   ]
  },
  {
   "cell_type": "markdown",
   "metadata": {},
   "source": [
    "Now it's time to write a `cosine_similarity` function that returns the cosine of the angle between the two vectors.  If the angle between the two vectors is perpendicular, meaning there are no words in common, then the score will be zero.  If they are precisely the same, the similarity will be 1."
   ]
  },
  {
   "cell_type": "markdown",
   "metadata": {},
   "source": [
    "> We can check the cosine similarity of the fifth vector and the first vector."
   ]
  },
  {
   "cell_type": "code",
   "execution_count": 144,
   "metadata": {},
   "outputs": [],
   "source": [
    "from numpy.linalg import norm\n",
    "\n",
    "def cosine_similarity(vec_1, vec_2):\n",
    "    pass"
   ]
  },
  {
   "cell_type": "code",
   "execution_count": 145,
   "metadata": {},
   "outputs": [
    {
     "data": {
      "text/plain": [
       "0.09825817619059271"
      ]
     },
     "execution_count": 145,
     "metadata": {},
     "output_type": "execute_result"
    }
   ],
   "source": [
    "cosine_similarity(vec_1, documents_tf.toarray()[0])\n",
    "# 0.09825817619059271"
   ]
  },
  {
   "cell_type": "markdown",
   "metadata": {},
   "source": [
    "Now that we've calculate the cosine similarity with one document, calculate it with all of in our dataset, this way we can rank of set of reviews by the cosine similarity.\n",
    "\n",
    "Assign the resulting list to the variable `cos_scores`."
   ]
  },
  {
   "cell_type": "code",
   "execution_count": 122,
   "metadata": {},
   "outputs": [],
   "source": [
    "cos_scores = None\n",
    "\n"
   ]
  },
  {
   "cell_type": "code",
   "execution_count": null,
   "metadata": {},
   "outputs": [],
   "source": [
    "cos_scores\n",
    "# [0.09825817619059271,\n",
    "#  0.013203889132930335,\n",
    "#  0.024819188185239132,\n",
    "#  0.09746078650484026,\n",
    "#  1.0000000000000002]"
   ]
  },
  {
   "cell_type": "markdown",
   "metadata": {},
   "source": [
    "Now let's add these scores to our original pandas dataframe."
   ]
  },
  {
   "cell_type": "code",
   "execution_count": 147,
   "metadata": {},
   "outputs": [],
   "source": [
    "ranked_df = None"
   ]
  },
  {
   "cell_type": "code",
   "execution_count": 148,
   "metadata": {},
   "outputs": [
    {
     "data": {
      "text/html": [
       "<div>\n",
       "<style scoped>\n",
       "    .dataframe tbody tr th:only-of-type {\n",
       "        vertical-align: middle;\n",
       "    }\n",
       "\n",
       "    .dataframe tbody tr th {\n",
       "        vertical-align: top;\n",
       "    }\n",
       "\n",
       "    .dataframe thead th {\n",
       "        text-align: right;\n",
       "    }\n",
       "</style>\n",
       "<table border=\"1\" class=\"dataframe\">\n",
       "  <thead>\n",
       "    <tr style=\"text-align: right;\">\n",
       "      <th></th>\n",
       "      <th>Id</th>\n",
       "      <th>ProductId</th>\n",
       "      <th>UserId</th>\n",
       "      <th>ProfileName</th>\n",
       "      <th>HelpfulnessNumerator</th>\n",
       "      <th>HelpfulnessDenominator</th>\n",
       "      <th>Score</th>\n",
       "      <th>Time</th>\n",
       "      <th>Summary</th>\n",
       "      <th>Text</th>\n",
       "      <th>cos_score</th>\n",
       "    </tr>\n",
       "  </thead>\n",
       "  <tbody>\n",
       "    <tr>\n",
       "      <th>47836</th>\n",
       "      <td>47837</td>\n",
       "      <td>B004SRH2B6</td>\n",
       "      <td>AKACGHPVILE9R</td>\n",
       "      <td>Sophronia \"Euphemia\"</td>\n",
       "      <td>1</td>\n",
       "      <td>1</td>\n",
       "      <td>1</td>\n",
       "      <td>1314144000</td>\n",
       "      <td>Switched to O.N.E.</td>\n",
       "      <td>Must admit the taste of O.N.E. coconut water i...</td>\n",
       "      <td>0.098258</td>\n",
       "    </tr>\n",
       "    <tr>\n",
       "      <th>47837</th>\n",
       "      <td>47838</td>\n",
       "      <td>B004SRH2B6</td>\n",
       "      <td>A2GO0AIHB846UX</td>\n",
       "      <td>vinny</td>\n",
       "      <td>1</td>\n",
       "      <td>1</td>\n",
       "      <td>5</td>\n",
       "      <td>1313884800</td>\n",
       "      <td>WOW!!</td>\n",
       "      <td>I love this stuff!  Perfect blend of dark choc...</td>\n",
       "      <td>0.013204</td>\n",
       "    </tr>\n",
       "  </tbody>\n",
       "</table>\n",
       "</div>"
      ],
      "text/plain": [
       "          Id   ProductId          UserId           ProfileName  \\\n",
       "47836  47837  B004SRH2B6   AKACGHPVILE9R  Sophronia \"Euphemia\"   \n",
       "47837  47838  B004SRH2B6  A2GO0AIHB846UX                 vinny   \n",
       "\n",
       "       HelpfulnessNumerator  HelpfulnessDenominator  Score        Time  \\\n",
       "47836                     1                       1      1  1314144000   \n",
       "47837                     1                       1      5  1313884800   \n",
       "\n",
       "                  Summary                                               Text  \\\n",
       "47836  Switched to O.N.E.  Must admit the taste of O.N.E. coconut water i...   \n",
       "47837               WOW!!  I love this stuff!  Perfect blend of dark choc...   \n",
       "\n",
       "       cos_score  \n",
       "47836   0.098258  \n",
       "47837   0.013204  "
      ]
     },
     "execution_count": 148,
     "metadata": {},
     "output_type": "execute_result"
    }
   ],
   "source": [
    "ranked_df[:2]\n",
    "\n",
    "\n",
    "# Id\tProductId\tUserId\tProfileName\tHelpfulnessNumerator\tHelpfulnessDenominator\tScore\tTime\tSummary\tText\tcos_score\n",
    "# 47836\t47837\tB004SRH2B6\tAKACGHPVILE9R\tSophronia \"Euphemia\"\t1\t1\t1\t1314144000\tSwitched to O.N.E.\tMust admit the taste of O.N.E. coconut water i...\t0.098258\n",
    "# 47837\t47838\tB004SRH2B6\tA2GO0AIHB846UX\tvinny\t1\t1\t5\t1313884800\tWOW!!\tI love this stuff! Perfect blend of dark choc...\t0.013204"
   ]
  },
  {
   "cell_type": "markdown",
   "metadata": {},
   "source": [
    "And from there we can sort our rows by the cosine score."
   ]
  },
  {
   "cell_type": "code",
   "execution_count": 150,
   "metadata": {},
   "outputs": [],
   "source": [
    "sorted_df = None"
   ]
  },
  {
   "cell_type": "code",
   "execution_count": 152,
   "metadata": {},
   "outputs": [
    {
     "data": {
      "text/plain": [
       "47840    I've tried several different coconut waters an...\n",
       "48255    I've tried many cocunt waters (Vita Coco, O.N....\n",
       "48038    This stuff is amazing.  Somewhat healthy and t...\n",
       "Name: Text, dtype: object"
      ]
     },
     "execution_count": 152,
     "metadata": {},
     "output_type": "execute_result"
    }
   ],
   "source": [
    "sorted_df.Text[:3]\n",
    "\n",
    "# 47840    I've tried several different coconut waters an...\n",
    "# 48255    I've tried many cocunt waters (Vita Coco, O.N....\n",
    "# 48038    This stuff is amazing.  Somewhat healthy and t...\n",
    "# Name: Text, dtype: object"
   ]
  },
  {
   "cell_type": "markdown",
   "metadata": {},
   "source": [
    "The top ranked document is our original document."
   ]
  },
  {
   "cell_type": "code",
   "execution_count": 154,
   "metadata": {},
   "outputs": [
    {
     "data": {
      "text/plain": [
       "1.0000000000000002"
      ]
     },
     "execution_count": 154,
     "metadata": {},
     "output_type": "execute_result"
    }
   ],
   "source": [
    "sorted_df['cos_score'].iloc[0]"
   ]
  },
  {
   "cell_type": "code",
   "execution_count": 155,
   "metadata": {},
   "outputs": [
    {
     "data": {
      "text/plain": [
       "\"I've tried several different coconut waters and the ZICO tastes the best to me. Use this in my smoothies daily. I was getting this product in the smaller tetra pak, but after opening the package you couldn't shake it up without spilling it. This works much better and I've taken as long as a week to use the 33.8 size with no degradation in taste.\""
      ]
     },
     "execution_count": 155,
     "metadata": {},
     "output_type": "execute_result"
    }
   ],
   "source": [
    "sorted_df['Text'].iloc[0]"
   ]
  },
  {
   "cell_type": "markdown",
   "metadata": {},
   "source": [
    "Let's see how our document lines up to some of the other top ranked documents."
   ]
  },
  {
   "cell_type": "code",
   "execution_count": 156,
   "metadata": {},
   "outputs": [
    {
     "data": {
      "text/plain": [
       "\"I've tried many cocunt waters (Vita Coco, O.N.E., Goya, etc), and I find this to be the cleanest, most refreshing taste (especially when chilled).  Apparently ZICO uses different combinations of coconuts depending on the size of the packaging.  I can't speak for the other sizes, but the 33.8 oz is delicious!\""
      ]
     },
     "execution_count": 156,
     "metadata": {},
     "output_type": "execute_result"
    }
   ],
   "source": [
    "sorted_df.iloc[1].Text"
   ]
  },
  {
   "cell_type": "code",
   "execution_count": 157,
   "metadata": {},
   "outputs": [
    {
     "data": {
      "text/plain": [
       "'This stuff is amazing.  Somewhat healthy and tastes like a chocolate shake.  Recommend buying if you like coconut.  Shake it up good, though.'"
      ]
     },
     "execution_count": 157,
     "metadata": {},
     "output_type": "execute_result"
    }
   ],
   "source": [
    "sorted_df.iloc[2].Text"
   ]
  },
  {
   "cell_type": "markdown",
   "metadata": {},
   "source": [
    "We can begin to see the similarity!  It appears to have worked!"
   ]
  },
  {
   "cell_type": "markdown",
   "metadata": {},
   "source": [
    "### Summary"
   ]
  },
  {
   "cell_type": "markdown",
   "metadata": {},
   "source": [
    "In this lesson, we saw how cosine similarity can allow us to compare documents by representing the word importance of different document vectors (through tf-idf), and then calculating the cosine similarity of our sets of documents.  \n",
    "\n",
    "The formula for cosine similarity is:"
   ]
  },
  {
   "cell_type": "markdown",
   "metadata": {},
   "source": [
    "$\\frac{a^T}{|a|} \\cdot \\frac{b}{|b|} = cos(\\theta)$ "
   ]
  },
  {
   "cell_type": "markdown",
   "metadata": {},
   "source": [
    "And allows us to use the dot product to calculate the cosine of the angle between vectors."
   ]
  },
  {
   "cell_type": "code",
   "execution_count": null,
   "metadata": {},
   "outputs": [],
   "source": []
  }
 ],
 "metadata": {
  "kernelspec": {
   "display_name": "Python 3",
   "language": "python",
   "name": "python3"
  },
  "language_info": {
   "codemirror_mode": {
    "name": "ipython",
    "version": 3
   },
   "file_extension": ".py",
   "mimetype": "text/x-python",
   "name": "python",
   "nbconvert_exporter": "python",
   "pygments_lexer": "ipython3",
   "version": "3.7.4"
  }
 },
 "nbformat": 4,
 "nbformat_minor": 4
}
