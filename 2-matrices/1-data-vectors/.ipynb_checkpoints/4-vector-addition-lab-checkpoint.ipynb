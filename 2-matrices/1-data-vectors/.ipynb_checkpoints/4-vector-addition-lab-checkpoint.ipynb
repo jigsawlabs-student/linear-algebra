{
 "cells": [
  {
   "cell_type": "markdown",
   "metadata": {},
   "source": [
    "### Introduction"
   ]
  },
  {
   "cell_type": "code",
   "execution_count": 1,
   "metadata": {},
   "outputs": [],
   "source": [
    "import requests\n",
    "response = requests.get('https://data.texas.gov/resource/naix-2893.json?location_address=2411%20GLENNA%20GOODACRE%20BLVD')\n",
    "results = response.json()"
   ]
  },
  {
   "cell_type": "code",
   "execution_count": 6,
   "metadata": {},
   "outputs": [],
   "source": [
    "import pandas as pd\n",
    "\n",
    "results_df = pd.DataFrame(results)"
   ]
  },
  {
   "cell_type": "code",
   "execution_count": 27,
   "metadata": {},
   "outputs": [],
   "source": [
    "# results_df.to_csv('./beer.csv')"
   ]
  },
  {
   "cell_type": "code",
   "execution_count": 7,
   "metadata": {},
   "outputs": [],
   "source": [
    "top_three = results_df[0:3]"
   ]
  },
  {
   "cell_type": "code",
   "execution_count": 8,
   "metadata": {},
   "outputs": [
    {
     "data": {
      "text/plain": [
       "Index(['taxpayer_number', 'taxpayer_name', 'taxpayer_address', 'taxpayer_city',\n",
       "       'taxpayer_state', 'taxpayer_zip', 'taxpayer_county', 'location_number',\n",
       "       'location_name', 'location_address', 'location_city', 'location_state',\n",
       "       'location_zip', 'location_county',\n",
       "       'inside_outside_city_limits_code_y_n', 'tabc_permit_number',\n",
       "       'responsibility_begin_date_yyyymmdd', 'obligation_end_date_yyyymmdd',\n",
       "       'liquor_receipts', 'wine_receipts', 'beer_receipts',\n",
       "       'cover_charge_receipts', 'total_receipts'],\n",
       "      dtype='object')"
      ]
     },
     "execution_count": 8,
     "metadata": {},
     "output_type": "execute_result"
    }
   ],
   "source": [
    "top_three.columns"
   ]
  },
  {
   "cell_type": "code",
   "execution_count": 9,
   "metadata": {},
   "outputs": [],
   "source": [
    "beer_and_liquor_df = results_df[['beer_receipts', 'liquor_receipts', 'total_receipts']].apply(pd.to_numeric)"
   ]
  },
  {
   "cell_type": "code",
   "execution_count": 10,
   "metadata": {},
   "outputs": [],
   "source": [
    "beer_receipts = beer_and_liquor_df['beer_receipts'].to_numpy()"
   ]
  },
  {
   "cell_type": "code",
   "execution_count": 11,
   "metadata": {},
   "outputs": [
    {
     "data": {
      "text/plain": [
       "array([  8,   0,  46,  99, 110,  71, 128, 182, 114, 133, 148, 538, 650,\n",
       "       381, 367, 153, 497, 308, 187, 517, 394, 455, 381, 162,  97, 442,\n",
       "       409, 429, 251,  92,   0,  93, 530, 208, 103, 559, 119, 158, 615,\n",
       "       342, 135, 527, 297, 211, 187, 387, 194, 590, 535, 115, 378,  88,\n",
       "       394, 204, 165, 378, 160, 208, 410, 244, 310, 158, 147, 129, 584,\n",
       "       187, 337, 777, 266, 516, 205, 160, 498, 128, 235, 434, 218, 323,\n",
       "       398, 249, 196, 460, 142, 407, 515,   0, 278, 385, 396, 149, 313,\n",
       "       143, 114, 508, 472, 346, 292, 115, 149, 251, 256, 175, 527,   0,\n",
       "       354,  86, 643, 171, 135, 438, 185, 115, 267, 504, 315])"
      ]
     },
     "execution_count": 11,
     "metadata": {},
     "output_type": "execute_result"
    }
   ],
   "source": [
    "beer_receipts\n",
    "\n",
    "# array([  8,   0,  46,  99, 110,  71, 128, 182, 114, 133, 148, 538, 650,\n",
    "#        381, 367, 153, 497, 308, 187, 517, 394, 455, 381, 162,  97, 442,\n",
    "#        409, 429, 251,  92,   0,  93, 530, 208, 103, 559, 119, 158, 615,\n",
    "#        342, 135, 527, 297, 211, 187, 387, 194, 590, 535, 115, 378,  88,\n",
    "#        394, 204, 165, 378, 160, 208, 410, 244, 310, 158, 147, 129, 584,\n",
    "#        187, 337, 777, 266, 516, 205, 160, 498, 128, 235, 434, 218, 323,\n",
    "#        398, 249, 196, 460, 142, 407, 515,   0, 278, 385, 396, 149, 313,\n",
    "#        143, 114, 508, 472, 346, 292, 115, 149, 251, 256, 175, 527,   0,\n",
    "#        354,  86, 643, 171, 135, 438, 185, 115, 267, 504, 315])"
   ]
  },
  {
   "cell_type": "code",
   "execution_count": 12,
   "metadata": {},
   "outputs": [],
   "source": [
    "liquor_receipts = beer_and_liquor_df['liquor_receipts'].to_numpy()"
   ]
  },
  {
   "cell_type": "code",
   "execution_count": 13,
   "metadata": {},
   "outputs": [
    {
     "data": {
      "text/plain": [
       "array([  0,   0,  55,  52,  52,  57, 133,  26,  40, 104, 144, 327, 340,\n",
       "       486, 383, 116, 180, 144, 172, 935, 662, 185, 602, 147,  78, 787,\n",
       "       560, 682, 161, 151,   0,  59, 288, 147,  69, 275, 132, 116, 315,\n",
       "       531,  54, 234, 334,  78, 161, 149,  76, 815, 302,  76, 357, 121,\n",
       "       185,  95, 329, 631, 139, 204, 319, 178, 144,  78, 128, 183, 342,\n",
       "       249, 167, 514, 349, 319, 380, 163, 937, 118, 251, 252, 168, 189,\n",
       "       445, 280, 241, 189,  75, 761, 615,   0,  27, 482, 488, 159, 656,\n",
       "       111,  76, 248, 167,  81, 334, 137, 114, 297, 213, 175, 252,   0,\n",
       "       480, 133, 302, 149, 102, 409, 185,  31, 166, 261, 595])"
      ]
     },
     "execution_count": 13,
     "metadata": {},
     "output_type": "execute_result"
    }
   ],
   "source": [
    "liquor_receipts\n",
    "\n",
    "# array([  0,   0,  55,  52,  52,  57, 133,  26,  40, 104, 144, 327, 340,\n",
    "#        486, 383, 116, 180, 144, 172, 935, 662, 185, 602, 147,  78, 787,\n",
    "#        560, 682, 161, 151,   0,  59, 288, 147,  69, 275, 132, 116, 315,\n",
    "#        531,  54, 234, 334,  78, 161, 149,  76, 815, 302,  76, 357, 121,\n",
    "#        185,  95, 329, 631, 139, 204, 319, 178, 144,  78, 128, 183, 342,\n",
    "#        249, 167, 514, 349, 319, 380, 163, 937, 118, 251, 252, 168, 189,\n",
    "#        445, 280, 241, 189,  75, 761, 615,   0,  27, 482, 488, 159, 656,\n",
    "#        111,  76, 248, 167,  81, 334, 137, 114, 297, 213, 175, 252,   0,\n",
    "#        480, 133, 302, 149, 102, 409, 185,  31, 166, 261, 595])"
   ]
  },
  {
   "cell_type": "code",
   "execution_count": 14,
   "metadata": {},
   "outputs": [],
   "source": [
    "total_reciepts = beer_and_liquor_df['total_receipts'].to_numpy()"
   ]
  },
  {
   "cell_type": "markdown",
   "metadata": {},
   "source": [
    "### Working with Vectors in Numpy"
   ]
  },
  {
   "cell_type": "markdown",
   "metadata": {},
   "source": [
    "First, let's use our knowledge of numpy and vectors to select specific data."
   ]
  },
  {
   "cell_type": "markdown",
   "metadata": {},
   "source": [
    "Start by selecting the first three entries for liquor receipts."
   ]
  },
  {
   "cell_type": "code",
   "execution_count": 15,
   "metadata": {},
   "outputs": [
    {
     "data": {
      "text/plain": [
       "array([ 0,  0, 55])"
      ]
     },
     "execution_count": 15,
     "metadata": {},
     "output_type": "execute_result"
    }
   ],
   "source": [
    "selected_liquor = liquor_receipts[:3] \n",
    "selected_liquor\n",
    "# array([ 0,  0, 55])"
   ]
  },
  {
   "cell_type": "markdown",
   "metadata": {},
   "source": [
    "Select the first three entries for beer reciepts."
   ]
  },
  {
   "cell_type": "code",
   "execution_count": 20,
   "metadata": {},
   "outputs": [],
   "source": [
    "selected_beer = beer_receipts[:3]\n",
    "# selected_beer\n",
    "# array([ 8,  0, 46])\n"
   ]
  },
  {
   "cell_type": "markdown",
   "metadata": {},
   "source": [
    "### Adding Vectors"
   ]
  },
  {
   "cell_type": "markdown",
   "metadata": {},
   "source": [
    "We would like to add up the beer and liquor receipts for this chipotle location.  "
   ]
  },
  {
   "cell_type": "markdown",
   "metadata": {},
   "source": [
    "Calculated the combined receipts for the first three entries of liquor and beer."
   ]
  },
  {
   "cell_type": "code",
   "execution_count": 23,
   "metadata": {},
   "outputs": [
    {
     "data": {
      "text/plain": [
       "array([  8,   0, 101])"
      ]
     },
     "execution_count": 23,
     "metadata": {},
     "output_type": "execute_result"
    }
   ],
   "source": [
    "combined_receipts = selected_liquor + selected_beer\n",
    "combined_receipts\n",
    "# array([  8,   0, 101])"
   ]
  },
  {
   "cell_type": "markdown",
   "metadata": {},
   "source": [
    "We can confirm that it this combination also equals the total receipts for the first three entries."
   ]
  },
  {
   "cell_type": "code",
   "execution_count": 24,
   "metadata": {},
   "outputs": [
    {
     "data": {
      "text/plain": [
       "array([  8,   0, 101])"
      ]
     },
     "execution_count": 24,
     "metadata": {},
     "output_type": "execute_result"
    }
   ],
   "source": [
    "total_reciepts[:3]"
   ]
  },
  {
   "cell_type": "markdown",
   "metadata": {},
   "source": [
    "Finally, use vector operations to calculate the difference between beer receipts and liquor receipts each month."
   ]
  },
  {
   "cell_type": "code",
   "execution_count": 25,
   "metadata": {},
   "outputs": [
    {
     "data": {
      "text/plain": [
       "array([   8,    0,   -9,   47,   58,   14,   -5,  156,   74,   29,    4,\n",
       "        211,  310, -105,  -16,   37,  317,  164,   15, -418, -268,  270,\n",
       "       -221,   15,   19, -345, -151, -253,   90,  -59,    0,   34,  242,\n",
       "         61,   34,  284,  -13,   42,  300, -189,   81,  293,  -37,  133,\n",
       "         26,  238,  118, -225,  233,   39,   21,  -33,  209,  109, -164,\n",
       "       -253,   21,    4,   91,   66,  166,   80,   19,  -54,  242,  -62,\n",
       "        170,  263,  -83,  197, -175,   -3, -439,   10,  -16,  182,   50,\n",
       "        134,  -47,  -31,  -45,  271,   67, -354, -100,    0,  251,  -97,\n",
       "        -92,  -10, -343,   32,   38,  260,  305,  265,  -42,  -22,   35,\n",
       "        -46,   43,    0,  275,    0, -126,  -47,  341,   22,   33,   29,\n",
       "          0,   84,  101,  243, -280])"
      ]
     },
     "execution_count": 25,
     "metadata": {},
     "output_type": "execute_result"
    }
   ],
   "source": [
    "difference_of_beer_and_liquor = beer_receipts - liquor_receipts\n",
    "difference_of_beer_and_liquor\n",
    "# array([   8,    0,   -9,   47,   58,   14,   -5,  156,   74,   29,    4,\n",
    "#         211,  310, -105,  -16,   37,  317,  164,   15, -418, -268,  270,\n",
    "#        -221,   15,   19, -345, -151, -253,   90,  -59,    0,   34,  242,\n",
    "#          61,   34,  284,  -13,   42,  300, -189,   81,  293,  -37,  133,\n",
    "#          26,  238,  118, -225,  233,   39,   21,  -33,  209,  109, -164,\n",
    "#        -253,   21,    4,   91,   66,  166,   80,   19,  -54,  242,  -62,\n",
    "#         170,  263,  -83,  197, -175,   -3, -439,   10,  -16,  182,   50,\n",
    "#         134,  -47,  -31,  -45,  271,   67, -354, -100,    0,  251,  -97,\n",
    "#         -92,  -10, -343,   32,   38,  260,  305,  265,  -42,  -22,   35,\n",
    "#         -46,   43,    0,  275,    0, -126,  -47,  341,   22,   33,   29,\n",
    "#           0,   84,  101,  243, -280])"
   ]
  },
  {
   "cell_type": "markdown",
   "metadata": {},
   "source": [
    "Now let's imagine that the tax is .1 of all of the beer receipts and .2 of all of the liquor receipts.  Calculate the total tax for each month."
   ]
  },
  {
   "cell_type": "code",
   "execution_count": 26,
   "metadata": {},
   "outputs": [
    {
     "data": {
      "text/plain": [
       "array([  0.8,   0. ,  15.6,  20.3,  21.4,  18.5,  39.4,  23.4,  19.4,\n",
       "        34.1,  43.6, 119.2, 133. , 135.3, 113.3,  38.5,  85.7,  59.6,\n",
       "        53.1, 238.7, 171.8,  82.5, 158.5,  45.6,  25.3, 201.6, 152.9,\n",
       "       179.3,  57.3,  39.4,   0. ,  21.1, 110.6,  50.2,  24.1, 110.9,\n",
       "        38.3,  39. , 124.5, 140.4,  24.3,  99.5,  96.5,  36.7,  50.9,\n",
       "        68.5,  34.6, 222. , 113.9,  26.7, 109.2,  33. ,  76.4,  39.4,\n",
       "        82.3, 164. ,  43.8,  61.6, 104.8,  60. ,  59.8,  31.4,  40.3,\n",
       "        49.5, 126.8,  68.5,  67.1, 180.5,  96.4, 115.4,  96.5,  48.6,\n",
       "       237.2,  36.4,  73.7,  93.8,  55.4,  70.1, 128.8,  80.9,  67.8,\n",
       "        83.8,  29.2, 192.9, 174.5,   0. ,  33.2, 134.9, 137.2,  46.7,\n",
       "       162.5,  36.5,  26.6, 100.4,  80.6,  50.8,  96. ,  38.9,  37.7,\n",
       "        84.5,  68.2,  52.5, 103.1,   0. , 131.4,  35.2, 124.7,  46.9,\n",
       "        33.9, 125.6,  55.5,  17.7,  59.9, 102.6, 150.5])"
      ]
     },
     "execution_count": 26,
     "metadata": {},
     "output_type": "execute_result"
    }
   ],
   "source": [
    ".1*beer_receipts + .2*liquor_receipts\n",
    "\n",
    "# array([  0.8,   0. ,  15.6,  20.3,  21.4,  18.5,  39.4,  23.4,  19.4,\n",
    "#         34.1,  43.6, 119.2, 133. , 135.3, 113.3,  38.5,  85.7,  59.6,\n",
    "#         53.1, 238.7, 171.8,  82.5, 158.5,  45.6,  25.3, 201.6, 152.9,\n",
    "#        179.3,  57.3,  39.4,   0. ,  21.1, 110.6,  50.2,  24.1, 110.9,\n",
    "#         38.3,  39. , 124.5, 140.4,  24.3,  99.5,  96.5,  36.7,  50.9,\n",
    "#         68.5,  34.6, 222. , 113.9,  26.7, 109.2,  33. ,  76.4,  39.4,\n",
    "#         82.3, 164. ,  43.8,  61.6, 104.8,  60. ,  59.8,  31.4,  40.3,\n",
    "#         49.5, 126.8,  68.5,  67.1, 180.5,  96.4, 115.4,  96.5,  48.6,\n",
    "#        237.2,  36.4,  73.7,  93.8,  55.4,  70.1, 128.8,  80.9,  67.8,\n",
    "#         83.8,  29.2, 192.9, 174.5,   0. ,  33.2, 134.9, 137.2,  46.7,\n",
    "#        162.5,  36.5,  26.6, 100.4,  80.6,  50.8,  96. ,  38.9,  37.7,\n",
    "#         84.5,  68.2,  52.5, 103.1,   0. , 131.4,  35.2, 124.7,  46.9,\n",
    "#         33.9, 125.6,  55.5,  17.7,  59.9, 102.6, 150.5])"
   ]
  },
  {
   "cell_type": "markdown",
   "metadata": {},
   "source": [
    "### Summary"
   ]
  },
  {
   "cell_type": "markdown",
   "metadata": {},
   "source": [
    "Great job!  In this lesson we practiced selecting entries from vectors, and adding vectors."
   ]
  }
 ],
 "metadata": {
  "kernelspec": {
   "display_name": "Python 3",
   "language": "python",
   "name": "python3"
  },
  "language_info": {
   "codemirror_mode": {
    "name": "ipython",
    "version": 3
   },
   "file_extension": ".py",
   "mimetype": "text/x-python",
   "name": "python",
   "nbconvert_exporter": "python",
   "pygments_lexer": "ipython3",
   "version": "3.7.4"
  }
 },
 "nbformat": 4,
 "nbformat_minor": 4
}
