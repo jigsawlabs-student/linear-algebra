{
 "cells": [
  {
   "cell_type": "markdown",
   "metadata": {},
   "source": [
    "# Using Simple Algebra"
   ]
  },
  {
   "cell_type": "markdown",
   "metadata": {},
   "source": [
    "### Viewing our Data"
   ]
  },
  {
   "cell_type": "markdown",
   "metadata": {},
   "source": [
    "Let's return to our problem of predicting T-shirt sales."
   ]
  },
  {
   "cell_type": "markdown",
   "metadata": {},
   "source": [
    "|ad spending        | t-shirts           \n",
    "| ------------- |:-------------:| \n",
    "|    800        | 330  | \n",
    "|    1500        |780 | \n",
    "|    2000      | 1130 | \n",
    "|    3500      | 1310 | \n",
    "|    4000      | 1780 | "
   ]
  },
  {
   "cell_type": "markdown",
   "metadata": {},
   "source": [
    "We know that we can represent this as a list of inputs and a list representing our target variables."
   ]
  },
  {
   "cell_type": "code",
   "execution_count": 1,
   "metadata": {},
   "outputs": [],
   "source": [
    "inputs = [800, 1500, 2000, 3500, 4000]\n",
    "outcomes = [330, 780, 1130, 1310, 1780]"
   ]
  },
  {
   "cell_type": "markdown",
   "metadata": {},
   "source": [
    "Now let's just look at one of the rows of data."
   ]
  },
  {
   "cell_type": "markdown",
   "metadata": {},
   "source": [
    "|ad spending        | t-shirts           \n",
    "| ------------- |:-------------:| \n",
    "|    800        | 330  | "
   ]
  },
  {
   "cell_type": "markdown",
   "metadata": {},
   "source": [
    "If this were something we were trying to predict, then we would try to see the cause and effect between ad-spending and t-shirts.  And could represent the influence of ad spending on t-shirts as $\\theta_1$, as in:"
   ]
  },
  {
   "cell_type": "markdown",
   "metadata": {},
   "source": [
    "$$\\theta_1*800 = 300$$"
   ]
  },
  {
   "cell_type": "markdown",
   "metadata": {},
   "source": [
    "where, $\\theta_1$ is our coefficient - the impact ad spending has on T-shirts."
   ]
  },
  {
   "cell_type": "markdown",
   "metadata": {},
   "source": [
    "Now, when we only have one row of data, solving for $\\theta_1$ is fairly straight-forward."
   ]
  },
  {
   "cell_type": "markdown",
   "metadata": {},
   "source": [
    "$\\theta_1*800 = 300$ "
   ]
  },
  {
   "cell_type": "markdown",
   "metadata": {},
   "source": [
    "$ \\theta_1 * \\dfrac{800}{800} = \\dfrac{300}{800} $"
   ]
  },
  {
   "cell_type": "markdown",
   "metadata": {},
   "source": [
    "$\\theta_1 =  \\dfrac{300}{800} $"
   ]
  },
  {
   "cell_type": "markdown",
   "metadata": {},
   "source": [
    "### Working with Multiple Observations"
   ]
  },
  {
   "cell_type": "markdown",
   "metadata": {},
   "source": [
    "Of course the whole reason why we can't simply use algebra for regression is because we have not just one observation but rows of observations.  \n",
    "\n",
    "|ad spending        | t-shirts           \n",
    "| ------------- |:-------------:| \n",
    "|    800        | 330  | \n",
    "|    1500        |780 | \n",
    "|    2000      | 1130 | \n",
    "|    3500      | 1310 | \n",
    "|    4000      | 1780 | \n",
    "\n",
    "And we want to find *a single coefficient value* to multiply each of our independent variables by to equal our dependent variable."
   ]
  },
  {
   "cell_type": "markdown",
   "metadata": {},
   "source": [
    "$$800*\\theta_1 = 330 $$\n",
    "$$1500*\\theta_1 = 780 $$\n",
    "$$2000*\\theta_1 = 1130 $$\n",
    "$$3500*\\theta_1 = 1310 $$\n",
    "$$4000*\\theta_1 = 1780$$"
   ]
  },
  {
   "cell_type": "markdown",
   "metadata": {},
   "source": [
    "It makes sense that we are assuming $\\theta_1$ is the same across equations.  This reflects our assumption ad spending will have a similar effect on T-shirt sales across our different observations."
   ]
  },
  {
   "cell_type": "markdown",
   "metadata": {},
   "source": [
    "### A system of equations"
   ]
  },
  {
   "cell_type": "markdown",
   "metadata": {},
   "source": [
    "Now this problem  of having multiple equations, and trying to find a coefficient that satisfies all of the equations is a problem that arises throughout mathematics.  It's called \"solving a system of equations\", and an entire field of mathematics has been created related to this problem.  The field is called linear algebra."
   ]
  },
  {
   "cell_type": "markdown",
   "metadata": {},
   "source": [
    "> A **system of equations** is a collection of two or more equations with a same set of unknowns."
   ]
  },
  {
   "cell_type": "markdown",
   "metadata": {},
   "source": [
    "To understand machine learning, we won't have to learn an entire course in linear algebra, but we will need to learn some of the fundamentals.  Doing so will allow us to understand the some of the concepts in machine learning which come from linear algebra, and it will also allow us to understand the notation of linear algebra, which is how many data scientists speak about and understand machine learning algorithms. "
   ]
  },
  {
   "cell_type": "markdown",
   "metadata": {},
   "source": [
    "By using linear algebra we can express our entire system of equations below..."
   ]
  },
  {
   "cell_type": "markdown",
   "metadata": {},
   "source": [
    "$$800*\\theta_1 = 330 $$\n",
    "$$1500*\\theta_1 = 780 $$\n",
    "$$2000*\\theta_1 = 1130 $$\n",
    "$$3500*\\theta_1 = 1310 $$\n",
    "$$4000*\\theta_1 = 1780$$"
   ]
  },
  {
   "cell_type": "markdown",
   "metadata": {},
   "source": [
    "can be represented as the following: "
   ]
  },
  {
   "cell_type": "markdown",
   "metadata": {},
   "source": [
    "$a\\theta_1 = b$"
   ]
  },
  {
   "cell_type": "markdown",
   "metadata": {},
   "source": [
    "Where $a$ is the vector: \n",
    "\n",
    "$a = \\begin{pmatrix}\n",
    "    800 \\\\\n",
    "    1500 \\\\\n",
    "    2000 \\\\\n",
    "    3500 \\\\\n",
    "    4000 \\\\\n",
    "\\end{pmatrix}$\n",
    "\n",
    "$\\theta_1$ is a scalar. \n",
    "\n",
    "and $b$ is the vector:\n",
    "\n",
    "$b =  \\begin{pmatrix}\n",
    "330   \\\\\n",
    "780 \\\\\n",
    "1130 \\\\\n",
    "1310 \\\\\n",
    "1780 \\\\\n",
    "\\end{pmatrix}$ \n",
    "\n",
    "\n",
    "\n"
   ]
  },
  {
   "cell_type": "markdown",
   "metadata": {},
   "source": [
    "But we're getting a little ahead of ourselves.  We don't yet know what a scalar or a vector is.  Or why we would want to use them.  So that is where we will go next."
   ]
  },
  {
   "cell_type": "markdown",
   "metadata": {},
   "source": [
    "### Summary"
   ]
  },
  {
   "cell_type": "markdown",
   "metadata": {},
   "source": [
    "In this lesson, we saw how when we are given a set of observations\n",
    "\n",
    "|ad spending        | t-shirts           \n",
    "| ------------- |:-------------:| \n",
    "|    800        | 330  | \n",
    "|    1500        |780 | \n",
    "|    2000      | 1130 | \n",
    "|    3500      | 1310 | \n",
    "|    4000      | 1780 | \n",
    "\n",
    "We can try to discover the coefficient (or coefficients) that predict a target, by solving a system of linear equations, and finding the coefficients that solve or come close to the solution: "
   ]
  },
  {
   "cell_type": "markdown",
   "metadata": {},
   "source": [
    "$$800*\\theta_1 = 330 $$\n",
    "\n",
    "$$1500*\\theta_1 = 780 $$\n",
    "\n",
    "$$2000*\\theta_1 = 1130 $$\n",
    "\n",
    "$$3500*\\theta_1 = 1310 $$\n",
    "\n",
    "$$4000*\\theta_1 = 1780$$"
   ]
  },
  {
   "cell_type": "markdown",
   "metadata": {},
   "source": [
    "This approach (which we'll later explore further) is called the analytic solution to regression."
   ]
  },
  {
   "cell_type": "markdown",
   "metadata": {},
   "source": [
    "We can rewrite a system of equations using vectors.  Below we let our features equal the vector $a$, our target variables equal the vector $b$, and our coefficients equal to the scalar $x$."
   ]
  },
  {
   "cell_type": "markdown",
   "metadata": {},
   "source": [
    "Where $a$ is the vector: \n",
    "\n",
    "$a = \\begin{pmatrix}\n",
    "    800 \\\\\n",
    "    1500 \\\\\n",
    "    2000 \\\\\n",
    "    3500 \\\\\n",
    "    4000 \\\\\n",
    "\\end{pmatrix}$\n",
    "\n",
    "$x$ is a scalar. \n",
    "\n",
    "and $b$ is the vector:\n",
    "\n",
    "$b =  \\begin{pmatrix}\n",
    "330   \\\\\n",
    "780 \\\\\n",
    "1130 \\\\\n",
    "1310 \\\\\n",
    "1780 \\\\\n",
    "\\end{pmatrix}$ "
   ]
  },
  {
   "cell_type": "markdown",
   "metadata": {},
   "source": [
    "In the lessons that follow, we'll try to better understand how we can re-express and understand our problem of linear regression using vectors and matrices."
   ]
  }
 ],
 "metadata": {
  "kernelspec": {
   "display_name": "Python 3",
   "language": "python",
   "name": "python3"
  },
  "language_info": {
   "codemirror_mode": {
    "name": "ipython",
    "version": 3
   },
   "file_extension": ".py",
   "mimetype": "text/x-python",
   "name": "python",
   "nbconvert_exporter": "python",
   "pygments_lexer": "ipython3",
   "version": "3.7.4"
  }
 },
 "nbformat": 4,
 "nbformat_minor": 4
}
