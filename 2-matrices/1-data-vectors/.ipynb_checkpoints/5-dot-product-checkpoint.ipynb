{
 "cells": [
  {
   "cell_type": "markdown",
   "metadata": {},
   "source": [
    "### Vector Multiplication"
   ]
  },
  {
   "cell_type": "markdown",
   "metadata": {},
   "source": [
    "### Introduction"
   ]
  },
  {
   "cell_type": "markdown",
   "metadata": {},
   "source": [
    "Now that we've learned about matrix vector multiplication, we should also learn about what it means to multiply two vectors together."
   ]
  },
  {
   "cell_type": "markdown",
   "metadata": {},
   "source": [
    "### Multiplying two vectors"
   ]
  },
  {
   "cell_type": "markdown",
   "metadata": {},
   "source": [
    "Let's define two vectors $a$ and $b$.  "
   ]
  },
  {
   "cell_type": "code",
   "execution_count": 2,
   "metadata": {},
   "outputs": [],
   "source": [
    "import numpy as np\n",
    "\n",
    "a = np.array([1, 2, 3])\n",
    "\n",
    "b = np.array([5, 3, 4])"
   ]
  },
  {
   "cell_type": "markdown",
   "metadata": {},
   "source": [
    "Here's how we multiply them:"
   ]
  },
  {
   "cell_type": "code",
   "execution_count": 3,
   "metadata": {},
   "outputs": [
    {
     "data": {
      "text/plain": [
       "23"
      ]
     },
     "execution_count": 3,
     "metadata": {},
     "output_type": "execute_result"
    }
   ],
   "source": [
    "a.dot(b)"
   ]
  },
  {
   "cell_type": "markdown",
   "metadata": {},
   "source": [
    "> * Multiplying two vectors together is called taking the **dot product**.  \n",
    "\n",
    "\n",
    "To calculate the dot product, we do entrywise multiplication, and then take the sum."
   ]
  },
  {
   "cell_type": "markdown",
   "metadata": {},
   "source": [
    "$a \\cdot b = \\begin{bmatrix}\n",
    "    1 & \n",
    "    2 &\n",
    "    3\n",
    "    \\end{bmatrix} \\cdot \\begin{bmatrix}\n",
    "    5 \\\\\n",
    "    3 \\\\\n",
    "    4\n",
    "    \\end{bmatrix}  = 1*5 + 2*3 + 3*4 = 5 + 6 + 12 = 23$"
   ]
  },
  {
   "cell_type": "markdown",
   "metadata": {},
   "source": [
    "Note that the resulting value is not a vector, but a number.\n",
    "> The technical term for a single real valued number is called a scalar."
   ]
  },
  {
   "cell_type": "markdown",
   "metadata": {},
   "source": [
    "Also note that another way of expressing the dot product operation is with the following:"
   ]
  },
  {
   "cell_type": "markdown",
   "metadata": {},
   "source": [
    "$ c = \\sum_{k=1}^n a_{i} b_{i}$"
   ]
  },
  {
   "cell_type": "markdown",
   "metadata": {},
   "source": [
    "> Move through each of the indices of the two vectors, multiplying each pair, and then taking the sum of the pairs"
   ]
  },
  {
   "cell_type": "markdown",
   "metadata": {},
   "source": [
    "### Examples of the Dot product"
   ]
  },
  {
   "cell_type": "markdown",
   "metadata": {},
   "source": [
    "The dot product occurs all of the time in machine learning.  For example, let's consider the hypothesis function for linear regression."
   ]
  },
  {
   "cell_type": "markdown",
   "metadata": {},
   "source": [
    "$\\hat{y} = \\theta_1x_1 + \\theta_2x_2 + b$"
   ]
  },
  {
   "cell_type": "markdown",
   "metadata": {},
   "source": [
    "We can rewrite this is the dot product between a vector of parameters and a vector of $x$ values, plus $b$.  For example if we imagine that to predict ice cream sales, we have a hypothesis function of:"
   ]
  },
  {
   "cell_type": "markdown",
   "metadata": {},
   "source": [
    "> $\\text{ice_cream} = 3*\\text{temp} + 2*\\text{ad_spend} + 20$\n",
    "\n",
    "Now let's say we want to predict the number of sales when it is 75 degrees, and we spend 50 dollars in advertising for the day, we can calculate it with the following:"
   ]
  },
  {
   "cell_type": "code",
   "execution_count": 14,
   "metadata": {},
   "outputs": [
    {
     "data": {
      "text/plain": [
       "345"
      ]
     },
     "execution_count": 14,
     "metadata": {},
     "output_type": "execute_result"
    }
   ],
   "source": [
    "import numpy as np\n",
    "theta = np.array([3, 2]) \n",
    "x = np.array([75, 50])\n",
    "\n",
    "x.dot(theta) + 20"
   ]
  },
  {
   "cell_type": "markdown",
   "metadata": {},
   "source": [
    "To encapsulate the entire operation as the dot product, oftentimes we'll let the last $x$ value be the number one, and let the last $\\theta_i$ be the bias.  Then, for the above, we'd have:"
   ]
  },
  {
   "cell_type": "code",
   "execution_count": 13,
   "metadata": {},
   "outputs": [
    {
     "data": {
      "text/plain": [
       "345"
      ]
     },
     "execution_count": 13,
     "metadata": {},
     "output_type": "execute_result"
    }
   ],
   "source": [
    "theta = np.array([3, 2, 20]) \n",
    "x = np.array([75, 50, 1])\n",
    "\n",
    "theta.dot(x)"
   ]
  },
  {
   "cell_type": "markdown",
   "metadata": {},
   "source": [
    "So, we can rewrite the hypothesis function for a single observation as:"
   ]
  },
  {
   "cell_type": "markdown",
   "metadata": {},
   "source": [
    "$\\hat{y} = \\theta \\cdot x$"
   ]
  },
  {
   "cell_type": "markdown",
   "metadata": {},
   "source": [
    "> This is often written as: $\\hat{y} = \\theta^T \\cdot x$  to specify that $\\theta$ is a row vector (and not a column vector).  In numpy it will make no difference."
   ]
  },
  {
   "cell_type": "markdown",
   "metadata": {},
   "source": [
    "### Summary"
   ]
  },
  {
   "cell_type": "markdown",
   "metadata": {},
   "source": [
    "In this lesson we learned about taking the dot product.  We calculate the dot product by calculating the sum of entrywise multiplication.  The dot product becomes very useful when applied to a linear equation, as it is an easy way to calculate the sum of our features multiplied by our coefficients."
   ]
  },
  {
   "cell_type": "markdown",
   "metadata": {},
   "source": [
    "If we have two vectors, $a \\in \\mathbb{R}^n$ and $b \\in \\mathbb{R}^n$,"
   ]
  },
  {
   "cell_type": "markdown",
   "metadata": {},
   "source": [
    "$a^T \\cdot b =  a_{i} b_{i} + ... + a_{n} b_{n}  = \\sum_{k=1}^n a_{i} b_{i}$"
   ]
  }
 ],
 "metadata": {
  "kernelspec": {
   "display_name": "Python 3",
   "language": "python",
   "name": "python3"
  },
  "language_info": {
   "codemirror_mode": {
    "name": "ipython",
    "version": 3
   },
   "file_extension": ".py",
   "mimetype": "text/x-python",
   "name": "python",
   "nbconvert_exporter": "python",
   "pygments_lexer": "ipython3",
   "version": "3.7.4"
  }
 },
 "nbformat": 4,
 "nbformat_minor": 4
}
