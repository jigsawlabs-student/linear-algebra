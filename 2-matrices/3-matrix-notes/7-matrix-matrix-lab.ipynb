{
 "cells": [
  {
   "cell_type": "markdown",
   "metadata": {},
   "source": [
    "# Matrix Matrix Lab"
   ]
  },
  {
   "cell_type": "markdown",
   "metadata": {},
   "source": [
    "### Introduction"
   ]
  },
  {
   "cell_type": "markdown",
   "metadata": {},
   "source": [
    "In this lesson, we'll practice what we learned about matrix matrix multiplication."
   ]
  },
  {
   "cell_type": "markdown",
   "metadata": {},
   "source": [
    "### Finding Dimensions"
   ]
  },
  {
   "cell_type": "markdown",
   "metadata": {},
   "source": [
    "Let's start with two matrices $A$ and $X$."
   ]
  },
  {
   "cell_type": "markdown",
   "metadata": {},
   "source": [
    "$A  =  \\begin{pmatrix}\n",
    "    25 & 8 \\\\\n",
    "    5 & 6\\\\\n",
    "    10 & 7\\\\\n",
    "\\end{pmatrix} $\n",
    "\n",
    "$X = \\begin{pmatrix}\n",
    "    1 & 2 & 4\\\\ 3 & 4 & 5 \n",
    "\\end{pmatrix} $"
   ]
  },
  {
   "cell_type": "markdown",
   "metadata": {},
   "source": [
    "As a first step, let's check that we can perform multiplication.  \n",
    "\n",
    "1. What are the dimensions of $A \\cdot X$, and will it compile?"
   ]
  },
  {
   "cell_type": "markdown",
   "metadata": {},
   "source": [
    "> * $A_{3x2} X_{2x3}$\n",
    "> * Will result in 3x3 matrix."
   ]
  },
  {
   "cell_type": "markdown",
   "metadata": {},
   "source": [
    "2. What are the dimensions of $X \\cdot A$, and will it compile?"
   ]
  },
  {
   "cell_type": "markdown",
   "metadata": {},
   "source": [
    "> * $ X_{2x3} A_{3x2}$\n",
    "> * Will result in 2x2 matrix."
   ]
  },
  {
   "cell_type": "markdown",
   "metadata": {},
   "source": [
    "### Performing Multiplication with Dot Products"
   ]
  },
  {
   "cell_type": "markdown",
   "metadata": {},
   "source": [
    "Now let's begin to perform the multiplication."
   ]
  },
  {
   "cell_type": "markdown",
   "metadata": {},
   "source": [
    "$A  =  \\begin{pmatrix}\n",
    "    25 & 8 \\\\\n",
    "    5 & 6\\\\\n",
    "    10 & 7\\\\\n",
    "\\end{pmatrix} $\n",
    "    \n",
    "$X = \\begin{pmatrix}\n",
    "1 & 2 & 4\\\\ 3 & 4 & 5 \n",
    "\\end{pmatrix} $"
   ]
  },
  {
   "cell_type": "markdown",
   "metadata": {},
   "source": [
    "Let $C = A \\cdot X$.  What is the top left entry of $C$, that is $C_{1, 1}$?"
   ]
  },
  {
   "cell_type": "markdown",
   "metadata": {},
   "source": [
    "> Calculate it below using dot products."
   ]
  },
  {
   "cell_type": "code",
   "execution_count": 3,
   "metadata": {},
   "outputs": [
    {
     "data": {
      "text/plain": [
       "49"
      ]
     },
     "execution_count": 3,
     "metadata": {},
     "output_type": "execute_result"
    }
   ],
   "source": [
    "\n",
    "\n",
    "# 49"
   ]
  },
  {
   "cell_type": "markdown",
   "metadata": {},
   "source": [
    "Now find the bottom right entry of $C$, that is $C_{3, 3}$?"
   ]
  },
  {
   "cell_type": "markdown",
   "metadata": {},
   "source": [
    "> Calculate it below using dot products."
   ]
  },
  {
   "cell_type": "code",
   "execution_count": 5,
   "metadata": {},
   "outputs": [
    {
     "data": {
      "text/plain": [
       "75"
      ]
     },
     "execution_count": 5,
     "metadata": {},
     "output_type": "execute_result"
    }
   ],
   "source": [
    "\n",
    "\n",
    "# 75"
   ]
  },
  {
   "cell_type": "markdown",
   "metadata": {},
   "source": [
    "### Matrix Matrix Multiplication Another Way"
   ]
  },
  {
   "cell_type": "markdown",
   "metadata": {},
   "source": [
    "It's worth seeing another way to perform matrix matrix multiplication.  Given our two matrices:"
   ]
  },
  {
   "cell_type": "code",
   "execution_count": 8,
   "metadata": {},
   "outputs": [],
   "source": [
    "import numpy as np\n",
    "A = np.array([\n",
    "    [25, 8], \n",
    "    [5, 6], \n",
    "    [10, 7]\n",
    "])\n",
    "\n",
    "X = np.array([\n",
    "    [1, 2, 4], \n",
    "    [3, 4, 5]\n",
    "])"
   ]
  },
  {
   "cell_type": "markdown",
   "metadata": {},
   "source": [
    "Then we can see that $A \\cdot X$ is the following:"
   ]
  },
  {
   "cell_type": "code",
   "execution_count": 9,
   "metadata": {},
   "outputs": [
    {
     "data": {
      "text/plain": [
       "array([[ 49,  82, 140],\n",
       "       [ 23,  34,  50],\n",
       "       [ 31,  48,  75]])"
      ]
     },
     "execution_count": 9,
     "metadata": {},
     "output_type": "execute_result"
    }
   ],
   "source": [
    "A.dot(X)"
   ]
  },
  {
   "cell_type": "markdown",
   "metadata": {},
   "source": [
    "Let's see a new way of calculating just the first column of our resulting matrix $B$."
   ]
  },
  {
   "cell_type": "markdown",
   "metadata": {},
   "source": [
    "$A \\cdot x_1  =  \\begin{pmatrix}\n",
    "    25 & 8 \\\\\n",
    "    5 & 6\\\\\n",
    "    10 & 7\\\\\n",
    "\\end{pmatrix} \\cdot \\begin{pmatrix}\n",
    "1 \\\\ 3  \n",
    "\\end{pmatrix}  = 1* \\begin{pmatrix}\n",
    "    25  \\\\\n",
    "    5 \\\\\n",
    "    10\\\\\n",
    "\\end{pmatrix} + 3* \\begin{pmatrix}\n",
    "    8  \\\\\n",
    "    6 \\\\\n",
    "    7\\\\\n",
    "\\end{pmatrix} = \\begin{pmatrix}\n",
    "    25 + 24  \\\\\n",
    "    5 + 18 \\\\\n",
    "    10 + 21\\\\\n",
    "\\end{pmatrix} = \\begin{pmatrix}\n",
    "    49  \\\\\n",
    "    23 \\\\\n",
    "    31 \\\\\n",
    "\\end{pmatrix} $"
   ]
  },
  {
   "cell_type": "markdown",
   "metadata": {},
   "source": [
    "> So we see that $A \\cdot x_1 = b_1$"
   ]
  },
  {
   "cell_type": "markdown",
   "metadata": {},
   "source": [
    "Notice that this is equivalent to how we calculated matrix vector multiplication.  So it's almost as if we are splitting apart our matrix $X$ into columns and performing three separate matrix vector multiplications.\n",
    "\n",
    "This, for example, is how we can calculate the second column in the matrix $B$."
   ]
  },
  {
   "cell_type": "markdown",
   "metadata": {},
   "source": [
    "$A \\cdot x_1 =  \\begin{pmatrix}\n",
    "    25 & 8 \\\\\n",
    "    5 & 6\\\\\n",
    "    10 & 7\\\\\n",
    "\\end{pmatrix} \\cdot \\begin{pmatrix}\n",
    "2 \\\\ 4  \n",
    "\\end{pmatrix}  = 2* \\begin{pmatrix}\n",
    "    25  \\\\\n",
    "    5 \\\\\n",
    "    10\\\\\n",
    "\\end{pmatrix} + 4* \\begin{pmatrix}\n",
    "    8  \\\\\n",
    "    6 \\\\\n",
    "    7\\\\\n",
    "\\end{pmatrix} = \\begin{pmatrix}\n",
    "    50 + 32  \\\\\n",
    "    10 + 24 \\\\\n",
    "    20 + 28\\\\\n",
    "\\end{pmatrix} = \\begin{pmatrix}\n",
    "    82  \\\\\n",
    "    34 \\\\\n",
    "    48 \\\\\n",
    "\\end{pmatrix} $"
   ]
  },
  {
   "cell_type": "markdown",
   "metadata": {},
   "source": [
    "> And we can see that $A \\cdot x_1 = b_2$."
   ]
  },
  {
   "cell_type": "code",
   "execution_count": 10,
   "metadata": {},
   "outputs": [
    {
     "data": {
      "text/plain": [
       "array([[ 49,  82, 140],\n",
       "       [ 23,  34,  50],\n",
       "       [ 31,  48,  75]])"
      ]
     },
     "execution_count": 10,
     "metadata": {},
     "output_type": "execute_result"
    }
   ],
   "source": [
    "A.dot(X)"
   ]
  },
  {
   "cell_type": "markdown",
   "metadata": {},
   "source": [
    "Now it's your turn.  We'll define two new matrices for you. "
   ]
  },
  {
   "cell_type": "code",
   "execution_count": 11,
   "metadata": {},
   "outputs": [],
   "source": [
    "A = np.array([\n",
    "    [4, 10], \n",
    "    [12, 3], \n",
    "    [5, 8]\n",
    "])\n",
    "\n",
    "X = np.array([\n",
    "    [1, 2, 5, 10], \n",
    "    [3, 4, 8, 9]\n",
    "])"
   ]
  },
  {
   "cell_type": "markdown",
   "metadata": {},
   "source": [
    "Now before performing the calculation, determine whether the matrices will compile, and determine the shape of the resulting matrix."
   ]
  },
  {
   "cell_type": "code",
   "execution_count": null,
   "metadata": {},
   "outputs": [],
   "source": []
  },
  {
   "cell_type": "markdown",
   "metadata": {},
   "source": [
    "Ok, now calculate the first two columns of the resulting matrix B, by splitting our multiplication $A \\cdot X$ into the calculations for each column:"
   ]
  },
  {
   "cell_type": "code",
   "execution_count": 14,
   "metadata": {},
   "outputs": [],
   "source": [
    "b_1 = None"
   ]
  },
  {
   "cell_type": "code",
   "execution_count": 15,
   "metadata": {},
   "outputs": [],
   "source": [
    "b_2 = None"
   ]
  },
  {
   "cell_type": "markdown",
   "metadata": {},
   "source": [
    "Check your work by multiplying the two matrices $A$ and $X$."
   ]
  },
  {
   "cell_type": "markdown",
   "metadata": {},
   "source": [
    "### Summary"
   ]
  },
  {
   "cell_type": "markdown",
   "metadata": {},
   "source": [
    "In this lesson we practiced two different mechanisms of matrix matrix multiplication.  The first is to calculate the entry of the resulting matrix as the row of the first matrix dotted with the column of the second matrix."
   ]
  },
  {
   "cell_type": "markdown",
   "metadata": {},
   "source": [
    "$$A \\cdot X =  \\begin{pmatrix}\n",
    "    [\\leftarrow a_1 \\rightarrow] \\\\\n",
    "    [\\leftarrow a_2 \\rightarrow] \\\\\n",
    "    [\\leftarrow a_3 \\rightarrow]\\\\\n",
    "    [\\leftarrow a_4 \\rightarrow]\\\\\n",
    "    [\\leftarrow a_5 \\rightarrow]\\\\\n",
    "\\end{pmatrix} \\cdot \\begin{pmatrix}\n",
    "    \\uparrow & \\uparrow  \\\\ x_1 & x_2 \\\\ \\downarrow  & \\downarrow \\end{pmatrix} =  \\begin{pmatrix} a_1 \\cdot x_1 & a_1 \\cdot x_2 \\\\ a_2 \\cdot x_1 & a_2 \\cdot x_2 \\\\ a_3 \\cdot x_1 & a_3 \\cdot x_2 \\\\ a_4 \\cdot x_1 & a_4 \\cdot x_2 \\\\ a_5 \\cdot x_1 & a_5 \\cdot x_2  \\end{pmatrix}$$"
   ]
  },
  {
   "cell_type": "markdown",
   "metadata": {},
   "source": [
    "The second way that we saw how to perform matrix matrix multiplication is to split the columns of X apart into vectors, and perform successive matrix vector multiplication."
   ]
  },
  {
   "cell_type": "markdown",
   "metadata": {},
   "source": [
    "$A \\cdot x_1  =  \\begin{pmatrix}\n",
    "    [\\leftarrow a_1 \\rightarrow] \\\\\n",
    "    [\\leftarrow a_2 \\rightarrow] \\\\\n",
    "    [\\leftarrow a_3 \\rightarrow]\\\\\n",
    "\\end{pmatrix} \\cdot  \\begin{pmatrix}\n",
    "    \\uparrow   \\\\ x_1  \\\\ \\downarrow   \\end{pmatrix}  = x_{11}* \\begin{pmatrix}\n",
    "    \\uparrow  \\\\\n",
    "    a_1 \\\\\n",
    "    \\downarrow\\\\\n",
    "\\end{pmatrix} + x_{12}* \\begin{pmatrix}\n",
    "    \\uparrow  \\\\\n",
    "    a_2 \\\\\n",
    "    \\downarrow \\\\\n",
    "\\end{pmatrix}  + x_{13}* \\begin{pmatrix}\n",
    "    \\uparrow  \\\\\n",
    "    a_3 \\\\\n",
    "    \\downarrow \\\\\n",
    "\\end{pmatrix} \n",
    "= \\begin{pmatrix}\n",
    "    |  \\\\\n",
    "    b_1 \\\\\n",
    "    |\\\\\n",
    "\\end{pmatrix} $"
   ]
  }
 ],
 "metadata": {
  "kernelspec": {
   "display_name": "Python 3",
   "language": "python",
   "name": "python3"
  },
  "language_info": {
   "codemirror_mode": {
    "name": "ipython",
    "version": 3
   },
   "file_extension": ".py",
   "mimetype": "text/x-python",
   "name": "python",
   "nbconvert_exporter": "python",
   "pygments_lexer": "ipython3",
   "version": "3.7.4"
  }
 },
 "nbformat": 4,
 "nbformat_minor": 4
}
