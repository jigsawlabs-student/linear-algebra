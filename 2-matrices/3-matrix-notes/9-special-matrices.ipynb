{
 "cells": [
  {
   "cell_type": "markdown",
   "metadata": {},
   "source": [
    "# Diagonal, Identity, and Orthonormal Matrices"
   ]
  },
  {
   "cell_type": "markdown",
   "metadata": {},
   "source": [
    "### Introduction"
   ]
  },
  {
   "cell_type": "markdown",
   "metadata": {},
   "source": [
    "Now that we are more familiar with matrix multiplication, it's time to learn about some special types of a matrices.  These are matrices that transform, or do not transform space, in a particular way."
   ]
  },
  {
   "cell_type": "markdown",
   "metadata": {},
   "source": [
    "### Diagonal Matrices"
   ]
  },
  {
   "cell_type": "markdown",
   "metadata": {},
   "source": [
    "Let's begin by creating a diagonal matrix in numpy."
   ]
  },
  {
   "cell_type": "code",
   "execution_count": 7,
   "metadata": {},
   "outputs": [
    {
     "data": {
      "text/plain": [
       "array([[2, 0, 0],\n",
       "       [0, 3, 0],\n",
       "       [0, 0, 4]])"
      ]
     },
     "execution_count": 7,
     "metadata": {},
     "output_type": "execute_result"
    }
   ],
   "source": [
    "from numpy import diag\n",
    "\n",
    "D = diag([2, 3, 4])\n",
    "D"
   ]
  },
  {
   "cell_type": "markdown",
   "metadata": {},
   "source": [
    "$D\\cdot A  =  \\begin{pmatrix}\n",
    "    2 & 0 & 0 \\\\\n",
    "    0 &  3 & 0\\\\\n",
    "    0 & 0 & 4\\\\\n",
    "\\end{pmatrix} \\cdot \\begin{pmatrix}\n",
    "    25 \\\\ 5  \\\\ 10\n",
    "\\end{pmatrix} = 25 \\cdot \\begin{pmatrix} 2 \\\\ 0 \\\\ 0 \\end{pmatrix} + 5 \\cdot \\begin{pmatrix} 0 \\\\ 3 \\\\ 0 \\end{pmatrix} + 10 \\cdot \\begin{pmatrix} 0 \\\\ 0 \\\\ 4 \\end{pmatrix} = \\begin{pmatrix} 50 \\\\ 15 \\\\ 40\\end{pmatrix} $"
   ]
  },
  {
   "cell_type": "markdown",
   "metadata": {},
   "source": [
    "<img src=\"./stretching-matrix.png\" width=\"40%\">"
   ]
  },
  {
   "cell_type": "markdown",
   "metadata": {},
   "source": [
    "### Identity matrix"
   ]
  },
  {
   "cell_type": "code",
   "execution_count": 15,
   "metadata": {},
   "outputs": [
    {
     "data": {
      "text/plain": [
       "array([[1., 0., 0.],\n",
       "       [0., 1., 0.],\n",
       "       [0., 0., 1.]])"
      ]
     },
     "execution_count": 15,
     "metadata": {},
     "output_type": "execute_result"
    }
   ],
   "source": [
    "from numpy import identity\n",
    "I = identity(3)\n",
    "I"
   ]
  },
  {
   "cell_type": "code",
   "execution_count": 16,
   "metadata": {},
   "outputs": [],
   "source": [
    "X = np.array([[ 49,  82, 140],\n",
    "       [ 23,  34,  50],\n",
    "       [ 31,  48,  75]])"
   ]
  },
  {
   "cell_type": "markdown",
   "metadata": {},
   "source": [
    "### Orthonormal Matrices"
   ]
  },
  {
   "cell_type": "markdown",
   "metadata": {},
   "source": [
    "<img src=\"./rotation-matrix.png\" width=\"10%\">"
   ]
  },
  {
   "cell_type": "code",
   "execution_count": 35,
   "metadata": {},
   "outputs": [],
   "source": [
    "import numpy as np\n",
    "Q = np.array([\n",
    "    [1/3, 2/3, -2/3],\n",
    "    [-2/3, 2/3, 1/3],\n",
    "        [2/3, 1/3, 2/3]\n",
    "])"
   ]
  },
  {
   "cell_type": "markdown",
   "metadata": {},
   "source": [
    "### Resources\n",
    "\n",
    "[Diagonal Matrices Wiki](https://en.wikipedia.org/wiki/Diagonal_matrix)"
   ]
  }
 ],
 "metadata": {
  "kernelspec": {
   "display_name": "Python 3",
   "language": "python",
   "name": "python3"
  },
  "language_info": {
   "codemirror_mode": {
    "name": "ipython",
    "version": 3
   },
   "file_extension": ".py",
   "mimetype": "text/x-python",
   "name": "python",
   "nbconvert_exporter": "python",
   "pygments_lexer": "ipython3",
   "version": "3.7.4"
  }
 },
 "nbformat": 4,
 "nbformat_minor": 4
}
