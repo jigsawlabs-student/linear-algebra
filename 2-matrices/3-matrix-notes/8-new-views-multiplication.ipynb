{
 "cells": [
  {
   "cell_type": "markdown",
   "metadata": {},
   "source": [
    "# Different Multiplication Views"
   ]
  },
  {
   "cell_type": "markdown",
   "metadata": {},
   "source": [
    "### Vector Vector Multiplication revisited"
   ]
  },
  {
   "cell_type": "code",
   "execution_count": 4,
   "metadata": {},
   "outputs": [],
   "source": [
    "import numpy as np\n",
    "A = np.array([[25, 8],\n",
    "              [5, 6],\n",
    "              [10, 7]\n",
    "             ])\n",
    "X = np.array([[1, 2, 4],\n",
    "              [3, 4, 5]])"
   ]
  },
  {
   "cell_type": "code",
   "execution_count": 5,
   "metadata": {},
   "outputs": [
    {
     "data": {
      "text/plain": [
       "(array([[25,  8]]),\n",
       " array([[1],\n",
       "        [3]]))"
      ]
     },
     "execution_count": 5,
     "metadata": {},
     "output_type": "execute_result"
    }
   ],
   "source": [
    "a_1, x_1 = A[:1, :2], X[:2, :1]\n",
    "a_1, x_1"
   ]
  },
  {
   "cell_type": "code",
   "execution_count": 17,
   "metadata": {},
   "outputs": [
    {
     "data": {
      "text/plain": [
       "((1, 2), (2, 1))"
      ]
     },
     "execution_count": 17,
     "metadata": {},
     "output_type": "execute_result"
    }
   ],
   "source": [
    "a_1.shape, x_1.shape"
   ]
  },
  {
   "cell_type": "code",
   "execution_count": 6,
   "metadata": {},
   "outputs": [
    {
     "data": {
      "text/plain": [
       "array([[49]])"
      ]
     },
     "execution_count": 6,
     "metadata": {},
     "output_type": "execute_result"
    }
   ],
   "source": [
    "a_1.dot(x_1)"
   ]
  },
  {
   "cell_type": "code",
   "execution_count": 20,
   "metadata": {},
   "outputs": [
    {
     "data": {
      "text/plain": [
       "(array([[1],\n",
       "        [3]]),\n",
       " array([[25,  8]]))"
      ]
     },
     "execution_count": 20,
     "metadata": {},
     "output_type": "execute_result"
    }
   ],
   "source": [
    "x_1, a_1"
   ]
  },
  {
   "cell_type": "code",
   "execution_count": 21,
   "metadata": {},
   "outputs": [
    {
     "data": {
      "text/plain": [
       "((2, 1), (1, 2))"
      ]
     },
     "execution_count": 21,
     "metadata": {},
     "output_type": "execute_result"
    }
   ],
   "source": [
    "x_1.shape, a_1.shape"
   ]
  },
  {
   "cell_type": "code",
   "execution_count": 22,
   "metadata": {},
   "outputs": [
    {
     "data": {
      "text/plain": [
       "array([[25,  8],\n",
       "       [75, 24]])"
      ]
     },
     "execution_count": 22,
     "metadata": {},
     "output_type": "execute_result"
    }
   ],
   "source": [
    "x_1.dot(a_1)"
   ]
  },
  {
   "cell_type": "markdown",
   "metadata": {},
   "source": [
    "$a_1 \\cdot x_1^T  = \\begin{pmatrix}\n",
    "    1  \\\\\n",
    "    3 \\\\\n",
    "\\end{pmatrix}  \\cdot \\begin{pmatrix}\n",
    "25 & 8\n",
    "\\end{pmatrix} = \\left[ 25 \\begin{pmatrix}\n",
    "1 \\\\\n",
    "3\n",
    "\\end{pmatrix} 8 \\begin{pmatrix}\n",
    "1 \\\\\n",
    "3\n",
    "\\end{pmatrix} \\right]= \\begin{pmatrix}\n",
    "25 & 8 \\\\ \n",
    "75 & 24 \n",
    "\\end{pmatrix}$\n",
    "    \n"
   ]
  },
  {
   "cell_type": "markdown",
   "metadata": {},
   "source": [
    "### Matrix Matrix Multiplication revisited"
   ]
  },
  {
   "cell_type": "code",
   "execution_count": 7,
   "metadata": {},
   "outputs": [],
   "source": [
    "import numpy as np\n",
    "A = np.array([[25, 8],\n",
    "              [5, 6],\n",
    "              [10, 7]\n",
    "             ])\n",
    "X = np.array([[1, 2, 4],\n",
    "              [3, 4, 5]])"
   ]
  },
  {
   "cell_type": "markdown",
   "metadata": {},
   "source": [
    "$A \\cdot X  =  \\begin{pmatrix}\n",
    "    25 & 8 \\\\\n",
    "    5 & 6\\\\\n",
    "    10 & 7\\\\\n",
    "\\end{pmatrix} \\cdot \\begin{pmatrix}\n",
    "    1 & 2 & 4\\\\ 3 & 4 & 5 \n",
    "\\end{pmatrix}  = \\begin{pmatrix}\n",
    "    25  \\\\\n",
    "    5 \\\\\n",
    "    10\\\\\n",
    "\\end{pmatrix} \\cdot \\begin{pmatrix}\n",
    "    1 & 2 & 4 \n",
    "\\end{pmatrix}  + \\begin{pmatrix}\n",
    "    8  \\\\\n",
    "    6 \\\\\n",
    "    7\\\\\n",
    "\\end{pmatrix} \\cdot \\begin{pmatrix}\n",
    "    3 & 4 & 5 \n",
    "\\end{pmatrix}$"
   ]
  },
  {
   "cell_type": "markdown",
   "metadata": {},
   "source": [
    "And remember, that each column by row dot product results in separate *matrix*."
   ]
  },
  {
   "cell_type": "code",
   "execution_count": 27,
   "metadata": {},
   "outputs": [
    {
     "data": {
      "text/plain": [
       "(array([[ 25,  50, 100],\n",
       "        [  5,  10,  20],\n",
       "        [ 10,  20,  40]]),\n",
       " array([[24, 32, 40],\n",
       "        [18, 24, 30],\n",
       "        [21, 28, 35]]))"
      ]
     },
     "execution_count": 27,
     "metadata": {},
     "output_type": "execute_result"
    }
   ],
   "source": [
    "A[:4, :1].dot(X[:1, :4]), A[:4, 1:2].dot(X[1:2, :4]) "
   ]
  },
  {
   "cell_type": "markdown",
   "metadata": {},
   "source": [
    "$A \\cdot X  = \\begin{pmatrix}\n",
    "    25 & 50 & 100 \\\\  5 &  10 &  20 \\\\ 10 &  20 & 40\n",
    "\\end{pmatrix}  + \\begin{pmatrix}\n",
    "    24 & 32 & 40 \\\\  18 &  24 &  30 \\\\ 21 &  28 & 35\n",
    "\\end{pmatrix} =  \\begin{pmatrix}\n",
    "    49 & 82 & 140 \\\\  23 &  34 &  50 \\\\ 31 &  48 & 75\n",
    "\\end{pmatrix}$"
   ]
  },
  {
   "cell_type": "code",
   "execution_count": 28,
   "metadata": {},
   "outputs": [
    {
     "data": {
      "text/plain": [
       "array([[ 49,  82, 140],\n",
       "       [ 23,  34,  50],\n",
       "       [ 31,  48,  75]])"
      ]
     },
     "execution_count": 28,
     "metadata": {},
     "output_type": "execute_result"
    }
   ],
   "source": [
    "A[:4, :1].dot(X[:1, :4]) +  A[:4, 1:2].dot(X[1:2, :4]) "
   ]
  },
  {
   "cell_type": "markdown",
   "metadata": {},
   "source": [
    "### Summary"
   ]
  },
  {
   "cell_type": "markdown",
   "metadata": {},
   "source": [
    "$A \\cdot X  =  \\begin{pmatrix}\n",
    "    25 & 8 \\\\\n",
    "    5 & 6\\\\\n",
    "    10 & 7\\\\\n",
    "\\end{pmatrix} \\cdot \\begin{pmatrix}\n",
    "    1 & 2 & 4\\\\ 3 & 4 & 5 \n",
    "\\end{pmatrix} = \\begin{pmatrix}\n",
    "    25  \\\\\n",
    "    5 \\\\\n",
    "    10\\\\\n",
    "\\end{pmatrix} \\cdot \\begin{pmatrix}\n",
    "    1 & 2 & 4 \n",
    "\\end{pmatrix}  + \\begin{pmatrix}\n",
    "    8  \\\\\n",
    "    6 \\\\\n",
    "    7\\\\\n",
    "\\end{pmatrix} \\cdot \\begin{pmatrix}\n",
    "    3 & 4 & 5 \n",
    "\\end{pmatrix} = $ \n"
   ]
  },
  {
   "cell_type": "markdown",
   "metadata": {},
   "source": [
    "$\\begin{pmatrix}\n",
    "    25 & 50 & 100 \\\\  5 &  10 &  20 \\\\ 10 &  20 & 40\n",
    "\\end{pmatrix}  + \\begin{pmatrix}\n",
    "    24 & 32 & 40 \\\\  18 &  24 &  30 \\\\ 21 &  28 & 35\n",
    "\\end{pmatrix} =  \\begin{pmatrix}\n",
    "    49 & 82 & 140 \\\\  23 &  34 &  50 \\\\ 31 &  48 & 75\n",
    "\\end{pmatrix}$"
   ]
  },
  {
   "cell_type": "markdown",
   "metadata": {},
   "source": [
    "$A_{: 1} \\cdot X_{1 :}  =  \\begin{pmatrix}\n",
    "    25  \\\\\n",
    "    5 \\\\\n",
    "    10 \\\\\n",
    "\\end{pmatrix} \\cdot \\begin{pmatrix}\n",
    "    1 & 2 & 4\n",
    "\\end{pmatrix} = \\begin{pmatrix}\n",
    "    25 & 50 & 100 \\\\  5 &  10 &  20 \\\\ 10 &  20 & 40\n",
    "\\end{pmatrix}$"
   ]
  },
  {
   "cell_type": "markdown",
   "metadata": {},
   "source": [
    "And then add in the second layer, through the second dot product."
   ]
  },
  {
   "cell_type": "markdown",
   "metadata": {},
   "source": [
    "$A_{: 2} \\cdot X_{2 :}  =  \\begin{pmatrix}\n",
    "    8  \\\\\n",
    "    6 \\\\\n",
    "    7 \\\\\n",
    "\\end{pmatrix} \\cdot \\begin{pmatrix}\n",
    "    3 & 4 & 5\n",
    "\\end{pmatrix} = \\begin{pmatrix}\n",
    "    24 & 32 & 40 \\\\  18 &  24 &  30 \\\\ 21 &  28 & 35\n",
    "\\end{pmatrix}$"
   ]
  },
  {
   "cell_type": "markdown",
   "metadata": {},
   "source": [
    "### Summary"
   ]
  },
  {
   "cell_type": "markdown",
   "metadata": {},
   "source": [
    "In this lesson, we began by reviewing the result of dotting a row by a column and moved onto dotting a column by a row.  We saw that while our standard dot product $a^T \\cdot b$ results in a scalar number:"
   ]
  },
  {
   "cell_type": "markdown",
   "metadata": {},
   "source": [
    "$a \\cdot b^T  = \\begin{pmatrix}\n",
    "a_1 & a_2\n",
    "\\end{pmatrix} \\cdot \\begin{pmatrix}\n",
    "    b_1  \\\\\n",
    "    b_2 \\\\\n",
    "\\end{pmatrix}   = c$"
   ]
  },
  {
   "cell_type": "markdown",
   "metadata": {},
   "source": [
    "Dotting a column by a row results in a matrix:"
   ]
  },
  {
   "cell_type": "markdown",
   "metadata": {},
   "source": [
    "$a \\cdot b^T  = \\begin{pmatrix}\n",
    "    a_1  \\\\\n",
    "    a_2 \\\\\n",
    "\\end{pmatrix}  \\cdot \\begin{pmatrix}\n",
    "b_1 & b_2\n",
    "\\end{pmatrix} = \\left[ b_1 \\begin{pmatrix}\n",
    "a_1 \\\\\n",
    "a_2\n",
    "\\end{pmatrix} b_2 \\begin{pmatrix}\n",
    "a_1 \\\\\n",
    "a_2\n",
    "\\end{pmatrix} \\right]= \\begin{pmatrix}\n",
    "a_1b_1 & a_1b_2 \\\\ \n",
    "a_2b_1 & a_2b_2 \n",
    "\\end{pmatrix}$\n",
    "    \n"
   ]
  }
 ],
 "metadata": {
  "kernelspec": {
   "display_name": "Python 3",
   "language": "python",
   "name": "python3"
  },
  "language_info": {
   "codemirror_mode": {
    "name": "ipython",
    "version": 3
   },
   "file_extension": ".py",
   "mimetype": "text/x-python",
   "name": "python",
   "nbconvert_exporter": "python",
   "pygments_lexer": "ipython3",
   "version": "3.7.4"
  }
 },
 "nbformat": 4,
 "nbformat_minor": 4
}
