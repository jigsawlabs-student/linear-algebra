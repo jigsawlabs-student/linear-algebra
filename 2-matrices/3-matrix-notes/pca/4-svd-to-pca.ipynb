{
 "cells": [
  {
   "cell_type": "markdown",
   "metadata": {},
   "source": [
    "# SVD to PCA"
   ]
  },
  {
   "cell_type": "markdown",
   "metadata": {},
   "source": [
    "### PCA and Covariance"
   ]
  },
  {
   "cell_type": "markdown",
   "metadata": {},
   "source": [
    "<img src=\"./pca-plot1.png\" width=\"40%\">"
   ]
  },
  {
   "cell_type": "markdown",
   "metadata": {},
   "source": [
    "### From SVD to PCA in Code"
   ]
  },
  {
   "cell_type": "code",
   "execution_count": 28,
   "metadata": {},
   "outputs": [
    {
     "name": "stderr",
     "output_type": "stream",
     "text": [
      "/Users/jeff/opt/anaconda3/lib/python3.7/site-packages/ipykernel_launcher.py:7: RuntimeWarning: covariance is not positive-semidefinite.\n",
      "  import sys\n"
     ]
    }
   ],
   "source": [
    "import numpy as np\n",
    "np.random.seed(0)\n",
    "\n",
    "mean = np.array([100, 20])\n",
    "cov = np.array([[3, 7],\n",
    "               [2, 5]])\n",
    "X = np.random.multivariate_normal(mean, cov, 300)"
   ]
  },
  {
   "cell_type": "markdown",
   "metadata": {},
   "source": [
    "Then let's plot the data."
   ]
  },
  {
   "cell_type": "code",
   "execution_count": 30,
   "metadata": {},
   "outputs": [
    {
     "data": {
      "text/plain": [
       "<matplotlib.collections.PathCollection at 0x11afb4c90>"
      ]
     },
     "execution_count": 30,
     "metadata": {},
     "output_type": "execute_result"
    },
    {
     "data": {
      "image/png": "[encoded data removed]",
      "text/plain": [
       "<Figure size 432x288 with 1 Axes>"
      ]
     },
     "metadata": {
      "needs_background": "light"
     },
     "output_type": "display_data"
    }
   ],
   "source": [
    "import matplotlib.pyplot as plt\n",
    "plt.scatter(X[:, 0],\n",
    "            X[:, 1],\n",
    "            s=40, c = 'r')"
   ]
  },
  {
   "cell_type": "markdown",
   "metadata": {},
   "source": [
    "1. Create a covariance matrix"
   ]
  },
  {
   "cell_type": "code",
   "execution_count": 4,
   "metadata": {},
   "outputs": [
    {
     "data": {
      "text/plain": [
       "array([[1.52088887, 3.37236721],\n",
       "       [3.37236721, 8.14759928]])"
      ]
     },
     "execution_count": 4,
     "metadata": {},
     "output_type": "execute_result"
    }
   ],
   "source": [
    "from numpy import cov\n",
    "\n",
    "cov_X = cov(X.T)\n",
    "cov_X"
   ]
  },
  {
   "cell_type": "code",
   "execution_count": 62,
   "metadata": {},
   "outputs": [
    {
     "data": {
      "text/plain": [
       "array([[1.52088887, 3.37236721],\n",
       "       [3.37236721, 8.14759928]])"
      ]
     },
     "execution_count": 62,
     "metadata": {},
     "output_type": "execute_result"
    }
   ],
   "source": [
    "X_centered = X - X.mean(axis = 0)\n",
    "\n",
    "X_centered.T.dot(X_centered)/(X_centered.shape[0] - 1)"
   ]
  },
  {
   "cell_type": "markdown",
   "metadata": {},
   "source": [
    "2. Decompose the covariance matrix"
   ]
  },
  {
   "cell_type": "code",
   "execution_count": 5,
   "metadata": {},
   "outputs": [
    {
     "data": {
      "text/plain": [
       "(array([[-0.38675693, -0.92218169],\n",
       "        [-0.92218169,  0.38675693]]),\n",
       " array([9.56194789, 0.10654027]),\n",
       " array([[-0.38675693, -0.92218169],\n",
       "        [-0.92218169,  0.38675693]]))"
      ]
     },
     "execution_count": 5,
     "metadata": {},
     "output_type": "execute_result"
    }
   ],
   "source": [
    "from numpy.linalg import svd\n",
    "\n",
    "U, S, V = svd(cov_X)\n",
    "U, S, V"
   ]
  },
  {
   "cell_type": "code",
   "execution_count": 6,
   "metadata": {},
   "outputs": [
    {
     "data": {
      "text/plain": [
       "array([[-0.38675693, -0.92218169],\n",
       "       [-0.92218169,  0.38675693]])"
      ]
     },
     "execution_count": 6,
     "metadata": {},
     "output_type": "execute_result"
    }
   ],
   "source": [
    "V"
   ]
  },
  {
   "cell_type": "code",
   "execution_count": 31,
   "metadata": {},
   "outputs": [
    {
     "data": {
      "text/plain": [
       "array([[-0.38675693, -0.92218169],\n",
       "       [ 0.92218169, -0.38675693]])"
      ]
     },
     "execution_count": 31,
     "metadata": {},
     "output_type": "execute_result"
    }
   ],
   "source": [
    "from sklearn.decomposition import PCA\n",
    "\n",
    "pca = PCA()\n",
    "pca.fit(X)\n",
    "\n",
    "pca.components_"
   ]
  },
  {
   "cell_type": "code",
   "execution_count": 32,
   "metadata": {},
   "outputs": [
    {
     "data": {
      "text/plain": [
       "array([0.98898067, 0.01101933])"
      ]
     },
     "execution_count": 32,
     "metadata": {},
     "output_type": "execute_result"
    }
   ],
   "source": [
    "S/S.sum()"
   ]
  },
  {
   "cell_type": "code",
   "execution_count": 33,
   "metadata": {},
   "outputs": [
    {
     "data": {
      "text/plain": [
       "array([0.98898067, 0.01101933])"
      ]
     },
     "execution_count": 33,
     "metadata": {},
     "output_type": "execute_result"
    }
   ],
   "source": [
    "pca.explained_variance_ratio_"
   ]
  },
  {
   "cell_type": "markdown",
   "metadata": {},
   "source": [
    "### Transforming our Data"
   ]
  },
  {
   "cell_type": "code",
   "execution_count": 21,
   "metadata": {},
   "outputs": [
    {
     "data": {
      "text/plain": [
       "array([[-0.38675693, -0.92218169],\n",
       "       [ 0.92218169, -0.38675693]])"
      ]
     },
     "execution_count": 21,
     "metadata": {},
     "output_type": "execute_result"
    }
   ],
   "source": [
    "pca.components_"
   ]
  },
  {
   "cell_type": "code",
   "execution_count": 47,
   "metadata": {},
   "outputs": [
    {
     "data": {
      "text/plain": [
       "array([[ 5.64842617, -0.13706299],\n",
       "       [ 3.25030583, -0.74063258],\n",
       "       [ 5.96437273,  0.31407731],\n",
       "       [ 3.16253801,  0.04266043],\n",
       "       [-0.0541717 , -0.14246767],\n",
       "       [ 0.70108049, -0.48394784],\n",
       "       [ 2.58521311, -0.04694286],\n",
       "       [ 1.61659439, -0.11669766],\n",
       "       [ 4.82386559,  0.06085567],\n",
       "       [ 1.21701271,  0.27208916]])"
      ]
     },
     "execution_count": 47,
     "metadata": {},
     "output_type": "execute_result"
    }
   ],
   "source": [
    "X_centered = X - X.mean(axis = 0)\n",
    "(X_centered).dot(pca.components_.T)[:10]"
   ]
  },
  {
   "cell_type": "markdown",
   "metadata": {},
   "source": [
    "And we can see that this is the same information we get by transforming our data."
   ]
  },
  {
   "cell_type": "code",
   "execution_count": 45,
   "metadata": {},
   "outputs": [
    {
     "data": {
      "text/plain": [
       "array([[ 5.64842617, -0.13706299],\n",
       "       [ 3.25030583, -0.74063258],\n",
       "       [ 5.96437273,  0.31407731],\n",
       "       [ 3.16253801,  0.04266043],\n",
       "       [-0.0541717 , -0.14246767],\n",
       "       [ 0.70108049, -0.48394784],\n",
       "       [ 2.58521311, -0.04694286],\n",
       "       [ 1.61659439, -0.11669766],\n",
       "       [ 4.82386559,  0.06085567],\n",
       "       [ 1.21701271,  0.27208916]])"
      ]
     },
     "execution_count": 45,
     "metadata": {},
     "output_type": "execute_result"
    }
   ],
   "source": [
    "transformed = pca.transform(X)\n",
    "transformed[:10]"
   ]
  },
  {
   "cell_type": "code",
   "execution_count": 49,
   "metadata": {},
   "outputs": [
    {
     "data": {
      "text/plain": [
       "array([[-2.31096495, -5.15586515],\n",
       "       [-1.94007612, -2.71092775],\n",
       "       [-2.01712614, -5.62170692],\n",
       "       [-1.18379283, -2.93293388],\n",
       "       [-0.11042979,  0.10505651],\n",
       "       [-0.71743558, -0.45935342],\n",
       "       [-1.04313893, -2.36588072],\n",
       "       [-0.73284553, -1.44566013],\n",
       "       [-1.80954347, -4.4720169 ],\n",
       "       [-0.21977246, -1.22753922]])"
      ]
     },
     "execution_count": 49,
     "metadata": {},
     "output_type": "execute_result"
    }
   ],
   "source": [
    "X_centered[:10]"
   ]
  },
  {
   "cell_type": "markdown",
   "metadata": {},
   "source": [
    "And if we want to reduce the number of dimensions, then we can just project our data onto a subset of the vectors of $V$, $V^*$."
   ]
  },
  {
   "cell_type": "code",
   "execution_count": 59,
   "metadata": {},
   "outputs": [
    {
     "data": {
      "text/plain": [
       "array([[ 5.64842617],\n",
       "       [ 3.25030583],\n",
       "       [ 5.96437273],\n",
       "       [ 3.16253801],\n",
       "       [-0.0541717 ],\n",
       "       [ 0.70108049],\n",
       "       [ 2.58521311],\n",
       "       [ 1.61659439],\n",
       "       [ 4.82386559],\n",
       "       [ 1.21701271]])"
      ]
     },
     "execution_count": 59,
     "metadata": {},
     "output_type": "execute_result"
    }
   ],
   "source": [
    "X_centered.dot(V[:, :1])[:10]"
   ]
  },
  {
   "cell_type": "markdown",
   "metadata": {},
   "source": [
    "And we can see this is precisely what we get when reducing the number of components."
   ]
  },
  {
   "cell_type": "code",
   "execution_count": 58,
   "metadata": {},
   "outputs": [
    {
     "data": {
      "text/plain": [
       "array([[ 5.64842617],\n",
       "       [ 3.25030583],\n",
       "       [ 5.96437273],\n",
       "       [ 3.16253801],\n",
       "       [-0.0541717 ],\n",
       "       [ 0.70108049],\n",
       "       [ 2.58521311],\n",
       "       [ 1.61659439],\n",
       "       [ 4.82386559],\n",
       "       [ 1.21701271]])"
      ]
     },
     "execution_count": 58,
     "metadata": {},
     "output_type": "execute_result"
    }
   ],
   "source": [
    "from sklearn.decomposition import PCA\n",
    "\n",
    "pca = PCA(n_components = 1)\n",
    "pca.fit(X)\n",
    "\n",
    "pca.transform(X)[:10]"
   ]
  },
  {
   "cell_type": "markdown",
   "metadata": {},
   "source": [
    "### Resources"
   ]
  },
  {
   "cell_type": "markdown",
   "metadata": {},
   "source": [
    "[Why use covariance matrix](https://www.quora.com/Why-does-PCA-choose-covariance-matrix-to-get-the-principal-components-of-features-X#:~:text=The%20goal%20of%20PCA%20is,must%20form%20an%20orthonormal%20basis.&text=Hence%2C%20the%20covariance%20matrix%20naturally,the%20goal%2Fobjective%20of%20PCA.)"
   ]
  },
  {
   "cell_type": "markdown",
   "metadata": {},
   "source": [
    "[For dummies](https://towardsdatascience.com/dimensionality-reduction-for-dummies-part-3-f25729f74c0a)"
   ]
  }
 ],
 "metadata": {
  "kernelspec": {
   "display_name": "Python 3",
   "language": "python",
   "name": "python3"
  },
  "language_info": {
   "codemirror_mode": {
    "name": "ipython",
    "version": 3
   },
   "file_extension": ".py",
   "mimetype": "text/x-python",
   "name": "python",
   "nbconvert_exporter": "python",
   "pygments_lexer": "ipython3",
   "version": "3.7.4"
  }
 },
 "nbformat": 4,
 "nbformat_minor": 4
}
