{
 "cells": [
  {
   "cell_type": "markdown",
   "metadata": {},
   "source": [
    "# Matrix Matrix Multiplication"
   ]
  },
  {
   "cell_type": "markdown",
   "metadata": {},
   "source": [
    "### Review Matrix Vector Multiplication"
   ]
  },
  {
   "cell_type": "markdown",
   "metadata": {},
   "source": [
    "### Matrix Matrix Multiplication"
   ]
  },
  {
   "cell_type": "markdown",
   "metadata": {},
   "source": [
    "$$A \\cdot x =  \\begin{pmatrix}\n",
    "    [\\leftarrow a_1 \\rightarrow] \\\\\n",
    "    [\\leftarrow a_2 \\rightarrow] \\\\\n",
    "    [\\leftarrow a_3 \\rightarrow]\\\\\n",
    "    [\\leftarrow a_4 \\rightarrow]\\\\\n",
    "    [\\leftarrow a_5 \\rightarrow]\\\\\n",
    "\\end{pmatrix} \\cdot \\begin{pmatrix}\n",
    "    \\uparrow \\\\ x \\\\ \\downarrow \\end{pmatrix} =  \\begin{pmatrix} a_1 \\cdot x \\\\ a_2 \\cdot x \\\\ a_3 \\cdot x \\\\ a_4 \\cdot x \\\\ a_5 \\cdot x  \\end{pmatrix}$$"
   ]
  },
  {
   "cell_type": "code",
   "execution_count": null,
   "metadata": {},
   "outputs": [],
   "source": []
  },
  {
   "cell_type": "markdown",
   "metadata": {},
   "source": [
    "$$A \\cdot X =  \\begin{pmatrix}\n",
    "    [\\leftarrow a_1 \\rightarrow] \\\\\n",
    "    [\\leftarrow a_2 \\rightarrow] \\\\\n",
    "    [\\leftarrow a_3 \\rightarrow]\\\\\n",
    "    [\\leftarrow a_4 \\rightarrow]\\\\\n",
    "    [\\leftarrow a_5 \\rightarrow]\\\\\n",
    "\\end{pmatrix} \\cdot \\begin{pmatrix}\n",
    "    \\uparrow & \\uparrow  \\\\ x_1 & x_2 \\\\ \\downarrow  & \\downarrow \\end{pmatrix} =  \\begin{pmatrix} a_1 \\cdot x_1 & a_1 \\cdot x_2 \\\\ a_2 \\cdot x_1 & a_2 \\cdot x_2 \\\\ a_3 \\cdot x_1 & a_3 \\cdot x_2 \\\\ a_4 \\cdot x_1 & a_4 \\cdot x_2 \\\\ a_5 \\cdot x_1 & a_5 \\cdot x_2  \\end{pmatrix}$$"
   ]
  },
  {
   "cell_type": "markdown",
   "metadata": {},
   "source": [
    "Now let's see this in code.  We'll declare to matrices, A and X multiplying them together get the following:"
   ]
  },
  {
   "cell_type": "code",
   "execution_count": 13,
   "metadata": {},
   "outputs": [],
   "source": [
    "import numpy as np\n",
    "A = np.array([\n",
    "    [200, 800],\n",
    "    [500, 600],\n",
    "    [1000, 700],\n",
    "    [2000, 300],\n",
    "    [3000, 100]])\n",
    "\n",
    "X = np.array([[1, 2], \n",
    "              [3, 4]])"
   ]
  },
  {
   "cell_type": "code",
   "execution_count": 14,
   "metadata": {},
   "outputs": [
    {
     "data": {
      "text/plain": [
       "array([[2600, 3600],\n",
       "       [2300, 3400],\n",
       "       [3100, 4800],\n",
       "       [2900, 5200],\n",
       "       [3300, 6400]])"
      ]
     },
     "execution_count": 14,
     "metadata": {},
     "output_type": "execute_result"
    }
   ],
   "source": [
    "A.dot(X)"
   ]
  },
  {
   "cell_type": "markdown",
   "metadata": {},
   "source": [
    "### Implications of the Above"
   ]
  },
  {
   "cell_type": "markdown",
   "metadata": {},
   "source": [
    "1. Multiplication is not commutative "
   ]
  },
  {
   "cell_type": "markdown",
   "metadata": {},
   "source": [
    "2. Matrix Dimensions"
   ]
  },
  {
   "cell_type": "code",
   "execution_count": 16,
   "metadata": {},
   "outputs": [
    {
     "data": {
      "text/plain": [
       "((5, 2), (2, 2), (5, 2))"
      ]
     },
     "execution_count": 16,
     "metadata": {},
     "output_type": "execute_result"
    }
   ],
   "source": [
    "A.shape, X.shape, A.dot(X).shape"
   ]
  },
  {
   "cell_type": "markdown",
   "metadata": {},
   "source": [
    "### Summary"
   ]
  }
 ],
 "metadata": {
  "kernelspec": {
   "display_name": "Python 3",
   "language": "python",
   "name": "python3"
  },
  "language_info": {
   "codemirror_mode": {
    "name": "ipython",
    "version": 3
   },
   "file_extension": ".py",
   "mimetype": "text/x-python",
   "name": "python",
   "nbconvert_exporter": "python",
   "pygments_lexer": "ipython3",
   "version": "3.7.4"
  }
 },
 "nbformat": 4,
 "nbformat_minor": 4
}
