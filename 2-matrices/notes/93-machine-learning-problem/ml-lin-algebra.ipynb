{
 "cells": [
  {
   "cell_type": "markdown",
   "metadata": {},
   "source": [
    "### Machine Learning with Linear Algebra"
   ]
  },
  {
   "cell_type": "markdown",
   "metadata": {},
   "source": [
    "* Basic idea is that there are many domains where it's very difficult to hand specify a program that can make some prediction from data\n",
    "* What is often in a more contemporary example, it's difficult to write a program to determine this\n",
    "\n",
    "* It's easier to collect a lot of data with the inputs and the correct answer \n",
    "    * Here's the input, and here's what happened to be the output\n",
    "    * So we take this collection of input and output pairs and this produces a hypothesis function \n",
    "    Such that when we feed in our examples, it produces something close to the outputs\n",
    "    \n"
   ]
  },
  {
   "cell_type": "markdown",
   "metadata": {},
   "source": [
    "Real usefulness is when we have a new example we haven't seen before.  So this is data driven programming.  So we build a program, where let the data tell us what that function is.  And the massive ability of data has made these techniques quite good."
   ]
  },
  {
   "cell_type": "markdown",
   "metadata": {},
   "source": [
    "### Notation for Machine learning"
   ]
  },
  {
   "cell_type": "markdown",
   "metadata": {},
   "source": [
    "Input features\n",
    "* $x^{(i)} \\in \\mathbb{R}^n, i = 1...m$\n",
    "\n",
    "* n: is the dimension of the input\n",
    "* m: is the number of samples\n",
    "\n",
    "* $x^{(i)}_j$ is the ith example, coordinate j\n",
    "* $y^{(i)} \\in y, i = ... m$\n",
    "Model parameters: $\\theta \\in \\mathbb{R}^n$\n",
    "\n",
    "Hypothesis function: $h_\\theta(x) = \\sum_\\limits{j=1}^{n}\\theta_j \\cdot x_j$"
   ]
  },
  {
   "cell_type": "markdown",
   "metadata": {},
   "source": [
    "* Above may be wrong, don't understand the summation"
   ]
  },
  {
   "cell_type": "markdown",
   "metadata": {},
   "source": [
    "Outputs: $y^{(i)} \\in y$, where $y^i \\in \\mathbb{R}$\n",
    "\n",
    "Parameters:\n",
    "$\\theta \\in \\mathbb{R}^n$"
   ]
  },
  {
   "cell_type": "markdown",
   "metadata": {},
   "source": [
    "Hypothesis function: \n",
    "$h_\\theta(x): \\mathbb{R}^n -> y $\n",
    "\n",
    "linear hypothesis:\n",
    "\n",
    "$h_\\theta(x^{(i)}) = \\sum_\\limits{i=1}^m \\theta_j x_j = \\theta^Tx^{(i)}$\n"
   ]
  },
  {
   "cell_type": "markdown",
   "metadata": {},
   "source": [
    "Why is there a 1 in our feature vector."
   ]
  },
  {
   "cell_type": "markdown",
   "metadata": {},
   "source": [
    "Loss function: \n",
    "* Want $y^{(i)} \\approx h(x)$"
   ]
  },
  {
   "cell_type": "markdown",
   "metadata": {},
   "source": [
    "And we measure this through a loss function: \n",
    "    \n",
    "$y x y -> \\mathbb{R}_+$"
   ]
  },
  {
   "cell_type": "markdown",
   "metadata": {},
   "source": [
    "The canonical machine learning algorithm is to minimize "
   ]
  },
  {
   "cell_type": "markdown",
   "metadata": {},
   "source": [
    "$\\underset{\\theta}{\\text{minimize}} \\sum l(h_\\theta(x^{(i)}, y^{(i)}))$"
   ]
  }
 ],
 "metadata": {
  "kernelspec": {
   "display_name": "Python 3",
   "language": "python",
   "name": "python3"
  },
  "language_info": {
   "codemirror_mode": {
    "name": "ipython",
    "version": 3
   },
   "file_extension": ".py",
   "mimetype": "text/x-python",
   "name": "python",
   "nbconvert_exporter": "python",
   "pygments_lexer": "ipython3",
   "version": "3.7.4"
  }
 },
 "nbformat": 4,
 "nbformat_minor": 4
}
