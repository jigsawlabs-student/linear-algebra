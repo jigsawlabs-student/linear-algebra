{
 "cells": [
  {
   "cell_type": "markdown",
   "metadata": {},
   "source": [
    "> The green and red lines represent the scaled vectors.  Because each of the respective coefficients are less than one, we shrink the two vectors."
   ]
  },
  {
   "cell_type": "markdown",
   "metadata": {},
   "source": [
    "### Step Three: Add the two scaled vectors together"
   ]
  },
  {
   "cell_type": "markdown",
   "metadata": {},
   "source": [
    "$A \\cdot x =  \\begin{pmatrix}\n",
    "    200 & 800 \\\\\n",
    "    500 & 600\\\\\n",
    "\\end{pmatrix} \\cdot \\begin{pmatrix}\n",
    "    .35 \\\\ .6 \n",
    "\\end{pmatrix} = .35* \\begin{pmatrix}\n",
    "    200  \\\\\n",
    "    500  \\\\\n",
    "\\end{pmatrix} + .6* \\begin{pmatrix}\n",
    "     800 \\\\\n",
    "     600 \\\\\n",
    "\\end{pmatrix}  = \\begin{pmatrix}\n",
    "     70 \\\\\n",
    "     175 \\\\\n",
    "\\end{pmatrix} +  \\begin{pmatrix}\n",
    "     480 \\\\\n",
    "     360 \\\\\n",
    "\\end{pmatrix} \n",
    "$"
   ]
  }
 ],
 "metadata": {
  "kernelspec": {
   "display_name": "Python 3",
   "language": "python",
   "name": "python3"
  },
  "language_info": {
   "codemirror_mode": {
    "name": "ipython",
    "version": 3
   },
   "file_extension": ".py",
   "mimetype": "text/x-python",
   "name": "python",
   "nbconvert_exporter": "python",
   "pygments_lexer": "ipython3",
   "version": "3.7.3"
  }
 },
 "nbformat": 4,
 "nbformat_minor": 2
}
