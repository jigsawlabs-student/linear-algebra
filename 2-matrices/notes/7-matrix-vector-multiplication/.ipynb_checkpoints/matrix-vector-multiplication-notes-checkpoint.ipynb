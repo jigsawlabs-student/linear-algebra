{
 "cells": [
  {
   "cell_type": "markdown",
   "metadata": {},
   "source": [
    "### Our Scenario with Matrices"
   ]
  },
  {
   "cell_type": "markdown",
   "metadata": {},
   "source": [
    "The marketing department would like us to predict the number of T-shirts that will be sold if any of the following mixes of spending on advertising and sales people are pursued."
   ]
  },
  {
   "cell_type": "markdown",
   "metadata": {},
   "source": [
    "|ad spending    |sales spending    | \n",
    "| :-------------:|:-------------:|\n",
    "|    200        |800        |\n",
    "|    500        |600        |\n",
    "|    1000      | 700      | \n",
    "|    2000      | 300      | \n",
    "|    3000      | 100      | "
   ]
  },
  {
   "cell_type": "markdown",
   "metadata": {},
   "source": [
    "We predict that we will sell:\n",
    "* **.35 additional T-shirts** for every dollar spent on advertising\n",
    "\n",
    "We predict that we will sell:\n",
    "* **.6 additional T-shirts** for every dollar spent on sales"
   ]
  },
  {
   "cell_type": "markdown",
   "metadata": {},
   "source": [
    "$ A = \\begin{pmatrix}\n",
    "    200 & 800 \\\\\n",
    "    500 & 600\\\\\n",
    "    1000 & 700\\\\\n",
    "    2000 & 300\\\\\n",
    "    3000 & 100\\\\\n",
    "\\end{pmatrix}$"
   ]
  },
  {
   "cell_type": "markdown",
   "metadata": {},
   "source": [
    "$$200*.35 + .6*800 $$\n",
    "\n",
    "$$500*.35 + .6*600$$\n",
    "\n",
    "$$1000*.35 + .6*700 $$\n",
    "\n",
    "$$2000*.35 + .6*300 $$\n",
    "\n",
    "$$3000*.35 + .6*100 $$"
   ]
  },
  {
   "cell_type": "markdown",
   "metadata": {},
   "source": [
    "### Multiplication with matrices"
   ]
  },
  {
   "cell_type": "markdown",
   "metadata": {},
   "source": [
    "$A \\cdot x =  \\begin{pmatrix}\n",
    "    200 & 800 \\\\\n",
    "    500 & 600\\\\\n",
    "    1000 & 700\\\\\n",
    "    2000 & 300\\\\\n",
    "    3000 & 100\\\\\n",
    "\\end{pmatrix} \\cdot \\begin{pmatrix}\n",
    "    .35 \\\\ .6 \n",
    "\\end{pmatrix} $"
   ]
  },
  {
   "cell_type": "markdown",
   "metadata": {},
   "source": [
    "Doing so, is equivalent to the following:"
   ]
  },
  {
   "cell_type": "markdown",
   "metadata": {},
   "source": [
    "$ A \\cdot x =  \\begin{pmatrix}\n",
    "    200 & 800 \\\\\n",
    "    500 & 600\\\\\n",
    "    1000 & 700\\\\\n",
    "    2000 & 300\\\\\n",
    "    3000 & 100\\\\\n",
    "\\end{pmatrix} \\cdot \\begin{pmatrix}\n",
    "    .35 \\\\ .6 \n",
    "\\end{pmatrix} = .35* \\begin{pmatrix}\n",
    "    200  \\\\\n",
    "    500  \\\\\n",
    "    1000 \\\\\n",
    "    2000 \\\\ \n",
    "    3000 \\\\ \n",
    "\\end{pmatrix} + .6* \\begin{pmatrix}\n",
    "     800 \\\\\n",
    "     600 \\\\\n",
    "     700 \\\\\n",
    "     300 \\\\ \n",
    "     100 \\\\ \n",
    "\\end{pmatrix} $\n",
    "\n"
   ]
  },
  {
   "cell_type": "markdown",
   "metadata": {},
   "source": [
    "### Proving it with code"
   ]
  },
  {
   "cell_type": "markdown",
   "metadata": {},
   "source": [
    "Let's walk through these steps with code.  "
   ]
  },
  {
   "cell_type": "code",
   "execution_count": 73,
   "metadata": {},
   "outputs": [
    {
     "data": {
      "text/plain": [
       "array([ 550.,  535.,  770.,  880., 1110.])"
      ]
     },
     "execution_count": 73,
     "metadata": {},
     "output_type": "execute_result"
    }
   ],
   "source": [
    "import numpy as np\n",
    "x = np.array([.35, .6])\n",
    "A = np.array([\n",
    "    [200, 800],\n",
    "    [500, 600],\n",
    "    [1000, 700],\n",
    "    [2000, 300],\n",
    "    [3000, 100],\n",
    "                 ])\n",
    "# A.dot(x)"
   ]
  },
  {
   "cell_type": "markdown",
   "metadata": {},
   "source": [
    "### Steps of matrix multiplication\n",
    "\n"
   ]
  },
  {
   "cell_type": "markdown",
   "metadata": {},
   "source": [
    "Which is precisely what we calculated before.  "
   ]
  },
  {
   "cell_type": "code",
   "execution_count": null,
   "metadata": {},
   "outputs": [],
   "source": []
  },
  {
   "cell_type": "code",
   "execution_count": null,
   "metadata": {},
   "outputs": [],
   "source": []
  },
  {
   "cell_type": "code",
   "execution_count": null,
   "metadata": {},
   "outputs": [],
   "source": []
  },
  {
   "cell_type": "code",
   "execution_count": null,
   "metadata": {},
   "outputs": [],
   "source": []
  },
  {
   "cell_type": "code",
   "execution_count": null,
   "metadata": {},
   "outputs": [],
   "source": []
  },
  {
   "cell_type": "markdown",
   "metadata": {},
   "source": [
    "## Our steps from before"
   ]
  },
  {
   "cell_type": "markdown",
   "metadata": {},
   "source": [
    "$A \\cdot x =  \\begin{pmatrix}\n",
    "    200 & 800 \\\\\n",
    "    500 & 600\\\\\n",
    "    1000 & 700\\\\\n",
    "    2000 & 300\\\\\n",
    "    3000 & 100\\\\\n",
    "\\end{pmatrix} \\cdot \\begin{pmatrix}\n",
    "    .35 \\\\ .6 \n",
    "\\end{pmatrix} = .35* \\begin{pmatrix}\n",
    "    200  \\\\\n",
    "    500  \\\\\n",
    "    1000 \\\\\n",
    "    2000 \\\\ \n",
    "    3000 \\\\ \n",
    "\\end{pmatrix} + .6* \\begin{pmatrix}\n",
    "     800 \\\\\n",
    "     600 \\\\\n",
    "     700 \\\\\n",
    "     300 \\\\ \n",
    "     100 \\\\ \n",
    "\\end{pmatrix}  = \\begin{pmatrix}\n",
    "     70 \\\\\n",
    "     175 \\\\\n",
    "     350 \\\\\n",
    "     700 \\\\ \n",
    "     1050 \\\\ \n",
    "\\end{pmatrix} +  \\begin{pmatrix}\n",
    "     480 \\\\\n",
    "     360 \\\\\n",
    "     420 \\\\\n",
    "     180 \\\\ \n",
    "     60 \\\\ \n",
    "\\end{pmatrix} = \n",
    "\\begin{pmatrix}\n",
    "     550 \\\\\n",
    "     535 \\\\\n",
    "     770 \\\\\n",
    "     880 \\\\ \n",
    "     1010 \\\\ \n",
    "\\end{pmatrix}\n",
    "$"
   ]
  },
  {
   "cell_type": "markdown",
   "metadata": {},
   "source": [
    "## Now visually"
   ]
  },
  {
   "cell_type": "markdown",
   "metadata": {},
   "source": [
    "|ad spending    |sales spending    | \n",
    "| :-------------:|:-------------:|\n",
    "|    200        |800        |\n",
    "|    500        |600        |"
   ]
  },
  {
   "cell_type": "markdown",
   "metadata": {},
   "source": [
    "$A \\cdot x =  \\begin{pmatrix}\n",
    "    200 & 800 \\\\\n",
    "    500 & 600\\\\\n",
    "\\end{pmatrix} \\cdot \\begin{pmatrix}\n",
    "    .35 \\\\ .6 \n",
    "\\end{pmatrix} = .35* \\begin{pmatrix}\n",
    "    200  \\\\\n",
    "    500  \\\\\n",
    "\\end{pmatrix} + .6* \\begin{pmatrix}\n",
    "     800 \\\\\n",
    "     600 \\\\\n",
    "\\end{pmatrix}  = \\begin{pmatrix}\n",
    "     70 \\\\\n",
    "     175 \\\\\n",
    "\\end{pmatrix} +  \\begin{pmatrix}\n",
    "     480 \\\\\n",
    "     360 \\\\\n",
    "\\end{pmatrix} = \n",
    "\\begin{pmatrix}\n",
    "     550 \\\\\n",
    "     535 \\\\\n",
    "\\end{pmatrix}\n",
    "$"
   ]
  },
  {
   "cell_type": "markdown",
   "metadata": {},
   "source": [
    "Which visually looks like the following:"
   ]
  },
  {
   "cell_type": "markdown",
   "metadata": {},
   "source": [
    "### Step 1"
   ]
  },
  {
   "cell_type": "code",
   "execution_count": 2,
   "metadata": {},
   "outputs": [],
   "source": [
    "import numpy as np\n",
    "A = np.array([[200, 800],\n",
    "             [500, 600]])"
   ]
  },
  {
   "cell_type": "markdown",
   "metadata": {},
   "source": [
    "$ a_1 = \\begin{pmatrix}\n",
    "    200  \\\\\n",
    "    500 \\\\\n",
    "\\end{pmatrix} ,$\n",
    "$ a_2 = \\begin{pmatrix}\n",
    "     800 \\\\\n",
    "     600\\\\\n",
    "\\end{pmatrix}\n",
    "$"
   ]
  },
  {
   "cell_type": "code",
   "execution_count": 10,
   "metadata": {},
   "outputs": [],
   "source": [
    "from graph import vector_trace, plot\n",
    "layout = {'xaxis': {'range': [0, 850]}, 'yaxis': {'range': [0, 650]}}"
   ]
  },
  {
   "cell_type": "markdown",
   "metadata": {},
   "source": [
    "### Step 2"
   ]
  },
  {
   "cell_type": "markdown",
   "metadata": {},
   "source": [
    "$.60*\\begin{pmatrix}\n",
    "     800 \\\\\n",
    "     600\\\\\n",
    "\\end{pmatrix} = \\begin{pmatrix}\n",
    "     480 \\\\\n",
    "     360\\\\\n",
    "\\end{pmatrix}$    "
   ]
  },
  {
   "cell_type": "markdown",
   "metadata": {},
   "source": [
    "### Step 3"
   ]
  },
  {
   "cell_type": "markdown",
   "metadata": {},
   "source": [
    "$A \\cdot x =  \\begin{pmatrix}\n",
    "    200 & 800 \\\\\n",
    "    500 & 600\\\\\n",
    "\\end{pmatrix} \\cdot \\begin{pmatrix}\n",
    "    .35 \\\\ .6 \n",
    "\\end{pmatrix} = .35* \\begin{pmatrix}\n",
    "    200  \\\\\n",
    "    500  \\\\\n",
    "\\end{pmatrix} + .6* \\begin{pmatrix}\n",
    "     800 \\\\\n",
    "     600 \\\\\n",
    "\\end{pmatrix}  = \\begin{pmatrix}\n",
    "     70 \\\\\n",
    "     175 \\\\\n",
    "\\end{pmatrix} +  \\begin{pmatrix}\n",
    "     480 \\\\\n",
    "     360 \\\\\n",
    "\\end{pmatrix} \n",
    "$"
   ]
  },
  {
   "cell_type": "code",
   "execution_count": 11,
   "metadata": {},
   "outputs": [],
   "source": [
    "from graph import plus_trace"
   ]
  }
 ],
 "metadata": {
  "kernelspec": {
   "display_name": "Python 3",
   "language": "python",
   "name": "python3"
  },
  "language_info": {
   "codemirror_mode": {
    "name": "ipython",
    "version": 3
   },
   "file_extension": ".py",
   "mimetype": "text/x-python",
   "name": "python",
   "nbconvert_exporter": "python",
   "pygments_lexer": "ipython3",
   "version": "3.7.3"
  }
 },
 "nbformat": 4,
 "nbformat_minor": 2
}
