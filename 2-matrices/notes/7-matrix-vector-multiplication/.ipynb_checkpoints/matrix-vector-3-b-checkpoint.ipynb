{
 "cells": [
  {
   "cell_type": "markdown",
   "metadata": {},
   "source": [
    "### Step Two: Then scale each of the vectors by the respective coefficients"
   ]
  },
  {
   "cell_type": "markdown",
   "metadata": {},
   "source": [
    "$.35*\\begin{pmatrix}\n",
    "    200  \\\\\n",
    "    500 \\\\\n",
    "\\end{pmatrix} = \\begin{pmatrix}\n",
    "    70  \\\\\n",
    "    175 \\\\\n",
    "\\end{pmatrix} $"
   ]
  },
  {
   "cell_type": "code",
   "execution_count": 53,
   "metadata": {},
   "outputs": [
    {
     "data": {
      "text/plain": [
       "array([ 70., 175.])"
      ]
     },
     "execution_count": 53,
     "metadata": {},
     "output_type": "execute_result"
    }
   ],
   "source": [
    "import numpy as np\n",
    "x = np.array([.35, .60])\n",
    "scaled_a1 = a1*x[0]\n",
    "scaled_a1"
   ]
  },
  {
   "cell_type": "markdown",
   "metadata": {},
   "source": [
    "$.60*\\begin{pmatrix}\n",
    "     800 \\\\\n",
    "     600\\\\\n",
    "\\end{pmatrix} = \\begin{pmatrix}\n",
    "     480 \\\\\n",
    "     360\\\\\n",
    "\\end{pmatrix}$    "
   ]
  },
  {
   "cell_type": "code",
   "execution_count": 55,
   "metadata": {},
   "outputs": [
    {
     "data": {
      "text/plain": [
       "array([480., 360.])"
      ]
     },
     "execution_count": 55,
     "metadata": {},
     "output_type": "execute_result"
    }
   ],
   "source": [
    "import numpy as np\n",
    "x = np.array([.35, .60])\n",
    "scaled_a2 = a2*x[1]\n",
    "scaled_a2"
   ]
  }
 ],
 "metadata": {
  "kernelspec": {
   "display_name": "Python 3",
   "language": "python",
   "name": "python3"
  },
  "language_info": {
   "codemirror_mode": {
    "name": "ipython",
    "version": 3
   },
   "file_extension": ".py",
   "mimetype": "text/x-python",
   "name": "python",
   "nbconvert_exporter": "python",
   "pygments_lexer": "ipython3",
   "version": "3.7.3"
  }
 },
 "nbformat": 4,
 "nbformat_minor": 2
}
