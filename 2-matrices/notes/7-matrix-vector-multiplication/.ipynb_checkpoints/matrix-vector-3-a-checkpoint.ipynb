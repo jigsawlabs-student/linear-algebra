{
 "cells": [
  {
   "cell_type": "markdown",
   "metadata": {},
   "source": [
    "### Visual Multiplication"
   ]
  },
  {
   "cell_type": "markdown",
   "metadata": {},
   "source": [
    "Visually, and conceptually, matrix vector multiplication is just a combination of what we learned before: scaling  and then then adding.  Because it's easier to understand two-dimensional visualizations, let's just look at our first two combinations of ad spending and sales spending."
   ]
  },
  {
   "cell_type": "markdown",
   "metadata": {},
   "source": [
    "|ad spending    |sales spending    | \n",
    "| :-------------:|:-------------:|\n",
    "|    200        |800        |\n",
    "|    500        |600        |"
   ]
  },
  {
   "cell_type": "markdown",
   "metadata": {},
   "source": [
    "As we know, when we perform matrix vector multiplication, we are really just scaling two vectors and then adding them together."
   ]
  },
  {
   "cell_type": "markdown",
   "metadata": {},
   "source": [
    "$A \\cdot x =  \\begin{pmatrix}\n",
    "    200 & 800 \\\\\n",
    "    500 & 600\\\\\n",
    "\\end{pmatrix} \\cdot \\begin{pmatrix}\n",
    "    .35 \\\\ .6 \n",
    "\\end{pmatrix} = .35* \\begin{pmatrix}\n",
    "    200  \\\\\n",
    "    500  \\\\\n",
    "\\end{pmatrix} + .6* \\begin{pmatrix}\n",
    "     800 \\\\\n",
    "     600 \\\\\n",
    "\\end{pmatrix}  = \\begin{pmatrix}\n",
    "     70 \\\\\n",
    "     175 \\\\\n",
    "\\end{pmatrix} +  \\begin{pmatrix}\n",
    "     480 \\\\\n",
    "     360 \\\\\n",
    "\\end{pmatrix} = \n",
    "\\begin{pmatrix}\n",
    "     550 \\\\\n",
    "     535 \\\\\n",
    "\\end{pmatrix}\n",
    "$"
   ]
  },
  {
   "cell_type": "markdown",
   "metadata": {},
   "source": [
    "Which visually looks like the following:"
   ]
  },
  {
   "cell_type": "code",
   "execution_count": 45,
   "metadata": {},
   "outputs": [],
   "source": [
    "import numpy as np\n",
    "A = np.array([[200, 800],\n",
    "             [500, 600]])"
   ]
  },
  {
   "cell_type": "markdown",
   "metadata": {},
   "source": [
    "### Step one: First split apart the matrix into the respective columns"
   ]
  },
  {
   "cell_type": "code",
   "execution_count": 50,
   "metadata": {},
   "outputs": [
    {
     "data": {
      "text/plain": [
       "array([200, 500])"
      ]
     },
     "execution_count": 50,
     "metadata": {},
     "output_type": "execute_result"
    }
   ],
   "source": [
    "a1 = A[:, 0]\n",
    "a1"
   ]
  },
  {
   "cell_type": "code",
   "execution_count": 51,
   "metadata": {},
   "outputs": [
    {
     "data": {
      "text/plain": [
       "array([800, 600])"
      ]
     },
     "execution_count": 51,
     "metadata": {},
     "output_type": "execute_result"
    }
   ],
   "source": [
    "a2 = A[:, 1]\n",
    "a2"
   ]
  },
  {
   "cell_type": "markdown",
   "metadata": {},
   "source": [
    "$ a_1 = \\begin{pmatrix}\n",
    "    200  \\\\\n",
    "    500 \\\\\n",
    "\\end{pmatrix} ,$\n",
    "$ a_2 = \\begin{pmatrix}\n",
    "     800 \\\\\n",
    "     600\\\\\n",
    "\\end{pmatrix}\n",
    "$"
   ]
  }
 ],
 "metadata": {
  "kernelspec": {
   "display_name": "Python 3",
   "language": "python",
   "name": "python3"
  },
  "language_info": {
   "codemirror_mode": {
    "name": "ipython",
    "version": 3
   },
   "file_extension": ".py",
   "mimetype": "text/x-python",
   "name": "python",
   "nbconvert_exporter": "python",
   "pygments_lexer": "ipython3",
   "version": "3.7.3"
  }
 },
 "nbformat": 4,
 "nbformat_minor": 2
}
