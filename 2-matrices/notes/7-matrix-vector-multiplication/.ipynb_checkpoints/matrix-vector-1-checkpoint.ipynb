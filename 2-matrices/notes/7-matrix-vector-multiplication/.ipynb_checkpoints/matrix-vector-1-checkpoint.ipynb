{
 "cells": [
  {
   "cell_type": "markdown",
   "metadata": {},
   "source": [
    "### Our Scenario with Matrices"
   ]
  },
  {
   "cell_type": "markdown",
   "metadata": {},
   "source": [
    "Once again, we have already fit our linear regression model.  This time, we predict that we will sell:\n",
    "* **.35 additional T-shirts** for every dollar spent on advertising\n",
    "\n",
    "Sales spending is our budget for having salespeople walk around or store selling T-shirts. We predict that we will sell:\n",
    "* **.6 additional T-shirts** for every dollar spent on sales"
   ]
  },
  {
   "cell_type": "markdown",
   "metadata": {},
   "source": [
    "The marketing department would like us to predict the number of T-shirts that will be sold if any of the following mixes of spending on advertising and sales people are pursued."
   ]
  },
  {
   "cell_type": "markdown",
   "metadata": {},
   "source": [
    "|ad spending    |sales spending    | \n",
    "| :-------------:|:-------------:|\n",
    "|    200        |800        |\n",
    "|    500        |600        |\n",
    "|    1000      | 700      | \n",
    "|    2000      | 300      | \n",
    "|    3000      | 100      | "
   ]
  },
  {
   "cell_type": "markdown",
   "metadata": {},
   "source": [
    "$ A = \\begin{pmatrix}\n",
    "    200 & 800 \\\\\n",
    "    500 & 600\\\\\n",
    "    1000 & 700\\\\\n",
    "    2000 & 300\\\\\n",
    "    3000 & 100\\\\\n",
    "\\end{pmatrix}$"
   ]
  },
  {
   "cell_type": "markdown",
   "metadata": {},
   "source": [
    "Below we let our coefficients equal $.35$ and $.6$, as this is what we calculated when we performed our linear regression model.  So this translates into the following expressions."
   ]
  },
  {
   "cell_type": "markdown",
   "metadata": {},
   "source": [
    "$$200*.35 + .6*800 $$\n",
    "\n",
    "$$500*.35 + .6*600$$\n",
    "\n",
    "$$1000*.35 + .6*700 $$\n",
    "\n",
    "$$2000*.35 + .6*300 $$\n",
    "\n",
    "$$3000*.35 + .6*100 $$"
   ]
  },
  {
   "cell_type": "markdown",
   "metadata": {},
   "source": [
    "Next, we need to see how to write these expressions using our matrix that we defined above."
   ]
  }
 ],
 "metadata": {
  "kernelspec": {
   "display_name": "Python 3",
   "language": "python",
   "name": "python3"
  },
  "language_info": {
   "codemirror_mode": {
    "name": "ipython",
    "version": 3
   },
   "file_extension": ".py",
   "mimetype": "text/x-python",
   "name": "python",
   "nbconvert_exporter": "python",
   "pygments_lexer": "ipython3",
   "version": "3.7.3"
  }
 },
 "nbformat": 4,
 "nbformat_minor": 2
}
