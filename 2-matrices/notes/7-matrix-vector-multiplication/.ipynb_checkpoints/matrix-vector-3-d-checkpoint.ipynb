{
 "cells": [
  {
   "cell_type": "markdown",
   "metadata": {},
   "source": [
    "### Summary"
   ]
  },
  {
   "cell_type": "markdown",
   "metadata": {},
   "source": [
    "In this lesson, we saw the components involved in vector matrix multiplication.  Vector matrix multiplication is performed by the following: \n",
    "\n",
    "1. Treating the columns of a matrix as separate columns, \n",
    "2. Scaling each column by the respective entry in the multiplying vector.  \n",
    "3. Adding the scaled columns together \n",
    "\n",
    "We used this to predict the T-shirt sales from different combinations of ad spending and sales person spending, after we had already determined the coefficients for each."
   ]
  }
 ],
 "metadata": {
  "kernelspec": {
   "display_name": "Python 3",
   "language": "python",
   "name": "python3"
  },
  "language_info": {
   "codemirror_mode": {
    "name": "ipython",
    "version": 3
   },
   "file_extension": ".py",
   "mimetype": "text/x-python",
   "name": "python",
   "nbconvert_exporter": "python",
   "pygments_lexer": "ipython3",
   "version": "3.7.3"
  }
 },
 "nbformat": 4,
 "nbformat_minor": 2
}
