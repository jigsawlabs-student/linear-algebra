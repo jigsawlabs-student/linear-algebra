{
 "cells": [
  {
   "cell_type": "markdown",
   "metadata": {},
   "source": [
    "### Specifying entries of a matrix"
   ]
  },
  {
   "cell_type": "markdown",
   "metadata": {},
   "source": [
    "This is how we can describe the entries of a matrix."
   ]
  },
  {
   "cell_type": "markdown",
   "metadata": {},
   "source": [
    "$ \n",
    "C = \\left[\\begin{array}{cccc} \n",
    "C_{11} & C_{12} & \\cdots & C_{1n} \\\\ \n",
    "C_{21} & C_{22} & \\cdots & C_{2n} \\\\ \n",
    "\\vdots & \\vdots & \\ddots & \\vdots \\\\ \n",
    "C_{m1} & C_{m2} & \\cdots & C_{mn}\n",
    "\\end{array} \\right ] $ "
   ]
  },
  {
   "cell_type": "markdown",
   "metadata": {},
   "source": [
    "As you can see, the first number indicates the row of our entry, and the second number represents the column of a matrix."
   ]
  },
  {
   "cell_type": "markdown",
   "metadata": {},
   "source": [
    "Let's go back to our original matrix $A$ and specify some of the entries."
   ]
  },
  {
   "cell_type": "markdown",
   "metadata": {},
   "source": [
    "$A =  \\begin{pmatrix}\n",
    "800 & 13  \\\\\n",
    "1500 & 11 \\\\\n",
    "2000 & 9 \\\\\n",
    "3500 & 10 \\\\\n",
    "4000 & 8 \\\\\n",
    "\\end{pmatrix}$ "
   ]
  },
  {
   "cell_type": "markdown",
   "metadata": {},
   "source": [
    "So if we like to specify the number 9 in our matrix $A$, we can do so just by specifying the row followed by the column: \n",
    "\n",
    "$$ A_{32} = 9$$"
   ]
  },
  {
   "cell_type": "markdown",
   "metadata": {},
   "source": [
    "To describe the entire matrix, A, we would say $A \\in \\mathbb{R}^{5x2}.$ "
   ]
  }
 ],
 "metadata": {
  "kernelspec": {
   "display_name": "Python 3",
   "language": "python",
   "name": "python3"
  },
  "language_info": {
   "codemirror_mode": {
    "name": "ipython",
    "version": 3
   },
   "file_extension": ".py",
   "mimetype": "text/x-python",
   "name": "python",
   "nbconvert_exporter": "python",
   "pygments_lexer": "ipython3",
   "version": "3.7.3"
  }
 },
 "nbformat": 4,
 "nbformat_minor": 2
}
