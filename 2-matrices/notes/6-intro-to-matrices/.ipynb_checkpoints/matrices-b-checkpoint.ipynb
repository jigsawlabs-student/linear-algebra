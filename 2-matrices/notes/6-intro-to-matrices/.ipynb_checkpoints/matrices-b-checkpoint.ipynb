{
 "cells": [
  {
   "cell_type": "markdown",
   "metadata": {},
   "source": [
    "### Introduction to matrices"
   ]
  },
  {
   "cell_type": "markdown",
   "metadata": {},
   "source": [
    "> A **matrix** is a rectangular array  of values, arranged in rows and columns."
   ]
  },
  {
   "cell_type": "markdown",
   "metadata": {},
   "source": [
    "By convention, we use a capitalized variable to represent a matrix, as opposed to conventionally using lower case variables to describe a vector.  "
   ]
  },
  {
   "cell_type": "markdown",
   "metadata": {},
   "source": [
    "Just like with a vector, we can describe a matrix by it's dimensions.  For example, we can represent the matrix A above as the following:\n",
    "\n",
    "$$A \\in \\mathbb{R}^{5x2}$$"
   ]
  },
  {
   "cell_type": "markdown",
   "metadata": {},
   "source": [
    "where 5 represents the number of rows and two represents the number of columns."
   ]
  },
  {
   "cell_type": "markdown",
   "metadata": {},
   "source": [
    "To describe matrices in general we say that:\n",
    "* $A \\in \\mathbb{R}^{mxn}$ where $m$ is the number of rows of the matrix and $n$ is the number of columns."
   ]
  }
 ],
 "metadata": {
  "kernelspec": {
   "display_name": "Python 3",
   "language": "python",
   "name": "python3"
  },
  "language_info": {
   "codemirror_mode": {
    "name": "ipython",
    "version": 3
   },
   "file_extension": ".py",
   "mimetype": "text/x-python",
   "name": "python",
   "nbconvert_exporter": "python",
   "pygments_lexer": "ipython3",
   "version": "3.7.3"
  }
 },
 "nbformat": 4,
 "nbformat_minor": 2
}
