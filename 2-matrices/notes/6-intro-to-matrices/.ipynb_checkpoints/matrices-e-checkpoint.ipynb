{
 "cells": [
  {
   "cell_type": "markdown",
   "metadata": {},
   "source": [
    "## Summary"
   ]
  },
  {
   "cell_type": "markdown",
   "metadata": {},
   "source": [
    "In this lesson, we learned about working with matrices.  We saw that matrices are a rectangular array of values consisting of both rows and columns.  We often represent our set of feature variables as a matrix, with each row representing an observation, and each column a separate feature.  We saw that we can describe a particular entry in a matrix by first specifying the row of a matrix and then the column.  \n",
    "\n",
    "We saw that we can create a matrix in numpy by passing through a nested list to the `np.array` method.  We can then select entries by specifying the row followed by the column of the desired entry.  Or if we wish to select all entries from a row or column, instead of specifying an index, we instead use the `:`."
   ]
  }
 ],
 "metadata": {
  "kernelspec": {
   "display_name": "Python 3",
   "language": "python",
   "name": "python3"
  },
  "language_info": {
   "codemirror_mode": {
    "name": "ipython",
    "version": 3
   },
   "file_extension": ".py",
   "mimetype": "text/x-python",
   "name": "python",
   "nbconvert_exporter": "python",
   "pygments_lexer": "ipython3",
   "version": "3.7.3"
  }
 },
 "nbformat": 4,
 "nbformat_minor": 2
}
