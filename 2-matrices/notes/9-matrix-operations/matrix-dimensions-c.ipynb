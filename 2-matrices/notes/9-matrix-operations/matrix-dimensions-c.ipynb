{
 "cells": [
  {
   "cell_type": "markdown",
   "metadata": {},
   "source": [
    "### Summary"
   ]
  },
  {
   "cell_type": "markdown",
   "metadata": {},
   "source": [
    "In this lesson, we learned that whether or not certain operations can be performed depend on the dimensions of the matrices or vectors we are working with.\n",
    "\n",
    "* To add two vectors or two matrices together, they must have the same shape.\n",
    "* In multiplying two matrices together or a matrix and a vector, the number columns of the first matrix must equal the number of rows of the second matrix\n",
    "* In multiplying two matrices or a matrix and a vector together the dimensions of the resulting matrix will be the rows of the first matrix and the columns of the second. "
   ]
  }
 ],
 "metadata": {
  "kernelspec": {
   "display_name": "Python 3",
   "language": "python",
   "name": "python3"
  },
  "language_info": {
   "codemirror_mode": {
    "name": "ipython",
    "version": 3
   },
   "file_extension": ".py",
   "mimetype": "text/x-python",
   "name": "python",
   "nbconvert_exporter": "python",
   "pygments_lexer": "ipython3",
   "version": "3.7.3"
  }
 },
 "nbformat": 4,
 "nbformat_minor": 2
}
